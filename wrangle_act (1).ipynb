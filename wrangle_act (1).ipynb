{
 "cells": [
  {
   "cell_type": "markdown",
   "metadata": {},
   "source": [
    "# Gather"
   ]
  },
  {
   "cell_type": "markdown",
   "metadata": {},
   "source": [
    "## File on hand\n",
    "The WeRateDogs Twitter archive. I am giving this file to you, so imagine it as a file on hand. Download this file manually by clicking the following link: twitter_archive_enhanced.csv"
   ]
  },
  {
   "cell_type": "code",
   "execution_count": 1,
   "metadata": {},
   "outputs": [],
   "source": [
    "import pandas as pd"
   ]
  },
  {
   "cell_type": "code",
   "execution_count": 2,
   "metadata": {},
   "outputs": [],
   "source": [
    "#The WeRateDogs twitter archive\n",
    "twitter_archive = pd.read_csv('twitter-archive-enhanced.csv')"
   ]
  },
  {
   "cell_type": "markdown",
   "metadata": {},
   "source": [
    "## Requesting a file from a server\n",
    "The tweet image predictions, i.e., what breed of dog (or other object, animal, etc.) is present in each tweet according to a neural network. This file (image_predictions.tsv) is hosted on Udacity's servers and should be downloaded programmatically using the Requests library and the following URL: https://d17h27t6h515a5.cloudfront.net/topher/2017/August/599fd2ad_image-predictions/image-predictions.tsv\n"
   ]
  },
  {
   "cell_type": "code",
   "execution_count": 3,
   "metadata": {},
   "outputs": [],
   "source": [
    "import requests\n",
    "import os"
   ]
  },
  {
   "cell_type": "code",
   "execution_count": 4,
   "metadata": {},
   "outputs": [],
   "source": [
    "#tweet image predictions\n",
    "url = 'https://d17h27t6h515a5.cloudfront.net/topher/2017/August/599fd2ad_image-predictions/image-predictions.tsv'\n",
    "response = requests.get(url)"
   ]
  },
  {
   "cell_type": "code",
   "execution_count": 5,
   "metadata": {},
   "outputs": [],
   "source": [
    "#save file to computer\n",
    "with open (os.path.join(url.split('/')[-1]), mode = 'wb') as file:\n",
    "    file.write(response.content)"
   ]
  },
  {
   "cell_type": "code",
   "execution_count": 6,
   "metadata": {},
   "outputs": [],
   "source": [
    "#make it into a dataframe\n",
    "tweet_image_predictions = pd.read_csv('image-predictions.tsv', sep= '\\t')"
   ]
  },
  {
   "cell_type": "markdown",
   "metadata": {},
   "source": [
    "# Gathering data using Twitter's API"
   ]
  },
  {
   "cell_type": "markdown",
   "metadata": {},
   "source": [
    "Each tweet's retweet count and favorite (\"like\") count at minimum, and any additional data you find interesting. Using the tweet IDs in the WeRateDogs Twitter archive, query the Twitter API for each tweet's JSON data using Python's Tweepy library and store each tweet's entire set of JSON data in a file called tweet_json.txt file. Each tweet's JSON data should be written to its own line. Then read this .txt file line by line into a pandas DataFrame with (at minimum) tweet ID, retweet count, and favorite count. Note: do not include your Twitter API keys, secrets, and tokens in your project submission.\n",
    "\n",
    "Note: also using this dataframe to collect missing data from the twitter_archive (expanded_urls) and getting the proper format for in_reply_to_status_id and in_reply_to_user_id.  They are floats in the twitter_archive and they are being presented in scientific notation.  Collecting the string version of them and will keep them as strings since we will not be doing calculations with them."
   ]
  },
  {
   "cell_type": "code",
   "execution_count": 7,
   "metadata": {},
   "outputs": [],
   "source": [
    "import tweepy\n",
    "consumer_key= KEY\n",
    "consumer_secret = SECRET\n",
    "access_token= TOKEN\n",
    "access_token_secret = TOKEN_SECRET\n",
    "auth = tweepy.OAuthHandler(consumer_key, consumer_secret\n",
    "                           )\n",
    "auth.set_access_token(access_token, access_token_secret \n",
    "                      )\n",
    "\n",
    "api = tweepy.API(auth, wait_on_rate_limit = True, wait_on_rate_limit_notify=True)"
   ]
  },
  {
   "cell_type": "code",
   "execution_count": 7,
   "metadata": {},
   "outputs": [],
   "source": [
    "import numpy as np\n",
    "import json"
   ]
  },
  {
   "cell_type": "code",
   "execution_count": 9,
   "metadata": {},
   "outputs": [
    {
     "name": "stdout",
     "output_type": "stream",
     "text": [
      "Rate limit reached. Sleeping for: 717\n",
      "Rate limit reached. Sleeping for: 715\n"
     ]
    }
   ],
   "source": [
    "tweet_ids = twitter_archive['tweet_id']\n",
    "error_ids = []\n",
    "for tweet_id in np.nditer(tweet_ids):\n",
    "    try:\n",
    "        tweet = api.get_status(tweet_id, tweet_mode = 'extended')\n",
    "        \n",
    "        with open('tweet_json.txt', 'a') as file:  \n",
    "            json.dump(tweet._json, file)\n",
    "            file.write('\\n')\n",
    "             \n",
    "        print(tweet_id)\n",
    "    except:\n",
    "        error_ids.append(tweet_id)"
   ]
  },
  {
   "cell_type": "code",
   "execution_count": 8,
   "metadata": {},
   "outputs": [
    {
     "data": {
      "text/plain": [
       "10"
      ]
     },
     "execution_count": 8,
     "metadata": {},
     "output_type": "execute_result"
    }
   ],
   "source": [
    "error_ids=[888202515573088257, 873697596434513921, 869988702071779329, 866816280283807744, 861769973181624320, \n",
    "           842892208864923648, 837012587749474308, 827228250799742977, 802247111496568832, 775096608509886464]\n",
    "\n",
    "len(error_ids)"
   ]
  },
  {
   "cell_type": "code",
   "execution_count": 9,
   "metadata": {},
   "outputs": [],
   "source": [
    "data = []\n",
    "with open('tweet_json.txt') as f:\n",
    "    for line in f:\n",
    "        data.append(json.loads(line))\n"
   ]
  },
  {
   "cell_type": "code",
   "execution_count": 10,
   "metadata": {},
   "outputs": [],
   "source": [
    "rows_list = []\n",
    "for i in range(len(data)):\n",
    "    json = data[i]\n",
    "    dict1 = {}\n",
    "    try:\n",
    "        dict1['id']=json['id']\n",
    "    except:\n",
    "        dict1['id'] = None\n",
    "    \n",
    "    try:\n",
    "        dict1['favorite_count']=json['favorite_count']\n",
    "    except:\n",
    "        dict1['favorite_count'] = None\n",
    "    \n",
    "    try:\n",
    "        dict1['retweet_count']=json['retweet_count']\n",
    "    except:\n",
    "        dict1['retweet_count'] = None\n",
    "    \n",
    "    #choose to see how many followers the WeRateDogs account has\n",
    "    try:\n",
    "        dict1['followers_count']=json['user']['followers_count']\n",
    "    except:\n",
    "        dict1['followers_count'] = None\n",
    "    \n",
    "    #choose to see if the timestamp from the twitter_archive is the same\n",
    "    try:    \n",
    "        dict1['timestamp'] = json['created_at']\n",
    "    except:\n",
    "        dict1['id'] = None\n",
    "        \n",
    "    #choose to fill in the missing expanded_urls from the twitter_archive data set.\n",
    "    try:\n",
    "        dict1['expanded_url']= json.get('entities').get('media')[0].get('expanded_url')\n",
    "    except:\n",
    "        dict1['expanded_url']=None\n",
    "    #choose because the in_reply_to_status_ids and user_ids were stored as floats and are in scientific notation.\n",
    "    try:\n",
    "        dict1['in_reply_to_status_id']= json['in_reply_to_status_id_str']\n",
    "    except:\n",
    "        dict1['in_reply_to_status_id']=None \n",
    "    \n",
    "    try:\n",
    "        dict1['in_reply_to_user_id']= json['in_reply_to_user_id_str'] \n",
    "    except:\n",
    "        dict1['in_reply_to_user_id']=None\n",
    "    rows_list.append(dict1)\n",
    "\n",
    "tweet_counts = pd.DataFrame(rows_list)"
   ]
  },
  {
   "cell_type": "markdown",
   "metadata": {},
   "source": [
    "## Assess\n",
    "\n",
    "### twitter_archive"
   ]
  },
  {
   "cell_type": "code",
   "execution_count": 11,
   "metadata": {},
   "outputs": [
    {
     "name": "stdout",
     "output_type": "stream",
     "text": [
      "<class 'pandas.core.frame.DataFrame'>\n",
      "RangeIndex: 2356 entries, 0 to 2355\n",
      "Data columns (total 17 columns):\n",
      "tweet_id                      2356 non-null int64\n",
      "in_reply_to_status_id         78 non-null float64\n",
      "in_reply_to_user_id           78 non-null float64\n",
      "timestamp                     2356 non-null object\n",
      "source                        2356 non-null object\n",
      "text                          2356 non-null object\n",
      "retweeted_status_id           181 non-null float64\n",
      "retweeted_status_user_id      181 non-null float64\n",
      "retweeted_status_timestamp    181 non-null object\n",
      "expanded_urls                 2297 non-null object\n",
      "rating_numerator              2356 non-null int64\n",
      "rating_denominator            2356 non-null int64\n",
      "name                          2356 non-null object\n",
      "doggo                         2356 non-null object\n",
      "floofer                       2356 non-null object\n",
      "pupper                        2356 non-null object\n",
      "puppo                         2356 non-null object\n",
      "dtypes: float64(4), int64(3), object(10)\n",
      "memory usage: 313.0+ KB\n"
     ]
    }
   ],
   "source": [
    "twitter_archive.info()"
   ]
  },
  {
   "cell_type": "markdown",
   "metadata": {},
   "source": [
    "Column meanings for Tweet JSON data found at: https://developer.twitter.com/en/docs/tweets/data-dictionary/overview/intro-to-tweet-json\n",
    "\n",
    "#### Tweet JSON data\n",
    "tweet_id =The integer representation of the unique identifier for this Tweet. \n",
    "\n",
    "in_reply_to_status_id =  If the represented Tweet is a reply, this field will contain the integer representation of the original Tweet’s ID.\n",
    "\n",
    "in_reply_to_user_id =  If the represented Tweet is a reply, this field will contain the integer representation of the original Tweet’s author ID. This will not necessarily always be the user directly mentioned in the Tweet.\n",
    "\n",
    "timestamp = time tweet was posted. modified created_at object.  Modified to YYYY-MM-DD HH:mm:ss\n",
    "\n",
    "source = Utility used to post the Tweet, as an HTML-formatted string. Tweets from the Twitter website have a source value of web.\n",
    "\n",
    "text = The actual UTF-8 text of the status update. See twitter-text for details on what characters are currently considered valid\n",
    "\n",
    "retweeted_status =Users can amplify the broadcast of Tweets authored by other users by retweeting . Retweets can be distinguished from typical Tweets by the existence of a retweeted_status attribute. This attribute contains a representation of the original Tweet that was retweeted. Note that retweets of retweets do not show representations of the intermediary retweet, but only the original Tweet. (Users can also unretweet a retweet they created by deleting their retweet.) \n",
    "    retweeted_status_id = \n",
    "    retweeted_status_user_id = \n",
    "    retweeted_status_timestamp = \n",
    "\n",
    "expanded_urls = url for the tweet.\n",
    "\n",
    "### extracted data from tweet text\n",
    "rating_numerator = \n",
    "rating_denominator=\n",
    "name = \n",
    "#### Stages of dog: \n",
    "https://classroom.udacity.com/nanodegrees/nd002/parts/20a33e0b-0f64-41a3-a9d9-c6f1207265c6/modules/14d9f5f1-9e7b-4bfb-97f3-bcdbf4a3699c/lessons/a8085857-3e28-4fc7-aeb8-da64ccbc2e20/concepts/28d4643b-3785-4700-bdee-4e5fc9963576![image.png](attachment:image.png)\n",
    "doggo  \n",
    "floofer  \n",
    "pupper  \n",
    "puppo \n"
   ]
  },
  {
   "cell_type": "code",
   "execution_count": 12,
   "metadata": {},
   "outputs": [
    {
     "data": {
      "text/plain": [
       "10     2333\n",
       "11        3\n",
       "50        3\n",
       "80        2\n",
       "20        2\n",
       "2         1\n",
       "16        1\n",
       "40        1\n",
       "70        1\n",
       "15        1\n",
       "90        1\n",
       "110       1\n",
       "120       1\n",
       "130       1\n",
       "150       1\n",
       "170       1\n",
       "7         1\n",
       "0         1\n",
       "Name: rating_denominator, dtype: int64"
      ]
     },
     "execution_count": 12,
     "metadata": {},
     "output_type": "execute_result"
    }
   ],
   "source": [
    "#checking to see if all rating_denominator is 10.  All ratings are out of ten.\n",
    "twitter_archive['rating_denominator'].value_counts()"
   ]
  },
  {
   "cell_type": "code",
   "execution_count": 13,
   "metadata": {},
   "outputs": [
    {
     "data": {
      "text/plain": [
       "12      558\n",
       "11      464\n",
       "10      461\n",
       "13      351\n",
       "9       158\n",
       "8       102\n",
       "7        55\n",
       "14       54\n",
       "5        37\n",
       "6        32\n",
       "3        19\n",
       "4        17\n",
       "1         9\n",
       "2         9\n",
       "420       2\n",
       "0         2\n",
       "15        2\n",
       "75        2\n",
       "80        1\n",
       "20        1\n",
       "24        1\n",
       "26        1\n",
       "44        1\n",
       "50        1\n",
       "60        1\n",
       "165       1\n",
       "84        1\n",
       "88        1\n",
       "144       1\n",
       "182       1\n",
       "143       1\n",
       "666       1\n",
       "960       1\n",
       "1776      1\n",
       "17        1\n",
       "27        1\n",
       "45        1\n",
       "99        1\n",
       "121       1\n",
       "204       1\n",
       "Name: rating_numerator, dtype: int64"
      ]
     },
     "execution_count": 13,
     "metadata": {},
     "output_type": "execute_result"
    }
   ],
   "source": [
    "twitter_archive['rating_numerator'].value_counts()"
   ]
  },
  {
   "cell_type": "code",
   "execution_count": 14,
   "metadata": {},
   "outputs": [
    {
     "data": {
      "text/plain": [
       "None          745\n",
       "a              55\n",
       "Charlie        12\n",
       "Oliver         11\n",
       "Cooper         11\n",
       "Lucy           11\n",
       "Penny          10\n",
       "Tucker         10\n",
       "Lola           10\n",
       "Winston         9\n",
       "Bo              9\n",
       "the             8\n",
       "Sadie           8\n",
       "Bailey          7\n",
       "Daisy           7\n",
       "Buddy           7\n",
       "an              7\n",
       "Toby            7\n",
       "Bella           6\n",
       "Rusty           6\n",
       "Jax             6\n",
       "Jack            6\n",
       "Scout           6\n",
       "Leo             6\n",
       "Stanley         6\n",
       "Koda            6\n",
       "Oscar           6\n",
       "Dave            6\n",
       "Milo            6\n",
       "Alfie           5\n",
       "             ... \n",
       "Christoper      1\n",
       "Pancake         1\n",
       "Nugget          1\n",
       "Dante           1\n",
       "Burt            1\n",
       "Dudley          1\n",
       "Lucia           1\n",
       "Oddie           1\n",
       "Jangle          1\n",
       "Mojo            1\n",
       "Sundance        1\n",
       "Cermet          1\n",
       "Jazzy           1\n",
       "Brockly         1\n",
       "Hubertson       1\n",
       "Hamrick         1\n",
       "Liam            1\n",
       "Horace          1\n",
       "Nimbus          1\n",
       "Harvey          1\n",
       "Jeb             1\n",
       "Harrison        1\n",
       "Obie            1\n",
       "Kevon           1\n",
       "Barclay         1\n",
       "Leonidas        1\n",
       "Luther          1\n",
       "Nico            1\n",
       "Jordy           1\n",
       "Sweets          1\n",
       "Name: name, Length: 957, dtype: int64"
      ]
     },
     "execution_count": 14,
     "metadata": {},
     "output_type": "execute_result"
    }
   ],
   "source": [
    "#Name check\n",
    "twitter_archive['name'].value_counts()\n"
   ]
  },
  {
   "cell_type": "code",
   "execution_count": 15,
   "metadata": {},
   "outputs": [
    {
     "data": {
      "text/html": [
       "<div>\n",
       "<style>\n",
       "    .dataframe thead tr:only-child th {\n",
       "        text-align: right;\n",
       "    }\n",
       "\n",
       "    .dataframe thead th {\n",
       "        text-align: left;\n",
       "    }\n",
       "\n",
       "    .dataframe tbody tr th {\n",
       "        vertical-align: top;\n",
       "    }\n",
       "</style>\n",
       "<table border=\"1\" class=\"dataframe\">\n",
       "  <thead>\n",
       "    <tr style=\"text-align: right;\">\n",
       "      <th></th>\n",
       "      <th>tweet_id</th>\n",
       "      <th>in_reply_to_status_id</th>\n",
       "      <th>in_reply_to_user_id</th>\n",
       "      <th>timestamp</th>\n",
       "      <th>source</th>\n",
       "      <th>text</th>\n",
       "      <th>retweeted_status_id</th>\n",
       "      <th>retweeted_status_user_id</th>\n",
       "      <th>retweeted_status_timestamp</th>\n",
       "      <th>expanded_urls</th>\n",
       "      <th>rating_numerator</th>\n",
       "      <th>rating_denominator</th>\n",
       "      <th>name</th>\n",
       "      <th>doggo</th>\n",
       "      <th>floofer</th>\n",
       "      <th>pupper</th>\n",
       "      <th>puppo</th>\n",
       "    </tr>\n",
       "  </thead>\n",
       "  <tbody>\n",
       "    <tr>\n",
       "      <th>1487</th>\n",
       "      <td>693095443459342336</td>\n",
       "      <td>NaN</td>\n",
       "      <td>NaN</td>\n",
       "      <td>2016-01-29 15:36:45 +0000</td>\n",
       "      <td>&lt;a href=\"http://twitter.com/download/iphone\" r...</td>\n",
       "      <td>This is Milo. He doesn't understand your fancy...</td>\n",
       "      <td>NaN</td>\n",
       "      <td>NaN</td>\n",
       "      <td>NaN</td>\n",
       "      <td>https://twitter.com/dog_rates/status/693095443...</td>\n",
       "      <td>10</td>\n",
       "      <td>10</td>\n",
       "      <td>Milo</td>\n",
       "      <td>None</td>\n",
       "      <td>None</td>\n",
       "      <td>pupper</td>\n",
       "      <td>None</td>\n",
       "    </tr>\n",
       "  </tbody>\n",
       "</table>\n",
       "</div>"
      ],
      "text/plain": [
       "                tweet_id  in_reply_to_status_id  in_reply_to_user_id  \\\n",
       "1487  693095443459342336                    NaN                  NaN   \n",
       "\n",
       "                      timestamp  \\\n",
       "1487  2016-01-29 15:36:45 +0000   \n",
       "\n",
       "                                                 source  \\\n",
       "1487  <a href=\"http://twitter.com/download/iphone\" r...   \n",
       "\n",
       "                                                   text  retweeted_status_id  \\\n",
       "1487  This is Milo. He doesn't understand your fancy...                  NaN   \n",
       "\n",
       "      retweeted_status_user_id retweeted_status_timestamp  \\\n",
       "1487                       NaN                        NaN   \n",
       "\n",
       "                                          expanded_urls  rating_numerator  \\\n",
       "1487  https://twitter.com/dog_rates/status/693095443...                10   \n",
       "\n",
       "      rating_denominator  name doggo floofer  pupper puppo  \n",
       "1487                  10  Milo  None    None  pupper  None  "
      ]
     },
     "execution_count": 15,
     "metadata": {},
     "output_type": "execute_result"
    }
   ],
   "source": [
    "twitter_archive.sample()"
   ]
  },
  {
   "cell_type": "code",
   "execution_count": 16,
   "metadata": {},
   "outputs": [
    {
     "data": {
      "text/html": [
       "<div>\n",
       "<style>\n",
       "    .dataframe thead tr:only-child th {\n",
       "        text-align: right;\n",
       "    }\n",
       "\n",
       "    .dataframe thead th {\n",
       "        text-align: left;\n",
       "    }\n",
       "\n",
       "    .dataframe tbody tr th {\n",
       "        vertical-align: top;\n",
       "    }\n",
       "</style>\n",
       "<table border=\"1\" class=\"dataframe\">\n",
       "  <thead>\n",
       "    <tr style=\"text-align: right;\">\n",
       "      <th></th>\n",
       "      <th>tweet_id</th>\n",
       "      <th>in_reply_to_status_id</th>\n",
       "      <th>in_reply_to_user_id</th>\n",
       "      <th>timestamp</th>\n",
       "      <th>source</th>\n",
       "      <th>text</th>\n",
       "      <th>retweeted_status_id</th>\n",
       "      <th>retweeted_status_user_id</th>\n",
       "      <th>retweeted_status_timestamp</th>\n",
       "      <th>expanded_urls</th>\n",
       "      <th>rating_numerator</th>\n",
       "      <th>rating_denominator</th>\n",
       "      <th>name</th>\n",
       "      <th>doggo</th>\n",
       "      <th>floofer</th>\n",
       "      <th>pupper</th>\n",
       "      <th>puppo</th>\n",
       "    </tr>\n",
       "  </thead>\n",
       "  <tbody>\n",
       "    <tr>\n",
       "      <th>149</th>\n",
       "      <td>863079547188785154</td>\n",
       "      <td>6.671522e+17</td>\n",
       "      <td>4.196984e+09</td>\n",
       "      <td>2017-05-12 17:12:53 +0000</td>\n",
       "      <td>&lt;a href=\"http://twitter.com/download/iphone\" r...</td>\n",
       "      <td>Ladies and gentlemen... I found Pipsy. He may ...</td>\n",
       "      <td>NaN</td>\n",
       "      <td>NaN</td>\n",
       "      <td>NaN</td>\n",
       "      <td>https://twitter.com/dog_rates/status/863079547...</td>\n",
       "      <td>14</td>\n",
       "      <td>10</td>\n",
       "      <td>None</td>\n",
       "      <td>None</td>\n",
       "      <td>None</td>\n",
       "      <td>None</td>\n",
       "      <td>None</td>\n",
       "    </tr>\n",
       "  </tbody>\n",
       "</table>\n",
       "</div>"
      ],
      "text/plain": [
       "               tweet_id  in_reply_to_status_id  in_reply_to_user_id  \\\n",
       "149  863079547188785154           6.671522e+17         4.196984e+09   \n",
       "\n",
       "                     timestamp  \\\n",
       "149  2017-05-12 17:12:53 +0000   \n",
       "\n",
       "                                                source  \\\n",
       "149  <a href=\"http://twitter.com/download/iphone\" r...   \n",
       "\n",
       "                                                  text  retweeted_status_id  \\\n",
       "149  Ladies and gentlemen... I found Pipsy. He may ...                  NaN   \n",
       "\n",
       "     retweeted_status_user_id retweeted_status_timestamp  \\\n",
       "149                       NaN                        NaN   \n",
       "\n",
       "                                         expanded_urls  rating_numerator  \\\n",
       "149  https://twitter.com/dog_rates/status/863079547...                14   \n",
       "\n",
       "     rating_denominator  name doggo floofer pupper puppo  \n",
       "149                  10  None  None    None   None  None  "
      ]
     },
     "execution_count": 16,
     "metadata": {},
     "output_type": "execute_result"
    }
   ],
   "source": [
    "reply_tweets = twitter_archive.loc[twitter_archive['in_reply_to_status_id'].notnull()]\n",
    "reply_tweets.sample()"
   ]
  },
  {
   "cell_type": "markdown",
   "metadata": {},
   "source": [
    "### tweet_image_predictions"
   ]
  },
  {
   "cell_type": "code",
   "execution_count": 17,
   "metadata": {},
   "outputs": [
    {
     "name": "stdout",
     "output_type": "stream",
     "text": [
      "<class 'pandas.core.frame.DataFrame'>\n",
      "RangeIndex: 2075 entries, 0 to 2074\n",
      "Data columns (total 12 columns):\n",
      "tweet_id    2075 non-null int64\n",
      "jpg_url     2075 non-null object\n",
      "img_num     2075 non-null int64\n",
      "p1          2075 non-null object\n",
      "p1_conf     2075 non-null float64\n",
      "p1_dog      2075 non-null bool\n",
      "p2          2075 non-null object\n",
      "p2_conf     2075 non-null float64\n",
      "p2_dog      2075 non-null bool\n",
      "p3          2075 non-null object\n",
      "p3_conf     2075 non-null float64\n",
      "p3_dog      2075 non-null bool\n",
      "dtypes: bool(3), float64(3), int64(2), object(4)\n",
      "memory usage: 152.1+ KB\n"
     ]
    }
   ],
   "source": [
    "tweet_image_predictions.info()"
   ]
  },
  {
   "cell_type": "markdown",
   "metadata": {},
   "source": [
    "- Tweet ID - same as twitter_archive,\n",
    "- jpg_url - image URL for the corresponding photo\n",
    "- img_num - image number that corresponded to the most confident prediction (numbered 1 to 4 since tweets can have up to four images).\n",
    "- p1 - object prediction\n",
    "- p1_conf - confidence level of prediction\n",
    "- p1_dog - is the prediction a dog breed."
   ]
  },
  {
   "cell_type": "code",
   "execution_count": 18,
   "metadata": {},
   "outputs": [
    {
     "data": {
      "text/html": [
       "<div>\n",
       "<style>\n",
       "    .dataframe thead tr:only-child th {\n",
       "        text-align: right;\n",
       "    }\n",
       "\n",
       "    .dataframe thead th {\n",
       "        text-align: left;\n",
       "    }\n",
       "\n",
       "    .dataframe tbody tr th {\n",
       "        vertical-align: top;\n",
       "    }\n",
       "</style>\n",
       "<table border=\"1\" class=\"dataframe\">\n",
       "  <thead>\n",
       "    <tr style=\"text-align: right;\">\n",
       "      <th></th>\n",
       "      <th>tweet_id</th>\n",
       "      <th>jpg_url</th>\n",
       "      <th>img_num</th>\n",
       "      <th>p1</th>\n",
       "      <th>p1_conf</th>\n",
       "      <th>p1_dog</th>\n",
       "      <th>p2</th>\n",
       "      <th>p2_conf</th>\n",
       "      <th>p2_dog</th>\n",
       "      <th>p3</th>\n",
       "      <th>p3_conf</th>\n",
       "      <th>p3_dog</th>\n",
       "    </tr>\n",
       "  </thead>\n",
       "  <tbody>\n",
       "    <tr>\n",
       "      <th>1230</th>\n",
       "      <td>745712589599014916</td>\n",
       "      <td>https://pbs.twimg.com/media/CllNnkWWMAEDIAR.jpg</td>\n",
       "      <td>1</td>\n",
       "      <td>seat_belt</td>\n",
       "      <td>0.379055</td>\n",
       "      <td>False</td>\n",
       "      <td>chow</td>\n",
       "      <td>0.062754</td>\n",
       "      <td>True</td>\n",
       "      <td>minibus</td>\n",
       "      <td>0.052423</td>\n",
       "      <td>False</td>\n",
       "    </tr>\n",
       "    <tr>\n",
       "      <th>1755</th>\n",
       "      <td>824796380199809024</td>\n",
       "      <td>https://pbs.twimg.com/media/CwiuEJmW8AAZnit.jpg</td>\n",
       "      <td>2</td>\n",
       "      <td>gas_pump</td>\n",
       "      <td>0.676439</td>\n",
       "      <td>False</td>\n",
       "      <td>harvester</td>\n",
       "      <td>0.049995</td>\n",
       "      <td>False</td>\n",
       "      <td>swing</td>\n",
       "      <td>0.044660</td>\n",
       "      <td>False</td>\n",
       "    </tr>\n",
       "    <tr>\n",
       "      <th>787</th>\n",
       "      <td>690374419777196032</td>\n",
       "      <td>https://pbs.twimg.com/media/CZSz3vWXEAACElU.jpg</td>\n",
       "      <td>1</td>\n",
       "      <td>kuvasz</td>\n",
       "      <td>0.286345</td>\n",
       "      <td>True</td>\n",
       "      <td>Labrador_retriever</td>\n",
       "      <td>0.107144</td>\n",
       "      <td>True</td>\n",
       "      <td>ice_bear</td>\n",
       "      <td>0.085086</td>\n",
       "      <td>False</td>\n",
       "    </tr>\n",
       "    <tr>\n",
       "      <th>455</th>\n",
       "      <td>674767892831932416</td>\n",
       "      <td>https://pbs.twimg.com/media/CV1B0WkWwAEBKVx.jpg</td>\n",
       "      <td>1</td>\n",
       "      <td>shower_curtain</td>\n",
       "      <td>0.238855</td>\n",
       "      <td>False</td>\n",
       "      <td>sarong</td>\n",
       "      <td>0.092414</td>\n",
       "      <td>False</td>\n",
       "      <td>kimono</td>\n",
       "      <td>0.056412</td>\n",
       "      <td>False</td>\n",
       "    </tr>\n",
       "    <tr>\n",
       "      <th>2015</th>\n",
       "      <td>879492040517615616</td>\n",
       "      <td>https://pbs.twimg.com/media/DDSVWMvXsAEgmMK.jpg</td>\n",
       "      <td>1</td>\n",
       "      <td>German_short-haired_pointer</td>\n",
       "      <td>0.479896</td>\n",
       "      <td>True</td>\n",
       "      <td>vizsla</td>\n",
       "      <td>0.124353</td>\n",
       "      <td>True</td>\n",
       "      <td>bath_towel</td>\n",
       "      <td>0.073320</td>\n",
       "      <td>False</td>\n",
       "    </tr>\n",
       "  </tbody>\n",
       "</table>\n",
       "</div>"
      ],
      "text/plain": [
       "                tweet_id                                          jpg_url  \\\n",
       "1230  745712589599014916  https://pbs.twimg.com/media/CllNnkWWMAEDIAR.jpg   \n",
       "1755  824796380199809024  https://pbs.twimg.com/media/CwiuEJmW8AAZnit.jpg   \n",
       "787   690374419777196032  https://pbs.twimg.com/media/CZSz3vWXEAACElU.jpg   \n",
       "455   674767892831932416  https://pbs.twimg.com/media/CV1B0WkWwAEBKVx.jpg   \n",
       "2015  879492040517615616  https://pbs.twimg.com/media/DDSVWMvXsAEgmMK.jpg   \n",
       "\n",
       "      img_num                           p1   p1_conf  p1_dog  \\\n",
       "1230        1                    seat_belt  0.379055   False   \n",
       "1755        2                     gas_pump  0.676439   False   \n",
       "787         1                       kuvasz  0.286345    True   \n",
       "455         1               shower_curtain  0.238855   False   \n",
       "2015        1  German_short-haired_pointer  0.479896    True   \n",
       "\n",
       "                      p2   p2_conf  p2_dog          p3   p3_conf  p3_dog  \n",
       "1230                chow  0.062754    True     minibus  0.052423   False  \n",
       "1755           harvester  0.049995   False       swing  0.044660   False  \n",
       "787   Labrador_retriever  0.107144    True    ice_bear  0.085086   False  \n",
       "455               sarong  0.092414   False      kimono  0.056412   False  \n",
       "2015              vizsla  0.124353    True  bath_towel  0.073320   False  "
      ]
     },
     "execution_count": 18,
     "metadata": {},
     "output_type": "execute_result"
    }
   ],
   "source": [
    "tweet_image_predictions.sample(5)"
   ]
  },
  {
   "cell_type": "code",
   "execution_count": 19,
   "metadata": {},
   "outputs": [
    {
     "data": {
      "text/plain": [
       "count    2075.000000\n",
       "mean        0.594548\n",
       "std         0.271174\n",
       "min         0.044333\n",
       "25%         0.364412\n",
       "50%         0.588230\n",
       "75%         0.843855\n",
       "max         1.000000\n",
       "Name: p1_conf, dtype: float64"
      ]
     },
     "execution_count": 19,
     "metadata": {},
     "output_type": "execute_result"
    }
   ],
   "source": [
    "tweet_image_predictions['p1_conf'].describe()"
   ]
  },
  {
   "cell_type": "code",
   "execution_count": 20,
   "metadata": {},
   "outputs": [
    {
     "data": {
      "text/plain": [
       "count    2.075000e+03\n",
       "mean     1.345886e-01\n",
       "std      1.006657e-01\n",
       "min      1.011300e-08\n",
       "25%      5.388625e-02\n",
       "50%      1.181810e-01\n",
       "75%      1.955655e-01\n",
       "max      4.880140e-01\n",
       "Name: p2_conf, dtype: float64"
      ]
     },
     "execution_count": 20,
     "metadata": {},
     "output_type": "execute_result"
    }
   ],
   "source": [
    "tweet_image_predictions['p2_conf'].describe()"
   ]
  },
  {
   "cell_type": "code",
   "execution_count": 21,
   "metadata": {},
   "outputs": [
    {
     "data": {
      "text/plain": [
       "count    2.075000e+03\n",
       "mean     6.032417e-02\n",
       "std      5.090593e-02\n",
       "min      1.740170e-10\n",
       "25%      1.622240e-02\n",
       "50%      4.944380e-02\n",
       "75%      9.180755e-02\n",
       "max      2.734190e-01\n",
       "Name: p3_conf, dtype: float64"
      ]
     },
     "execution_count": 21,
     "metadata": {},
     "output_type": "execute_result"
    }
   ],
   "source": [
    "tweet_image_predictions['p3_conf'].describe()"
   ]
  },
  {
   "cell_type": "code",
   "execution_count": 22,
   "metadata": {},
   "outputs": [
    {
     "data": {
      "text/plain": [
       "True     1532\n",
       "False     543\n",
       "Name: p1_dog, dtype: int64"
      ]
     },
     "execution_count": 22,
     "metadata": {},
     "output_type": "execute_result"
    }
   ],
   "source": [
    "tweet_image_predictions['p1_dog'].value_counts()"
   ]
  },
  {
   "cell_type": "code",
   "execution_count": 23,
   "metadata": {},
   "outputs": [
    {
     "data": {
      "text/plain": [
       "True     1553\n",
       "False     522\n",
       "Name: p2_dog, dtype: int64"
      ]
     },
     "execution_count": 23,
     "metadata": {},
     "output_type": "execute_result"
    }
   ],
   "source": [
    "tweet_image_predictions['p2_dog'].value_counts()"
   ]
  },
  {
   "cell_type": "code",
   "execution_count": 24,
   "metadata": {},
   "outputs": [
    {
     "data": {
      "text/plain": [
       "True     1499\n",
       "False     576\n",
       "Name: p3_dog, dtype: int64"
      ]
     },
     "execution_count": 24,
     "metadata": {},
     "output_type": "execute_result"
    }
   ],
   "source": [
    "tweet_image_predictions['p3_dog'].value_counts()"
   ]
  },
  {
   "cell_type": "code",
   "execution_count": 25,
   "metadata": {},
   "outputs": [
    {
     "name": "stdout",
     "output_type": "stream",
     "text": [
      "<class 'pandas.core.frame.DataFrame'>\n",
      "Int64Index: 324 entries, 6 to 2074\n",
      "Data columns (total 12 columns):\n",
      "tweet_id    324 non-null int64\n",
      "jpg_url     324 non-null object\n",
      "img_num     324 non-null int64\n",
      "p1          324 non-null object\n",
      "p1_conf     324 non-null float64\n",
      "p1_dog      324 non-null bool\n",
      "p2          324 non-null object\n",
      "p2_conf     324 non-null float64\n",
      "p2_dog      324 non-null bool\n",
      "p3          324 non-null object\n",
      "p3_conf     324 non-null float64\n",
      "p3_dog      324 non-null bool\n",
      "dtypes: bool(3), float64(3), int64(2), object(4)\n",
      "memory usage: 26.3+ KB\n"
     ]
    }
   ],
   "source": [
    "not_dogs = tweet_image_predictions.loc[tweet_image_predictions['p1_dog']== False]\n",
    "not_dogs = not_dogs.loc[not_dogs['p2_dog']==False]\n",
    "not_dogs = not_dogs.loc[not_dogs['p3_dog']==False]\n",
    "not_dogs.info()"
   ]
  },
  {
   "cell_type": "code",
   "execution_count": 26,
   "metadata": {},
   "outputs": [],
   "source": [
    "#export not_dogs to visually assess if there is a dog in the photo or not.\n",
    "not_dogs.to_csv('not_dogs.csv',sep = ',')"
   ]
  },
  {
   "cell_type": "markdown",
   "metadata": {},
   "source": [
    "### tweet_counts"
   ]
  },
  {
   "cell_type": "code",
   "execution_count": 27,
   "metadata": {},
   "outputs": [
    {
     "name": "stdout",
     "output_type": "stream",
     "text": [
      "<class 'pandas.core.frame.DataFrame'>\n",
      "RangeIndex: 2346 entries, 0 to 2345\n",
      "Data columns (total 8 columns):\n",
      "expanded_url             2069 non-null object\n",
      "favorite_count           2346 non-null int64\n",
      "followers_count          2346 non-null int64\n",
      "id                       2346 non-null int64\n",
      "in_reply_to_status_id    77 non-null object\n",
      "in_reply_to_user_id      77 non-null object\n",
      "retweet_count            2346 non-null int64\n",
      "timestamp                2346 non-null object\n",
      "dtypes: int64(4), object(4)\n",
      "memory usage: 146.7+ KB\n"
     ]
    }
   ],
   "source": [
    "tweet_counts.info()"
   ]
  },
  {
   "cell_type": "code",
   "execution_count": 28,
   "metadata": {},
   "outputs": [
    {
     "data": {
      "text/html": [
       "<div>\n",
       "<style>\n",
       "    .dataframe thead tr:only-child th {\n",
       "        text-align: right;\n",
       "    }\n",
       "\n",
       "    .dataframe thead th {\n",
       "        text-align: left;\n",
       "    }\n",
       "\n",
       "    .dataframe tbody tr th {\n",
       "        vertical-align: top;\n",
       "    }\n",
       "</style>\n",
       "<table border=\"1\" class=\"dataframe\">\n",
       "  <thead>\n",
       "    <tr style=\"text-align: right;\">\n",
       "      <th></th>\n",
       "      <th>expanded_url</th>\n",
       "      <th>favorite_count</th>\n",
       "      <th>followers_count</th>\n",
       "      <th>id</th>\n",
       "      <th>in_reply_to_status_id</th>\n",
       "      <th>in_reply_to_user_id</th>\n",
       "      <th>retweet_count</th>\n",
       "      <th>timestamp</th>\n",
       "    </tr>\n",
       "  </thead>\n",
       "  <tbody>\n",
       "    <tr>\n",
       "      <th>1034</th>\n",
       "      <td>https://twitter.com/dog_rates/status/743609206...</td>\n",
       "      <td>4853</td>\n",
       "      <td>5699213</td>\n",
       "      <td>743609206067040256</td>\n",
       "      <td>None</td>\n",
       "      <td>None</td>\n",
       "      <td>1531</td>\n",
       "      <td>Fri Jun 17 01:00:24 +0000 2016</td>\n",
       "    </tr>\n",
       "  </tbody>\n",
       "</table>\n",
       "</div>"
      ],
      "text/plain": [
       "                                           expanded_url  favorite_count  \\\n",
       "1034  https://twitter.com/dog_rates/status/743609206...            4853   \n",
       "\n",
       "      followers_count                  id in_reply_to_status_id  \\\n",
       "1034          5699213  743609206067040256                  None   \n",
       "\n",
       "     in_reply_to_user_id  retweet_count                       timestamp  \n",
       "1034                None           1531  Fri Jun 17 01:00:24 +0000 2016  "
      ]
     },
     "execution_count": 28,
     "metadata": {},
     "output_type": "execute_result"
    }
   ],
   "source": [
    "tweet_counts.sample()"
   ]
  },
  {
   "cell_type": "code",
   "execution_count": 29,
   "metadata": {},
   "outputs": [
    {
     "data": {
      "text/html": [
       "<div>\n",
       "<style>\n",
       "    .dataframe thead tr:only-child th {\n",
       "        text-align: right;\n",
       "    }\n",
       "\n",
       "    .dataframe thead th {\n",
       "        text-align: left;\n",
       "    }\n",
       "\n",
       "    .dataframe tbody tr th {\n",
       "        vertical-align: top;\n",
       "    }\n",
       "</style>\n",
       "<table border=\"1\" class=\"dataframe\">\n",
       "  <thead>\n",
       "    <tr style=\"text-align: right;\">\n",
       "      <th></th>\n",
       "      <th>expanded_url</th>\n",
       "      <th>favorite_count</th>\n",
       "      <th>followers_count</th>\n",
       "      <th>id</th>\n",
       "      <th>in_reply_to_status_id</th>\n",
       "      <th>in_reply_to_user_id</th>\n",
       "      <th>retweet_count</th>\n",
       "      <th>timestamp</th>\n",
       "    </tr>\n",
       "  </thead>\n",
       "  <tbody>\n",
       "    <tr>\n",
       "      <th>833</th>\n",
       "      <td>None</td>\n",
       "      <td>2838</td>\n",
       "      <td>5698955</td>\n",
       "      <td>766714921925144576</td>\n",
       "      <td>766711819364888576</td>\n",
       "      <td>4196983835</td>\n",
       "      <td>430</td>\n",
       "      <td>Fri Aug 19 19:14:16 +0000 2016</td>\n",
       "    </tr>\n",
       "  </tbody>\n",
       "</table>\n",
       "</div>"
      ],
      "text/plain": [
       "    expanded_url  favorite_count  followers_count                  id  \\\n",
       "833         None            2838          5698955  766714921925144576   \n",
       "\n",
       "    in_reply_to_status_id in_reply_to_user_id  retweet_count  \\\n",
       "833    766711819364888576          4196983835            430   \n",
       "\n",
       "                          timestamp  \n",
       "833  Fri Aug 19 19:14:16 +0000 2016  "
      ]
     },
     "execution_count": 29,
     "metadata": {},
     "output_type": "execute_result"
    }
   ],
   "source": [
    "reply_tweet_counts = tweet_counts.loc[tweet_counts['in_reply_to_status_id'].notnull()]\n",
    "reply_tweet_counts.sample()"
   ]
  },
  {
   "cell_type": "markdown",
   "metadata": {},
   "source": [
    "### twitter_archive\n",
    "#### Quality\n",
    "- missing some expanded_urls.  This might be because there isn't an image with the tweet.  The expanded url is housed under the media tag, no media, no expanded url.\n",
    "- data contains retweets.  Only want original tweets\n",
    "- in_reply_to_status_id, in_reply_to_user_id, retweeted_status_id, retweeted_status_user_id, are floats, so they are written in scientific notation\n",
    "    - Cannot change to int because of NaN values. need to address the float format.\n",
    "- timestamps are objects \n",
    "- not all the denominators are 10\n",
    "- some numerators are really high (1776, 420, etc)\n",
    "- some numerators are below 10.  I expected all the numerators to be 10 and above because they are good dogs :)\n",
    "- some names are not actually names (a, an, etc)\n",
    "\n",
    "#### Tidyness\n",
    "- dog stages are in multiple columns."
   ]
  },
  {
   "cell_type": "markdown",
   "metadata": {},
   "source": [
    "## tweet_image_predictions\n",
    "\n",
    "#### Quality\n",
    "- 324 entries do not contain any dog breed predictions amoung the three choices, however some of them are images of dogs.  We only want tweets that contain images of dogs.\n",
    "\n",
    "#### tidyness\n",
    "- only have 2075 entries (twitter_archive has 2356 entries).  We only want tweets with images of dogs for our analysis.  \n"
   ]
  },
  {
   "cell_type": "markdown",
   "metadata": {},
   "source": [
    "## Tweet_counts\n",
    "\n",
    "#### Quality\n",
    "- 10 of the ids didn't get processed because the original tweet had been deleted.\n",
    "- timestamp isn't a datetime object.\n",
    "\n",
    "#### Tidyness\n",
    "- Only have expanded urls for 2069 tweets.  The expanded url is housed under the media tag so if a tweet doesn't have an expanded url, it doesn't have an image attached.  Putting this under tidyness because our final dataframe must only include tweets with images."
   ]
  },
  {
   "cell_type": "markdown",
   "metadata": {},
   "source": [
    "# Clean (tweet_counts)\n",
    "\n",
    "#### Define\n",
    "- changed timestamp into datetime object\n",
    "\n",
    "#### Code:"
   ]
  },
  {
   "cell_type": "code",
   "execution_count": 30,
   "metadata": {},
   "outputs": [],
   "source": [
    "tweet_counts_clean = tweet_counts.copy()"
   ]
  },
  {
   "cell_type": "code",
   "execution_count": 31,
   "metadata": {},
   "outputs": [],
   "source": [
    "tweet_counts_clean['timestamp']=pd.to_datetime(tweet_counts_clean['timestamp'], format='%a %b %d %H:%M:%S +0000 %Y')"
   ]
  },
  {
   "cell_type": "markdown",
   "metadata": {},
   "source": [
    "#### Test\n",
    "- timestamp should be a datetime object"
   ]
  },
  {
   "cell_type": "code",
   "execution_count": 32,
   "metadata": {},
   "outputs": [
    {
     "name": "stdout",
     "output_type": "stream",
     "text": [
      "<class 'pandas.core.frame.DataFrame'>\n",
      "RangeIndex: 2346 entries, 0 to 2345\n",
      "Data columns (total 8 columns):\n",
      "expanded_url             2069 non-null object\n",
      "favorite_count           2346 non-null int64\n",
      "followers_count          2346 non-null int64\n",
      "id                       2346 non-null int64\n",
      "in_reply_to_status_id    77 non-null object\n",
      "in_reply_to_user_id      77 non-null object\n",
      "retweet_count            2346 non-null int64\n",
      "timestamp                2346 non-null datetime64[ns]\n",
      "dtypes: datetime64[ns](1), int64(4), object(3)\n",
      "memory usage: 146.7+ KB\n"
     ]
    }
   ],
   "source": [
    "tweet_counts_clean.info()"
   ]
  },
  {
   "cell_type": "markdown",
   "metadata": {},
   "source": [
    "#### Define:\n",
    "- subset tweet_counts to only include tweets with images (expanded_url is not null)\n",
    "\n",
    "#### Code:"
   ]
  },
  {
   "cell_type": "code",
   "execution_count": 33,
   "metadata": {},
   "outputs": [],
   "source": [
    "tweet_counts = tweet_counts.loc[tweet_counts['expanded_url'].notnull()]"
   ]
  },
  {
   "cell_type": "markdown",
   "metadata": {},
   "source": [
    "#### Test:\n",
    "- tweet_counts should have 2069 entries and no null values for expanded_url"
   ]
  },
  {
   "cell_type": "code",
   "execution_count": 34,
   "metadata": {},
   "outputs": [
    {
     "name": "stdout",
     "output_type": "stream",
     "text": [
      "<class 'pandas.core.frame.DataFrame'>\n",
      "Int64Index: 2069 entries, 0 to 2345\n",
      "Data columns (total 8 columns):\n",
      "expanded_url             2069 non-null object\n",
      "favorite_count           2069 non-null int64\n",
      "followers_count          2069 non-null int64\n",
      "id                       2069 non-null int64\n",
      "in_reply_to_status_id    23 non-null object\n",
      "in_reply_to_user_id      23 non-null object\n",
      "retweet_count            2069 non-null int64\n",
      "timestamp                2069 non-null object\n",
      "dtypes: int64(4), object(4)\n",
      "memory usage: 145.5+ KB\n"
     ]
    }
   ],
   "source": [
    "tweet_counts.info()"
   ]
  },
  {
   "cell_type": "markdown",
   "metadata": {},
   "source": [
    "# Clean (tweet_image_predictions)\n",
    "\n",
    "#### Define\n",
    "- Copy the column p1_dog to make column is_dog.\n",
    "- visually analyze pics in not_dogs to determine which images dont have dogs in them.\n",
    "- change the boolean from False to True  in is_dog if the image is actually a dog. \n",
    "- delete the following tweets from tweet_image_predictions because they don't have dogs in them:"
   ]
  },
  {
   "cell_type": "code",
   "execution_count": 35,
   "metadata": {},
   "outputs": [
    {
     "name": "stdout",
     "output_type": "stream",
     "text": [
      "<class 'pandas.core.frame.DataFrame'>\n",
      "RangeIndex: 2075 entries, 0 to 2074\n",
      "Data columns (total 12 columns):\n",
      "tweet_id    2075 non-null int64\n",
      "jpg_url     2075 non-null object\n",
      "img_num     2075 non-null int64\n",
      "p1          2075 non-null object\n",
      "p1_conf     2075 non-null float64\n",
      "p1_dog      2075 non-null bool\n",
      "p2          2075 non-null object\n",
      "p2_conf     2075 non-null float64\n",
      "p2_dog      2075 non-null bool\n",
      "p3          2075 non-null object\n",
      "p3_conf     2075 non-null float64\n",
      "p3_dog      2075 non-null bool\n",
      "dtypes: bool(3), float64(3), int64(2), object(4)\n",
      "memory usage: 152.1+ KB\n"
     ]
    }
   ],
   "source": [
    "tweet_image_clean=tweet_image_predictions.copy()\n",
    "tweet_image_clean.info()"
   ]
  },
  {
   "cell_type": "code",
   "execution_count": 36,
   "metadata": {},
   "outputs": [
    {
     "data": {
      "text/plain": [
       "True     1532\n",
       "False     543\n",
       "Name: is_dog, dtype: int64"
      ]
     },
     "execution_count": 36,
     "metadata": {},
     "output_type": "execute_result"
    }
   ],
   "source": [
    "tweet_image_clean['is_dog']=tweet_image_clean['p1_dog']\n",
    "tweet_image_clean['is_dog'].value_counts()"
   ]
  },
  {
   "cell_type": "code",
   "execution_count": 37,
   "metadata": {},
   "outputs": [],
   "source": [
    "# These come from visually assessing not_dogs, tweets that three NON-DOG predictions\n",
    "not_dog_id=[666051853826850816, 666104133288665088, 666293911632134144, 666362758909284353, \n",
    "            666411507551481857, 666786068205871104, 666837028449972224, 667369227918143488, \n",
    "            667437278097252352, 667443425659232256, 667549055577362432, 667550882905632768, \n",
    "            667724302356258817, 667782464991965184, 667873844930215936, 667911425562669056, \n",
    "            667937095915278337, 668142349051129856, 668154635664932864, 668226093875376128, \n",
    "            668614819948453888, 668643542311546881, 668645506898350081, 668981893510119424, \n",
    "            668988183816871936, 668992363537309700, 669015743032369152, 669583744538451968, \n",
    "            669661792646373376, 670037189829525505, 670055038660800512, 670079681849372674, \n",
    "            670417414769758208, 670449342516494336, 670465786746662913, 670474236058800128, \n",
    "            670727704916926465, 670733412878163972, 670783437142401025, 670826280409919488, \n",
    "            670838202509447168, 670842764863651840, 671166507850801152, 671390180817915904, \n",
    "            671488513339211776, 671511350426865664, 671533943490011136, 671544874165002241, \n",
    "            671744970634719232, 671763349865160704, 671855973984772097, 671879137494245376, \n",
    "            672231046314901505, 672256522047614977, 672475084225949696, 672614745925664768, \n",
    "            672884426393653248, 672970152493887488, 672984142909456390, 673697980713705472,\n",
    "            673715861853720576, 674045139690631169, 674063288070742018, 674265582246694913, \n",
    "            674318007229923329, 674632714662858753, 674690135443775488, 674754018082705410, \n",
    "            674781762103414784, 675135153782571009, 675483430902214656, 676098748976615425,\n",
    "            676215927814406144, 676776431406465024, 676897532954456065, 676942428000112642, \n",
    "            676948236477857792, 678675843183484930, 679503373272485890, 679877062409191424, \n",
    "            680440374763077632, 680798457301471234, 681302363064414209, 682003177596559360, \n",
    "            682406705142087680, 684200372118904832, 684567543613382656, 684880619965411328, \n",
    "            684959798585110529, 685547936038666240, 686003207160610816, 686749460672679938, \n",
    "            687102708889812993, 687476254459715584, 688211956440801280, 688894073864884227, \n",
    "            688908934925697024, 692417313023332352, 693590843962331137, 694669722378485760, \n",
    "            695064344191721472, 699088579889332224, 699691744225525762, 700062718104104960, \n",
    "            700796979434098688, 702932127499816960, 704113298707505153, 704819833553219584, \n",
    "            706901761596989440, 711652651650457602, 712065007010385924, 712092745624633345, \n",
    "            714631576617938945, 729113531270991872, 729838605770891264, 730196704625098752, \n",
    "            743595368194129920, 746906459439529985, 747204161125646336, 748692773788876800, \n",
    "            750506206503038976, 760252756032651264, 768193404517830656, 775729183532220416, \n",
    "            785639753186217984, 792913359805018113, 800018252395122689, 804026241225523202, \n",
    "            816450570814898180, 819924195358416896, 832769181346996225, 834167344700198914, \n",
    "            836677758902222849, 837012587749474308, 840696689258311684, 847962785489326080, \n",
    "            847971574464610304, 851464819735769094, 851861385021730816, 859074603037188101, \n",
    "            860184849394610176, 879050749262655488, 881268444196462592]"
   ]
  },
  {
   "cell_type": "code",
   "execution_count": 38,
   "metadata": {},
   "outputs": [
    {
     "data": {
      "text/plain": [
       "143"
      ]
     },
     "execution_count": 38,
     "metadata": {},
     "output_type": "execute_result"
    }
   ],
   "source": [
    "len(not_dog_id)"
   ]
  },
  {
   "cell_type": "code",
   "execution_count": 39,
   "metadata": {},
   "outputs": [],
   "source": [
    "#deleting non dog images\n",
    "for i in range(len(not_dog_id)):\n",
    "    tweet_id=not_dog_id[i]\n",
    "    tweet_image_clean=tweet_image_clean[tweet_image_clean.tweet_id != tweet_id]\n",
    "    #also delete from not_dogs to have images that was classifyied as not a dog, but actually is\n",
    "    not_dogs=not_dogs[not_dogs.tweet_id!=tweet_id]"
   ]
  },
  {
   "cell_type": "code",
   "execution_count": 40,
   "metadata": {},
   "outputs": [],
   "source": [
    "is_dog_id=not_dogs['tweet_id']"
   ]
  },
  {
   "cell_type": "code",
   "execution_count": 41,
   "metadata": {},
   "outputs": [
    {
     "data": {
      "text/plain": [
       "181"
      ]
     },
     "execution_count": 41,
     "metadata": {},
     "output_type": "execute_result"
    }
   ],
   "source": [
    "len(is_dog_id)"
   ]
  },
  {
   "cell_type": "code",
   "execution_count": 42,
   "metadata": {},
   "outputs": [],
   "source": [
    "for i in range(len(is_dog_id)):\n",
    "    index = is_dog_id.index[i]\n",
    "    tweet_id= is_dog_id[index]\n",
    "    tweet_image_clean.loc[tweet_image_clean['tweet_id']==tweet_id,'is_dog']=True"
   ]
  },
  {
   "cell_type": "markdown",
   "metadata": {},
   "source": [
    "#### Test\n",
    "should only have 1932 entries\n",
    "- True values for is_dog should increase by 181\n",
    "- False values should decrease by 342 (181 true values and 143 deleted values)"
   ]
  },
  {
   "cell_type": "code",
   "execution_count": 43,
   "metadata": {},
   "outputs": [
    {
     "name": "stdout",
     "output_type": "stream",
     "text": [
      "<class 'pandas.core.frame.DataFrame'>\n",
      "Int64Index: 1932 entries, 0 to 2074\n",
      "Data columns (total 13 columns):\n",
      "tweet_id    1932 non-null int64\n",
      "jpg_url     1932 non-null object\n",
      "img_num     1932 non-null int64\n",
      "p1          1932 non-null object\n",
      "p1_conf     1932 non-null float64\n",
      "p1_dog      1932 non-null bool\n",
      "p2          1932 non-null object\n",
      "p2_conf     1932 non-null float64\n",
      "p2_dog      1932 non-null bool\n",
      "p3          1932 non-null object\n",
      "p3_conf     1932 non-null float64\n",
      "p3_dog      1932 non-null bool\n",
      "is_dog      1932 non-null bool\n",
      "dtypes: bool(4), float64(3), int64(2), object(4)\n",
      "memory usage: 158.5+ KB\n"
     ]
    }
   ],
   "source": [
    "tweet_image_clean.info()"
   ]
  },
  {
   "cell_type": "code",
   "execution_count": 44,
   "metadata": {},
   "outputs": [
    {
     "data": {
      "text/plain": [
       "True     1713\n",
       "False     219\n",
       "Name: is_dog, dtype: int64"
      ]
     },
     "execution_count": 44,
     "metadata": {},
     "output_type": "execute_result"
    }
   ],
   "source": [
    "tweet_image_clean['is_dog'].value_counts()"
   ]
  },
  {
   "cell_type": "markdown",
   "metadata": {},
   "source": [
    "#### Define\n",
    "While assessing the not_dog frame, I realized that the image predictor while good, was making a LOT of mistakes, so I need to evaluate all of the non-dog predictions.  Looking at is_dog == False since that is the most confident prediction of the image.\n",
    "- Visually assess the subset of tweet_image_clean where tweet_image_clean['is_dog']== False\n",
    "- delete any tweets of non-dog images\n",
    "- change remaining is_dog entries to TRUE"
   ]
  },
  {
   "cell_type": "code",
   "execution_count": 45,
   "metadata": {},
   "outputs": [],
   "source": [
    "maybe_not_dog= tweet_image_clean.loc[tweet_image_clean['is_dog']== False]"
   ]
  },
  {
   "cell_type": "code",
   "execution_count": 46,
   "metadata": {},
   "outputs": [],
   "source": [
    "maybe_not_dog.to_csv('maybe_not_dog.csv')"
   ]
  },
  {
   "cell_type": "code",
   "execution_count": 47,
   "metadata": {},
   "outputs": [],
   "source": [
    "not_dog_id = [666430724426358785, 667524857454854144, 668297328638447616, 668994913074286592, \n",
    "              670452855871037440, 670792680469889025, 671122204919246848, 671141549288370177, \n",
    "              671163268581498880, 672980819271634944, 673345638550134785, 673906403526995968, \n",
    "              675166823650848770, 678740035362037760, 679854723806179328, 683078886620553216, \n",
    "              683849932751646720, 687312378585812992, 700462010979500032, 707420581654872064, \n",
    "              728409960103686147, 742150209887731712, 749036806121881602, 818536468981415936, \n",
    "              828708714936930305]"
   ]
  },
  {
   "cell_type": "code",
   "execution_count": 48,
   "metadata": {},
   "outputs": [
    {
     "data": {
      "text/plain": [
       "25"
      ]
     },
     "execution_count": 48,
     "metadata": {},
     "output_type": "execute_result"
    }
   ],
   "source": [
    "len(not_dog_id)"
   ]
  },
  {
   "cell_type": "code",
   "execution_count": 49,
   "metadata": {},
   "outputs": [],
   "source": [
    "#deleting non dog images\n",
    "for i in range(len(not_dog_id)):\n",
    "    tweet_id=not_dog_id[i]\n",
    "    tweet_image_clean=tweet_image_clean[tweet_image_clean.tweet_id != tweet_id]\n",
    "    maybe_not_dog=maybe_not_dog[maybe_not_dog.tweet_id!=tweet_id]"
   ]
  },
  {
   "cell_type": "code",
   "execution_count": 50,
   "metadata": {},
   "outputs": [
    {
     "data": {
      "text/plain": [
       "194"
      ]
     },
     "execution_count": 50,
     "metadata": {},
     "output_type": "execute_result"
    }
   ],
   "source": [
    "is_dog_id = maybe_not_dog['tweet_id']\n",
    "len(is_dog_id)"
   ]
  },
  {
   "cell_type": "code",
   "execution_count": 51,
   "metadata": {},
   "outputs": [],
   "source": [
    "for i in range(len(is_dog_id)):\n",
    "    index = is_dog_id.index[i]\n",
    "    tweet_id= is_dog_id[index]\n",
    "    tweet_image_clean.loc[tweet_image_clean['tweet_id']==tweet_id,'is_dog']=True"
   ]
  },
  {
   "cell_type": "markdown",
   "metadata": {},
   "source": [
    "#### Test\n",
    "-tweet_image_clean should have 1907 entries\n",
    "- is_dog should have 1907 True entries and 0 false"
   ]
  },
  {
   "cell_type": "code",
   "execution_count": 52,
   "metadata": {},
   "outputs": [
    {
     "name": "stdout",
     "output_type": "stream",
     "text": [
      "<class 'pandas.core.frame.DataFrame'>\n",
      "Int64Index: 1907 entries, 0 to 2074\n",
      "Data columns (total 13 columns):\n",
      "tweet_id    1907 non-null int64\n",
      "jpg_url     1907 non-null object\n",
      "img_num     1907 non-null int64\n",
      "p1          1907 non-null object\n",
      "p1_conf     1907 non-null float64\n",
      "p1_dog      1907 non-null bool\n",
      "p2          1907 non-null object\n",
      "p2_conf     1907 non-null float64\n",
      "p2_dog      1907 non-null bool\n",
      "p3          1907 non-null object\n",
      "p3_conf     1907 non-null float64\n",
      "p3_dog      1907 non-null bool\n",
      "is_dog      1907 non-null bool\n",
      "dtypes: bool(4), float64(3), int64(2), object(4)\n",
      "memory usage: 156.4+ KB\n"
     ]
    }
   ],
   "source": [
    "tweet_image_clean.info()"
   ]
  },
  {
   "cell_type": "code",
   "execution_count": 53,
   "metadata": {},
   "outputs": [
    {
     "data": {
      "text/plain": [
       "True    1907\n",
       "Name: is_dog, dtype: int64"
      ]
     },
     "execution_count": 53,
     "metadata": {},
     "output_type": "execute_result"
    }
   ],
   "source": [
    "tweet_image_clean['is_dog'].value_counts()"
   ]
  },
  {
   "cell_type": "markdown",
   "metadata": {},
   "source": [
    "#### Define\n",
    "- Just to be sure we only have dogs, investigate the subset most_likely_dog (p1_dog = True, p2_dog or p3_dog is false)\n",
    "- Delete non-dog images\n",
    "\n",
    "#### Code"
   ]
  },
  {
   "cell_type": "code",
   "execution_count": 54,
   "metadata": {},
   "outputs": [
    {
     "data": {
      "text/plain": [
       "289"
      ]
     },
     "execution_count": 54,
     "metadata": {},
     "output_type": "execute_result"
    }
   ],
   "source": [
    "most_likely_dog = tweet_image_predictions.loc[tweet_image_predictions['p1_dog']== True]\n",
    "most_likely_dog = most_likely_dog[(most_likely_dog['p2_dog'] == False) | (most_likely_dog['p3_dog']==False)]\n",
    "len(most_likely_dog)"
   ]
  },
  {
   "cell_type": "code",
   "execution_count": 55,
   "metadata": {},
   "outputs": [],
   "source": [
    "most_likely_dog.to_csv('most_likely_dog.csv')"
   ]
  },
  {
   "cell_type": "code",
   "execution_count": 56,
   "metadata": {},
   "outputs": [],
   "source": [
    "not_dog_id = [673240798075449344, 673612854080196609, 674739953134403584, \n",
    "              676936541936185344, 677565715327688705, 848212111729840128]"
   ]
  },
  {
   "cell_type": "code",
   "execution_count": 57,
   "metadata": {},
   "outputs": [
    {
     "data": {
      "text/plain": [
       "6"
      ]
     },
     "execution_count": 57,
     "metadata": {},
     "output_type": "execute_result"
    }
   ],
   "source": [
    "len(not_dog_id)"
   ]
  },
  {
   "cell_type": "code",
   "execution_count": 58,
   "metadata": {},
   "outputs": [],
   "source": [
    "#deleting non dog images\n",
    "for i in range(len(not_dog_id)):\n",
    "    tweet_id=not_dog_id[i]\n",
    "    tweet_image_clean=tweet_image_clean[tweet_image_clean.tweet_id != tweet_id]"
   ]
  },
  {
   "cell_type": "markdown",
   "metadata": {},
   "source": [
    "#### test\n",
    "\n",
    "- tweet_image_clean should have 1901 entries\n",
    "- is_dog should have 1901 True entries and 0 False entries"
   ]
  },
  {
   "cell_type": "code",
   "execution_count": 59,
   "metadata": {},
   "outputs": [
    {
     "name": "stdout",
     "output_type": "stream",
     "text": [
      "<class 'pandas.core.frame.DataFrame'>\n",
      "Int64Index: 1901 entries, 0 to 2074\n",
      "Data columns (total 13 columns):\n",
      "tweet_id    1901 non-null int64\n",
      "jpg_url     1901 non-null object\n",
      "img_num     1901 non-null int64\n",
      "p1          1901 non-null object\n",
      "p1_conf     1901 non-null float64\n",
      "p1_dog      1901 non-null bool\n",
      "p2          1901 non-null object\n",
      "p2_conf     1901 non-null float64\n",
      "p2_dog      1901 non-null bool\n",
      "p3          1901 non-null object\n",
      "p3_conf     1901 non-null float64\n",
      "p3_dog      1901 non-null bool\n",
      "is_dog      1901 non-null bool\n",
      "dtypes: bool(4), float64(3), int64(2), object(4)\n",
      "memory usage: 155.9+ KB\n"
     ]
    }
   ],
   "source": [
    "tweet_image_clean.info()"
   ]
  },
  {
   "cell_type": "code",
   "execution_count": 60,
   "metadata": {},
   "outputs": [
    {
     "data": {
      "text/plain": [
       "True    1901\n",
       "Name: is_dog, dtype: int64"
      ]
     },
     "execution_count": 60,
     "metadata": {},
     "output_type": "execute_result"
    }
   ],
   "source": [
    "tweet_image_clean['is_dog'].value_counts()"
   ]
  },
  {
   "cell_type": "markdown",
   "metadata": {},
   "source": [
    "# Clean twitter_archive\n",
    "\n",
    "#### Define:\n",
    "- Subset twitter_archive to only contain entries with a null value under retweet_status_id\n",
    "- delete retweeted_status_id, retweeted_status_user_id, and retweeted_status_timestamp after\n",
    "\n",
    "#### Code:"
   ]
  },
  {
   "cell_type": "code",
   "execution_count": 61,
   "metadata": {},
   "outputs": [],
   "source": [
    "twitter_archive_clean = twitter_archive.copy()"
   ]
  },
  {
   "cell_type": "code",
   "execution_count": 62,
   "metadata": {},
   "outputs": [],
   "source": [
    "twitter_archive_clean = twitter_archive_clean.loc[twitter_archive_clean['retweeted_status_id'].isnull()]"
   ]
  },
  {
   "cell_type": "code",
   "execution_count": 63,
   "metadata": {},
   "outputs": [],
   "source": [
    "twitter_archive_clean=twitter_archive_clean.drop(['retweeted_status_id','retweeted_status_user_id','retweeted_status_timestamp'], axis = 1)"
   ]
  },
  {
   "cell_type": "markdown",
   "metadata": {},
   "source": [
    "#### Test\n",
    "- twitter_archive_clean should have 2175 entries and no columns with 'retweeted...' headings"
   ]
  },
  {
   "cell_type": "code",
   "execution_count": 64,
   "metadata": {},
   "outputs": [
    {
     "name": "stdout",
     "output_type": "stream",
     "text": [
      "<class 'pandas.core.frame.DataFrame'>\n",
      "Int64Index: 2175 entries, 0 to 2355\n",
      "Data columns (total 14 columns):\n",
      "tweet_id                 2175 non-null int64\n",
      "in_reply_to_status_id    78 non-null float64\n",
      "in_reply_to_user_id      78 non-null float64\n",
      "timestamp                2175 non-null object\n",
      "source                   2175 non-null object\n",
      "text                     2175 non-null object\n",
      "expanded_urls            2117 non-null object\n",
      "rating_numerator         2175 non-null int64\n",
      "rating_denominator       2175 non-null int64\n",
      "name                     2175 non-null object\n",
      "doggo                    2175 non-null object\n",
      "floofer                  2175 non-null object\n",
      "pupper                   2175 non-null object\n",
      "puppo                    2175 non-null object\n",
      "dtypes: float64(2), int64(3), object(9)\n",
      "memory usage: 254.9+ KB\n"
     ]
    }
   ],
   "source": [
    "twitter_archive_clean.info()"
   ]
  },
  {
   "cell_type": "markdown",
   "metadata": {},
   "source": [
    "#### Define\n",
    "\n",
    "- merge the dog stage columns (doggo, floofer, puppo, pupper) into one column.\n",
    "    - replace the 'None' entries with ''\n",
    "    - combine strings of all entries into one\n",
    "    -strip the commas from the front and the end of the string\n",
    "    - delete seperate stage columns\n",
    "    - replace ',,,' with np.nan"
   ]
  },
  {
   "cell_type": "code",
   "execution_count": 65,
   "metadata": {},
   "outputs": [],
   "source": [
    "#remove None values\n",
    "import numpy as np\n",
    "twitter_archive_clean.replace(to_replace = 'None', value = '', inplace = True, regex = True)\n"
   ]
  },
  {
   "cell_type": "code",
   "execution_count": 66,
   "metadata": {},
   "outputs": [],
   "source": [
    "#combining stage columns\n",
    "twitter_archive_clean['stage'] = twitter_archive_clean['doggo']+ ',' + twitter_archive_clean['floofer']+',' + twitter_archive_clean['pupper']+ ','+ twitter_archive_clean['puppo']"
   ]
  },
  {
   "cell_type": "code",
   "execution_count": 67,
   "metadata": {},
   "outputs": [],
   "source": [
    "#removing individual stage columns\n",
    "twitter_archive_clean = twitter_archive_clean.drop(['doggo','floofer','pupper','puppo'], axis = 1)"
   ]
  },
  {
   "cell_type": "code",
   "execution_count": 68,
   "metadata": {},
   "outputs": [],
   "source": [
    "twitter_archive_clean['stage'] = twitter_archive_clean['stage'].str.strip(',')"
   ]
  },
  {
   "cell_type": "code",
   "execution_count": 69,
   "metadata": {},
   "outputs": [],
   "source": [
    "twitter_archive_clean['stage'] = twitter_archive_clean['stage'].str.replace('doggo,,pupper','doggo,pupper')"
   ]
  },
  {
   "cell_type": "code",
   "execution_count": 70,
   "metadata": {},
   "outputs": [],
   "source": [
    "twitter_archive_clean['stage']=twitter_archive_clean['stage'].str.replace('doggo,,,puppo', 'doggo,puppo')"
   ]
  },
  {
   "cell_type": "code",
   "execution_count": 71,
   "metadata": {},
   "outputs": [],
   "source": [
    "twitter_archive_clean.replace(to_replace = '', value = np.nan, inplace = True, regex = True)"
   ]
  },
  {
   "cell_type": "markdown",
   "metadata": {},
   "source": [
    "#### Test\n",
    "- there should be a single 'stage' column"
   ]
  },
  {
   "cell_type": "code",
   "execution_count": 72,
   "metadata": {},
   "outputs": [
    {
     "name": "stdout",
     "output_type": "stream",
     "text": [
      "<class 'pandas.core.frame.DataFrame'>\n",
      "Int64Index: 2175 entries, 0 to 2355\n",
      "Data columns (total 11 columns):\n",
      "tweet_id                 2175 non-null int64\n",
      "in_reply_to_status_id    78 non-null float64\n",
      "in_reply_to_user_id      78 non-null float64\n",
      "timestamp                2175 non-null object\n",
      "source                   2175 non-null object\n",
      "text                     2175 non-null object\n",
      "expanded_urls            2117 non-null object\n",
      "rating_numerator         2175 non-null int64\n",
      "rating_denominator       2175 non-null int64\n",
      "name                     1495 non-null object\n",
      "stage                    344 non-null object\n",
      "dtypes: float64(2), int64(3), object(6)\n",
      "memory usage: 203.9+ KB\n"
     ]
    }
   ],
   "source": [
    "# no separate stage columns\n",
    "twitter_archive_clean.info()"
   ]
  },
  {
   "cell_type": "code",
   "execution_count": 73,
   "metadata": {},
   "outputs": [
    {
     "data": {
      "text/html": [
       "<div>\n",
       "<style>\n",
       "    .dataframe thead tr:only-child th {\n",
       "        text-align: right;\n",
       "    }\n",
       "\n",
       "    .dataframe thead th {\n",
       "        text-align: left;\n",
       "    }\n",
       "\n",
       "    .dataframe tbody tr th {\n",
       "        vertical-align: top;\n",
       "    }\n",
       "</style>\n",
       "<table border=\"1\" class=\"dataframe\">\n",
       "  <thead>\n",
       "    <tr style=\"text-align: right;\">\n",
       "      <th></th>\n",
       "      <th>tweet_id</th>\n",
       "      <th>in_reply_to_status_id</th>\n",
       "      <th>in_reply_to_user_id</th>\n",
       "      <th>timestamp</th>\n",
       "      <th>source</th>\n",
       "      <th>text</th>\n",
       "      <th>expanded_urls</th>\n",
       "      <th>rating_numerator</th>\n",
       "      <th>rating_denominator</th>\n",
       "      <th>name</th>\n",
       "      <th>stage</th>\n",
       "    </tr>\n",
       "  </thead>\n",
       "  <tbody>\n",
       "    <tr>\n",
       "      <th>2304</th>\n",
       "      <td>666983947667116034</td>\n",
       "      <td>NaN</td>\n",
       "      <td>NaN</td>\n",
       "      <td>2015-11-18 14:18:59 +0000</td>\n",
       "      <td>&lt;a href=\"http://twitter.com/download/iphone\" r...</td>\n",
       "      <td>This is a curly Ticonderoga named Pepe. No fee...</td>\n",
       "      <td>https://twitter.com/dog_rates/status/666983947...</td>\n",
       "      <td>11</td>\n",
       "      <td>10</td>\n",
       "      <td>a</td>\n",
       "      <td>NaN</td>\n",
       "    </tr>\n",
       "  </tbody>\n",
       "</table>\n",
       "</div>"
      ],
      "text/plain": [
       "                tweet_id  in_reply_to_status_id  in_reply_to_user_id  \\\n",
       "2304  666983947667116034                    NaN                  NaN   \n",
       "\n",
       "                      timestamp  \\\n",
       "2304  2015-11-18 14:18:59 +0000   \n",
       "\n",
       "                                                 source  \\\n",
       "2304  <a href=\"http://twitter.com/download/iphone\" r...   \n",
       "\n",
       "                                                   text  \\\n",
       "2304  This is a curly Ticonderoga named Pepe. No fee...   \n",
       "\n",
       "                                          expanded_urls  rating_numerator  \\\n",
       "2304  https://twitter.com/dog_rates/status/666983947...                11   \n",
       "\n",
       "      rating_denominator name stage  \n",
       "2304                  10    a   NaN  "
      ]
     },
     "execution_count": 73,
     "metadata": {},
     "output_type": "execute_result"
    }
   ],
   "source": [
    "twitter_archive_clean.sample()"
   ]
  },
  {
   "cell_type": "code",
   "execution_count": 74,
   "metadata": {},
   "outputs": [
    {
     "data": {
      "text/plain": [
       "pupper           224\n",
       "doggo             75\n",
       "puppo             24\n",
       "doggo,pupper      10\n",
       "floofer            9\n",
       "doggo,puppo        1\n",
       "doggo,floofer      1\n",
       "Name: stage, dtype: int64"
      ]
     },
     "execution_count": 74,
     "metadata": {},
     "output_type": "execute_result"
    }
   ],
   "source": [
    "twitter_archive_clean['stage'].value_counts()"
   ]
  },
  {
   "cell_type": "markdown",
   "metadata": {},
   "source": [
    "#### Define\n",
    "- Investigate tweets with multiple dog stages to make sure there are multiple dogs in the tweet.\n",
    "- make corrections as needed"
   ]
  },
  {
   "cell_type": "code",
   "execution_count": 75,
   "metadata": {},
   "outputs": [
    {
     "data": {
      "text/plain": [
       "{'doggo': Int64Index([   9,   43,   99,  108,  110,  121,  172,  240,  248,  300,  318,\n",
       "              323,  331,  339,  344,  345,  351,  362,  363,  372,  384,  385,\n",
       "              389,  391,  423,  426,  429,  440,  448,  449,  489,  493,  499,\n",
       "              501,  576,  585,  587,  616,  624,  698,  724,  727,  731,  746,\n",
       "              780,  782,  807,  835,  839,  857,  877,  881,  899,  914,  919,\n",
       "              924,  944,  945,  948,  967,  977,  985,  989,  992, 1030, 1039,\n",
       "             1051, 1075, 1079, 1103, 1117, 1141, 1156, 1176, 1204],\n",
       "            dtype='int64'),\n",
       " 'doggo,floofer': Int64Index([200], dtype='int64'),\n",
       " 'doggo,pupper': Int64Index([460, 531, 565, 575, 705, 733, 889, 956, 1063, 1113], dtype='int64'),\n",
       " 'doggo,puppo': Int64Index([191], dtype='int64'),\n",
       " 'floofer': Int64Index([46, 582, 774, 984, 1022, 1091, 1110, 1534, 1614], dtype='int64'),\n",
       " 'pupper': Int64Index([  29,   49,   56,   82,   92,   98,  107,  135,  199,  220,\n",
       "             ...\n",
       "             1980, 1981, 1985, 1991, 1992, 1995, 2002, 2009, 2015, 2017],\n",
       "            dtype='int64', length=224),\n",
       " 'puppo': Int64Index([  12,   14,   71,   94,  129,  168,  395,  398,  413,  439,  554,\n",
       "              567,  643,  663,  689,  701,  713,  736,  922,  947,  961, 1035,\n",
       "             1048, 1083],\n",
       "            dtype='int64')}"
      ]
     },
     "execution_count": 75,
     "metadata": {},
     "output_type": "execute_result"
    }
   ],
   "source": [
    "groups = twitter_archive_clean.groupby(twitter_archive_clean['stage'])\n",
    "groups.groups"
   ]
  },
  {
   "cell_type": "code",
   "execution_count": 76,
   "metadata": {},
   "outputs": [],
   "source": [
    "multistage = pd.concat([groups.get_group('doggo,pupper'), groups.get_group('doggo,floofer'), groups.get_group('doggo,puppo')])"
   ]
  },
  {
   "cell_type": "code",
   "execution_count": 77,
   "metadata": {},
   "outputs": [],
   "source": [
    "multistage.to_csv('multistage_take2.csv')"
   ]
  },
  {
   "cell_type": "markdown",
   "metadata": {},
   "source": [
    "The following tweets only contain one dog, so the stage needs to be changed\n",
    "- 817777686764523521 (pupper)\n",
    "- 751583847268179968 (null)\n",
    "- 854010172552949760 (doggo)\n",
    "- 855851453814013952 (puppo)\n",
    "\n",
    "The following tweets need to be deleted because it is not a rating of a dog.\n",
    "- 785639753186217984"
   ]
  },
  {
   "cell_type": "code",
   "execution_count": 78,
   "metadata": {},
   "outputs": [],
   "source": [
    "twitter_archive_clean.loc[twitter_archive_clean['tweet_id']==817777686764523521, 'stage']='pupper'\n",
    "twitter_archive_clean.loc[twitter_archive_clean['tweet_id']==751583847268179968, 'stage']=None\n",
    "twitter_archive_clean.loc[twitter_archive_clean['tweet_id']==854010172552949760, 'stage']='doggo'\n",
    "twitter_archive_clean.loc[twitter_archive_clean['tweet_id']==855851453814013952, 'stage']='puppo'"
   ]
  },
  {
   "cell_type": "code",
   "execution_count": 79,
   "metadata": {},
   "outputs": [],
   "source": [
    "twitter_archive_clean = twitter_archive_clean.loc[twitter_archive_clean['tweet_id']!=785639753186217984]"
   ]
  },
  {
   "cell_type": "markdown",
   "metadata": {},
   "source": [
    "#### Test\n",
    "- twitter_archive shoule have 2174 entries with 342 non-null stage entries\n",
    "- the stages breakdowns should be\n",
    "    - pupper 225\n",
    "    - doggo 76\n",
    "    - puppo 25\n",
    "    - floofer 9\n",
    "    - doggo, pupper 7"
   ]
  },
  {
   "cell_type": "code",
   "execution_count": 80,
   "metadata": {},
   "outputs": [
    {
     "name": "stdout",
     "output_type": "stream",
     "text": [
      "<class 'pandas.core.frame.DataFrame'>\n",
      "Int64Index: 2174 entries, 0 to 2355\n",
      "Data columns (total 11 columns):\n",
      "tweet_id                 2174 non-null int64\n",
      "in_reply_to_status_id    78 non-null float64\n",
      "in_reply_to_user_id      78 non-null float64\n",
      "timestamp                2174 non-null object\n",
      "source                   2174 non-null object\n",
      "text                     2174 non-null object\n",
      "expanded_urls            2116 non-null object\n",
      "rating_numerator         2174 non-null int64\n",
      "rating_denominator       2174 non-null int64\n",
      "name                     1494 non-null object\n",
      "stage                    342 non-null object\n",
      "dtypes: float64(2), int64(3), object(6)\n",
      "memory usage: 203.8+ KB\n"
     ]
    }
   ],
   "source": [
    "twitter_archive_clean.info()"
   ]
  },
  {
   "cell_type": "code",
   "execution_count": 81,
   "metadata": {},
   "outputs": [
    {
     "data": {
      "text/plain": [
       "pupper          225\n",
       "doggo            76\n",
       "puppo            25\n",
       "floofer           9\n",
       "doggo,pupper      7\n",
       "Name: stage, dtype: int64"
      ]
     },
     "execution_count": 81,
     "metadata": {},
     "output_type": "execute_result"
    }
   ],
   "source": [
    "twitter_archive_clean['stage'].value_counts()"
   ]
  },
  {
   "cell_type": "markdown",
   "metadata": {},
   "source": [
    "\n",
    "#### Define:\n",
    "- convert timestamp to datetime object\n",
    "\n",
    "#### Code:"
   ]
  },
  {
   "cell_type": "code",
   "execution_count": 86,
   "metadata": {},
   "outputs": [
    {
     "name": "stderr",
     "output_type": "stream",
     "text": [
      "/opt/conda/lib/python3.6/site-packages/ipykernel_launcher.py:1: SettingWithCopyWarning: \n",
      "A value is trying to be set on a copy of a slice from a DataFrame.\n",
      "Try using .loc[row_indexer,col_indexer] = value instead\n",
      "\n",
      "See the caveats in the documentation: http://pandas.pydata.org/pandas-docs/stable/indexing.html#indexing-view-versus-copy\n",
      "  \"\"\"Entry point for launching an IPython kernel.\n"
     ]
    }
   ],
   "source": [
    "twitter_archive_clean['timestamp']=pd.to_datetime(twitter_archive_clean['timestamp'], format='%Y-%m-%d %H:%M:%S')"
   ]
  },
  {
   "cell_type": "markdown",
   "metadata": {},
   "source": [
    "#### Test"
   ]
  },
  {
   "cell_type": "code",
   "execution_count": 87,
   "metadata": {},
   "outputs": [
    {
     "name": "stdout",
     "output_type": "stream",
     "text": [
      "<class 'pandas.core.frame.DataFrame'>\n",
      "Int64Index: 2174 entries, 0 to 2355\n",
      "Data columns (total 11 columns):\n",
      "tweet_id                 2174 non-null int64\n",
      "in_reply_to_status_id    78 non-null float64\n",
      "in_reply_to_user_id      78 non-null float64\n",
      "timestamp                2174 non-null datetime64[ns]\n",
      "source                   2174 non-null object\n",
      "text                     2174 non-null object\n",
      "expanded_urls            2116 non-null object\n",
      "rating_numerator         2174 non-null int64\n",
      "rating_denominator       2174 non-null int64\n",
      "name                     1494 non-null object\n",
      "stage                    342 non-null object\n",
      "dtypes: datetime64[ns](1), float64(2), int64(3), object(5)\n",
      "memory usage: 283.8+ KB\n"
     ]
    }
   ],
   "source": [
    "#timestamp should be datetime object\n",
    "twitter_archive_clean.info()                                "
   ]
  },
  {
   "cell_type": "markdown",
   "metadata": {},
   "source": [
    "#### Define:\n",
    "- All the denominators should be out of ten.  I want to read through the original tweets with denominators other than ten and assess if the denominator should actually be changed to ten.\n",
    "    -subset data into \"not_out_of_10\"\n",
    "    -export for visual assessment in google sheets\n",
    "    -if changes are made, import the fixed entries.\n",
    "\n",
    "#### Code:"
   ]
  },
  {
   "cell_type": "code",
   "execution_count": 88,
   "metadata": {},
   "outputs": [],
   "source": [
    "# subset data\n",
    "not_out_of_ten = twitter_archive_clean.loc[twitter_archive_clean['rating_denominator']!=10]\n"
   ]
  },
  {
   "cell_type": "code",
   "execution_count": 89,
   "metadata": {},
   "outputs": [],
   "source": [
    "#export as csv\n",
    "not_out_of_ten.to_csv('not_out_of_ten.csv', sep=',')"
   ]
  },
  {
   "cell_type": "markdown",
   "metadata": {},
   "source": [
    "### Insights from visual inspection of not_out_of_ten\n",
    "\n",
    "- no ratings.  Delete the following tweet ids: \n",
    "    - 832088576586297345 \n",
    "    - 810984652412424192 \n",
    "    \n",
    "- ratings are not correct.  Manually corret the following tweet_ids \n",
    "    - 835246439529840640\n",
    "    - 740373189193256964\n",
    "    - 722974582966214656\n",
    "    - 716439118184652801\n",
    "    - 682962037429899265 \n",
    "    - 666287406224695296 \n",
    "    \n",
    "- ratings have a denominator greater than 10 because they are for groups of dogs.  Programatically change the ratings for the following tweet_ids \n",
    "    - 820690176645140481\n",
    "    - 758467244762497024\n",
    "    - 731156023742988288\n",
    "    - 713900603437621249\n",
    "    - 710658690886586372\n",
    "    - 709198395643068416\n",
    "    - 704054845121142784\n",
    "    - 697463031882764288\n",
    "    - 686035780142297088\n",
    "    - 684225744407494656\n",
    "    - 684222868335505415\n",
    "    - 682808988178739200\n",
    "    - 677716515794329600\n",
    "    - 675853064436391936 \n",
    "\n",
    "#### Define\n",
    "- delete tweets (tweet_ids 832088576586297345 and 810984652412424192)\n",
    "\n",
    "#### Code:"
   ]
  },
  {
   "cell_type": "code",
   "execution_count": 90,
   "metadata": {},
   "outputs": [],
   "source": [
    "twitter_archive_clean = twitter_archive_clean[twitter_archive_clean.tweet_id != 832088576586297345]"
   ]
  },
  {
   "cell_type": "code",
   "execution_count": 91,
   "metadata": {},
   "outputs": [],
   "source": [
    "twitter_archive_clean = twitter_archive_clean[twitter_archive_clean.tweet_id != 810984652412424192]"
   ]
  },
  {
   "cell_type": "markdown",
   "metadata": {},
   "source": [
    "#### Test\n",
    "twitter_archive_clean should only have 2172 entries now"
   ]
  },
  {
   "cell_type": "code",
   "execution_count": 92,
   "metadata": {},
   "outputs": [
    {
     "data": {
      "text/html": [
       "<div>\n",
       "<style>\n",
       "    .dataframe thead tr:only-child th {\n",
       "        text-align: right;\n",
       "    }\n",
       "\n",
       "    .dataframe thead th {\n",
       "        text-align: left;\n",
       "    }\n",
       "\n",
       "    .dataframe tbody tr th {\n",
       "        vertical-align: top;\n",
       "    }\n",
       "</style>\n",
       "<table border=\"1\" class=\"dataframe\">\n",
       "  <thead>\n",
       "    <tr style=\"text-align: right;\">\n",
       "      <th></th>\n",
       "      <th>tweet_id</th>\n",
       "      <th>in_reply_to_status_id</th>\n",
       "      <th>in_reply_to_user_id</th>\n",
       "      <th>timestamp</th>\n",
       "      <th>source</th>\n",
       "      <th>text</th>\n",
       "      <th>expanded_urls</th>\n",
       "      <th>rating_numerator</th>\n",
       "      <th>rating_denominator</th>\n",
       "      <th>name</th>\n",
       "      <th>stage</th>\n",
       "    </tr>\n",
       "  </thead>\n",
       "  <tbody>\n",
       "  </tbody>\n",
       "</table>\n",
       "</div>"
      ],
      "text/plain": [
       "Empty DataFrame\n",
       "Columns: [tweet_id, in_reply_to_status_id, in_reply_to_user_id, timestamp, source, text, expanded_urls, rating_numerator, rating_denominator, name, stage]\n",
       "Index: []"
      ]
     },
     "execution_count": 92,
     "metadata": {},
     "output_type": "execute_result"
    }
   ],
   "source": [
    "twitter_archive_clean.loc[twitter_archive_clean['tweet_id']==810984652412424192]"
   ]
  },
  {
   "cell_type": "code",
   "execution_count": 93,
   "metadata": {},
   "outputs": [
    {
     "data": {
      "text/html": [
       "<div>\n",
       "<style>\n",
       "    .dataframe thead tr:only-child th {\n",
       "        text-align: right;\n",
       "    }\n",
       "\n",
       "    .dataframe thead th {\n",
       "        text-align: left;\n",
       "    }\n",
       "\n",
       "    .dataframe tbody tr th {\n",
       "        vertical-align: top;\n",
       "    }\n",
       "</style>\n",
       "<table border=\"1\" class=\"dataframe\">\n",
       "  <thead>\n",
       "    <tr style=\"text-align: right;\">\n",
       "      <th></th>\n",
       "      <th>tweet_id</th>\n",
       "      <th>in_reply_to_status_id</th>\n",
       "      <th>in_reply_to_user_id</th>\n",
       "      <th>timestamp</th>\n",
       "      <th>source</th>\n",
       "      <th>text</th>\n",
       "      <th>expanded_urls</th>\n",
       "      <th>rating_numerator</th>\n",
       "      <th>rating_denominator</th>\n",
       "      <th>name</th>\n",
       "      <th>stage</th>\n",
       "    </tr>\n",
       "  </thead>\n",
       "  <tbody>\n",
       "  </tbody>\n",
       "</table>\n",
       "</div>"
      ],
      "text/plain": [
       "Empty DataFrame\n",
       "Columns: [tweet_id, in_reply_to_status_id, in_reply_to_user_id, timestamp, source, text, expanded_urls, rating_numerator, rating_denominator, name, stage]\n",
       "Index: []"
      ]
     },
     "execution_count": 93,
     "metadata": {},
     "output_type": "execute_result"
    }
   ],
   "source": [
    "twitter_archive_clean.loc[twitter_archive_clean['tweet_id']==832088576586297345]"
   ]
  },
  {
   "cell_type": "code",
   "execution_count": 94,
   "metadata": {},
   "outputs": [
    {
     "name": "stdout",
     "output_type": "stream",
     "text": [
      "<class 'pandas.core.frame.DataFrame'>\n",
      "Int64Index: 2172 entries, 0 to 2355\n",
      "Data columns (total 11 columns):\n",
      "tweet_id                 2172 non-null int64\n",
      "in_reply_to_status_id    77 non-null float64\n",
      "in_reply_to_user_id      77 non-null float64\n",
      "timestamp                2172 non-null datetime64[ns]\n",
      "source                   2172 non-null object\n",
      "text                     2172 non-null object\n",
      "expanded_urls            2115 non-null object\n",
      "rating_numerator         2172 non-null int64\n",
      "rating_denominator       2172 non-null int64\n",
      "name                     1493 non-null object\n",
      "stage                    342 non-null object\n",
      "dtypes: datetime64[ns](1), float64(2), int64(3), object(5)\n",
      "memory usage: 203.6+ KB\n"
     ]
    }
   ],
   "source": [
    "twitter_archive_clean.info()"
   ]
  },
  {
   "cell_type": "markdown",
   "metadata": {},
   "source": [
    "#### Define\n",
    "Manually change ratings for tweet_ids:\n",
    "- 835246439529840640 (13/10)\n",
    "- 740373189193256964 (14/10)\n",
    "- 722974582966214656 (13/10)\n",
    "- 716439118184652801 (11/10)\n",
    "- 682962037429899265 (10/10)\n",
    "- 666287406224695296 (9/10)\n",
    "\n",
    "#### Code:"
   ]
  },
  {
   "cell_type": "code",
   "execution_count": 95,
   "metadata": {},
   "outputs": [],
   "source": [
    "twitter_archive_clean.loc[twitter_archive_clean['tweet_id']==835246439529840640,'rating_numerator']=13\n",
    "twitter_archive_clean.loc[twitter_archive_clean['tweet_id']==835246439529840640,'rating_denominator']=10"
   ]
  },
  {
   "cell_type": "code",
   "execution_count": 96,
   "metadata": {},
   "outputs": [],
   "source": [
    "twitter_archive_clean.loc[twitter_archive_clean['tweet_id']==740373189193256964,'rating_numerator']=14\n",
    "twitter_archive_clean.loc[twitter_archive_clean['tweet_id']==740373189193256964,'rating_denominator']=10"
   ]
  },
  {
   "cell_type": "code",
   "execution_count": 97,
   "metadata": {},
   "outputs": [],
   "source": [
    "twitter_archive_clean.loc[twitter_archive_clean['tweet_id']==722974582966214656,'rating_numerator']=13\n",
    "twitter_archive_clean.loc[twitter_archive_clean['tweet_id']==722974582966214656,'rating_denominator']=10"
   ]
  },
  {
   "cell_type": "code",
   "execution_count": 98,
   "metadata": {},
   "outputs": [],
   "source": [
    "twitter_archive_clean.loc[twitter_archive_clean['tweet_id']==716439118184652801,'rating_numerator']=11\n",
    "twitter_archive_clean.loc[twitter_archive_clean['tweet_id']==716439118184652801,'rating_denominator']=10"
   ]
  },
  {
   "cell_type": "code",
   "execution_count": 99,
   "metadata": {},
   "outputs": [],
   "source": [
    "twitter_archive_clean.loc[twitter_archive_clean['tweet_id']==682962037429899265,'rating_numerator']=10\n",
    "twitter_archive_clean.loc[twitter_archive_clean['tweet_id']==682962037429899265,'rating_denominator']=10"
   ]
  },
  {
   "cell_type": "code",
   "execution_count": 100,
   "metadata": {},
   "outputs": [],
   "source": [
    "twitter_archive_clean.loc[twitter_archive_clean['tweet_id']==666287406224695296,'rating_numerator']=9\n",
    "twitter_archive_clean.loc[twitter_archive_clean['tweet_id']==666287406224695296,'rating_denominator']=10"
   ]
  },
  {
   "cell_type": "markdown",
   "metadata": {},
   "source": [
    "#### Test\n",
    "Ratings should now be:\n",
    "- 835246439529840640 (13/10)\n",
    "- 740373189193256964 (14/10)\n",
    "- 722974582966214656 (13/10)\n",
    "- 716439118184652801 (11/10)\n",
    "- 682962037429899265 (10/10)\n",
    "- 666287406224695296 (9/10)"
   ]
  },
  {
   "cell_type": "code",
   "execution_count": 101,
   "metadata": {},
   "outputs": [
    {
     "data": {
      "text/html": [
       "<div>\n",
       "<style>\n",
       "    .dataframe thead tr:only-child th {\n",
       "        text-align: right;\n",
       "    }\n",
       "\n",
       "    .dataframe thead th {\n",
       "        text-align: left;\n",
       "    }\n",
       "\n",
       "    .dataframe tbody tr th {\n",
       "        vertical-align: top;\n",
       "    }\n",
       "</style>\n",
       "<table border=\"1\" class=\"dataframe\">\n",
       "  <thead>\n",
       "    <tr style=\"text-align: right;\">\n",
       "      <th></th>\n",
       "      <th>tweet_id</th>\n",
       "      <th>in_reply_to_status_id</th>\n",
       "      <th>in_reply_to_user_id</th>\n",
       "      <th>timestamp</th>\n",
       "      <th>source</th>\n",
       "      <th>text</th>\n",
       "      <th>expanded_urls</th>\n",
       "      <th>rating_numerator</th>\n",
       "      <th>rating_denominator</th>\n",
       "      <th>name</th>\n",
       "      <th>stage</th>\n",
       "    </tr>\n",
       "  </thead>\n",
       "  <tbody>\n",
       "    <tr>\n",
       "      <th>313</th>\n",
       "      <td>835246439529840640</td>\n",
       "      <td>8.352460e+17</td>\n",
       "      <td>26259576.0</td>\n",
       "      <td>2017-02-24 21:54:03</td>\n",
       "      <td>&lt;a href=\"http://twitter.com/download/iphone\" r...</td>\n",
       "      <td>@jonnysun @Lin_Manuel ok jomny I know you're e...</td>\n",
       "      <td>NaN</td>\n",
       "      <td>13</td>\n",
       "      <td>10</td>\n",
       "      <td>NaN</td>\n",
       "      <td>NaN</td>\n",
       "    </tr>\n",
       "    <tr>\n",
       "      <th>1068</th>\n",
       "      <td>740373189193256964</td>\n",
       "      <td>NaN</td>\n",
       "      <td>NaN</td>\n",
       "      <td>2016-06-08 02:41:38</td>\n",
       "      <td>&lt;a href=\"http://twitter.com/download/iphone\" r...</td>\n",
       "      <td>After so many requests, this is Bretagne. She ...</td>\n",
       "      <td>https://twitter.com/dog_rates/status/740373189...</td>\n",
       "      <td>14</td>\n",
       "      <td>10</td>\n",
       "      <td>NaN</td>\n",
       "      <td>NaN</td>\n",
       "    </tr>\n",
       "    <tr>\n",
       "      <th>1165</th>\n",
       "      <td>722974582966214656</td>\n",
       "      <td>NaN</td>\n",
       "      <td>NaN</td>\n",
       "      <td>2016-04-21 02:25:47</td>\n",
       "      <td>&lt;a href=\"http://twitter.com/download/iphone\" r...</td>\n",
       "      <td>Happy 4/20 from the squad! 13/10 for all https...</td>\n",
       "      <td>https://twitter.com/dog_rates/status/722974582...</td>\n",
       "      <td>13</td>\n",
       "      <td>10</td>\n",
       "      <td>NaN</td>\n",
       "      <td>NaN</td>\n",
       "    </tr>\n",
       "    <tr>\n",
       "      <th>1202</th>\n",
       "      <td>716439118184652801</td>\n",
       "      <td>NaN</td>\n",
       "      <td>NaN</td>\n",
       "      <td>2016-04-03 01:36:11</td>\n",
       "      <td>&lt;a href=\"http://twitter.com/download/iphone\" r...</td>\n",
       "      <td>This is Bluebert. He just saw that both #Final...</td>\n",
       "      <td>https://twitter.com/dog_rates/status/716439118...</td>\n",
       "      <td>11</td>\n",
       "      <td>10</td>\n",
       "      <td>Bluebert</td>\n",
       "      <td>NaN</td>\n",
       "    </tr>\n",
       "    <tr>\n",
       "      <th>1662</th>\n",
       "      <td>682962037429899265</td>\n",
       "      <td>NaN</td>\n",
       "      <td>NaN</td>\n",
       "      <td>2016-01-01 16:30:13</td>\n",
       "      <td>&lt;a href=\"http://twitter.com/download/iphone\" r...</td>\n",
       "      <td>This is Darrel. He just robbed a 7/11 and is i...</td>\n",
       "      <td>https://twitter.com/dog_rates/status/682962037...</td>\n",
       "      <td>10</td>\n",
       "      <td>10</td>\n",
       "      <td>Darrel</td>\n",
       "      <td>NaN</td>\n",
       "    </tr>\n",
       "    <tr>\n",
       "      <th>2335</th>\n",
       "      <td>666287406224695296</td>\n",
       "      <td>NaN</td>\n",
       "      <td>NaN</td>\n",
       "      <td>2015-11-16 16:11:11</td>\n",
       "      <td>&lt;a href=\"http://twitter.com/download/iphone\" r...</td>\n",
       "      <td>This is an Albanian 3 1/2 legged  Episcopalian...</td>\n",
       "      <td>https://twitter.com/dog_rates/status/666287406...</td>\n",
       "      <td>9</td>\n",
       "      <td>10</td>\n",
       "      <td>an</td>\n",
       "      <td>NaN</td>\n",
       "    </tr>\n",
       "  </tbody>\n",
       "</table>\n",
       "</div>"
      ],
      "text/plain": [
       "                tweet_id  in_reply_to_status_id  in_reply_to_user_id  \\\n",
       "313   835246439529840640           8.352460e+17           26259576.0   \n",
       "1068  740373189193256964                    NaN                  NaN   \n",
       "1165  722974582966214656                    NaN                  NaN   \n",
       "1202  716439118184652801                    NaN                  NaN   \n",
       "1662  682962037429899265                    NaN                  NaN   \n",
       "2335  666287406224695296                    NaN                  NaN   \n",
       "\n",
       "               timestamp                                             source  \\\n",
       "313  2017-02-24 21:54:03  <a href=\"http://twitter.com/download/iphone\" r...   \n",
       "1068 2016-06-08 02:41:38  <a href=\"http://twitter.com/download/iphone\" r...   \n",
       "1165 2016-04-21 02:25:47  <a href=\"http://twitter.com/download/iphone\" r...   \n",
       "1202 2016-04-03 01:36:11  <a href=\"http://twitter.com/download/iphone\" r...   \n",
       "1662 2016-01-01 16:30:13  <a href=\"http://twitter.com/download/iphone\" r...   \n",
       "2335 2015-11-16 16:11:11  <a href=\"http://twitter.com/download/iphone\" r...   \n",
       "\n",
       "                                                   text  \\\n",
       "313   @jonnysun @Lin_Manuel ok jomny I know you're e...   \n",
       "1068  After so many requests, this is Bretagne. She ...   \n",
       "1165  Happy 4/20 from the squad! 13/10 for all https...   \n",
       "1202  This is Bluebert. He just saw that both #Final...   \n",
       "1662  This is Darrel. He just robbed a 7/11 and is i...   \n",
       "2335  This is an Albanian 3 1/2 legged  Episcopalian...   \n",
       "\n",
       "                                          expanded_urls  rating_numerator  \\\n",
       "313                                                 NaN                13   \n",
       "1068  https://twitter.com/dog_rates/status/740373189...                14   \n",
       "1165  https://twitter.com/dog_rates/status/722974582...                13   \n",
       "1202  https://twitter.com/dog_rates/status/716439118...                11   \n",
       "1662  https://twitter.com/dog_rates/status/682962037...                10   \n",
       "2335  https://twitter.com/dog_rates/status/666287406...                 9   \n",
       "\n",
       "      rating_denominator      name stage  \n",
       "313                   10       NaN   NaN  \n",
       "1068                  10       NaN   NaN  \n",
       "1165                  10       NaN   NaN  \n",
       "1202                  10  Bluebert   NaN  \n",
       "1662                  10    Darrel   NaN  \n",
       "2335                  10        an   NaN  "
      ]
     },
     "execution_count": 101,
     "metadata": {},
     "output_type": "execute_result"
    }
   ],
   "source": [
    "changed_ids = [835246439529840640, 740373189193256964, 722974582966214656, \n",
    "               716439118184652801, 682962037429899265, 666287406224695296]\n",
    "\n",
    "\n",
    "twitter_archive_clean.loc[twitter_archive_clean['tweet_id'].isin(changed_ids)]\n"
   ]
  },
  {
   "cell_type": "markdown",
   "metadata": {},
   "source": [
    "#### Define\n",
    "- Programatically change the ratings for the following tweet_ids \n",
    "    - 820690176645140481\n",
    "    - 758467244762497024\n",
    "    - 731156023742988288\n",
    "    - 713900603437621249\n",
    "    - 710658690886586372\n",
    "    - 709198395643068416\n",
    "    - 704054845121142784\n",
    "    - 697463031882764288\n",
    "    - 686035780142297088\n",
    "    - 684225744407494656\n",
    "    - 684222868335505415\n",
    "    - 682808988178739200\n",
    "    - 677716515794329600\n",
    "    - 675853064436391936 \n",
    " \n",
    "- Get the number of dogs in the group by dividing the denominator by ten.\n",
    "- divide the numerator by the number of dogs in the group, replacing the numerator with new value.\n",
    "- replace the denominator with 10"
   ]
  },
  {
   "cell_type": "code",
   "execution_count": 102,
   "metadata": {},
   "outputs": [],
   "source": [
    "group_rates_ids = [820690176645140481, 758467244762497024, 731156023742988288, 713900603437621249, 710658690886586372, \n",
    "                   709198395643068416, 704054845121142784, 697463031882764288, 686035780142297088, 684225744407494656, \n",
    "                   684222868335505415, 682808988178739200, 677716515794329600, 675853064436391936]"
   ]
  },
  {
   "cell_type": "code",
   "execution_count": 103,
   "metadata": {},
   "outputs": [],
   "source": [
    "twitter_archive_clean1 = twitter_archive_clean.copy()"
   ]
  },
  {
   "cell_type": "code",
   "execution_count": 104,
   "metadata": {},
   "outputs": [],
   "source": [
    "#finding individual rating numerators\n",
    "num_dogs = twitter_archive_clean1['rating_denominator']//10\n",
    "twitter_archive_clean['rating_numerator'] = twitter_archive_clean['rating_numerator']//num_dogs"
   ]
  },
  {
   "cell_type": "code",
   "execution_count": 105,
   "metadata": {},
   "outputs": [],
   "source": [
    "#replace all the rating_denominators as 10\n",
    "twitter_archive_clean['rating_denominator']=10"
   ]
  },
  {
   "cell_type": "markdown",
   "metadata": {},
   "source": [
    "#### Test"
   ]
  },
  {
   "cell_type": "code",
   "execution_count": 106,
   "metadata": {},
   "outputs": [
    {
     "data": {
      "text/html": [
       "<div>\n",
       "<style>\n",
       "    .dataframe thead tr:only-child th {\n",
       "        text-align: right;\n",
       "    }\n",
       "\n",
       "    .dataframe thead th {\n",
       "        text-align: left;\n",
       "    }\n",
       "\n",
       "    .dataframe tbody tr th {\n",
       "        vertical-align: top;\n",
       "    }\n",
       "</style>\n",
       "<table border=\"1\" class=\"dataframe\">\n",
       "  <thead>\n",
       "    <tr style=\"text-align: right;\">\n",
       "      <th></th>\n",
       "      <th>tweet_id</th>\n",
       "      <th>in_reply_to_status_id</th>\n",
       "      <th>in_reply_to_user_id</th>\n",
       "      <th>timestamp</th>\n",
       "      <th>source</th>\n",
       "      <th>text</th>\n",
       "      <th>expanded_urls</th>\n",
       "      <th>rating_numerator</th>\n",
       "      <th>rating_denominator</th>\n",
       "      <th>name</th>\n",
       "      <th>stage</th>\n",
       "    </tr>\n",
       "  </thead>\n",
       "  <tbody>\n",
       "    <tr>\n",
       "      <th>433</th>\n",
       "      <td>820690176645140481</td>\n",
       "      <td>NaN</td>\n",
       "      <td>NaN</td>\n",
       "      <td>2017-01-15 17:52:40</td>\n",
       "      <td>&lt;a href=\"http://twitter.com/download/iphone\" r...</td>\n",
       "      <td>The floofs have been released I repeat the flo...</td>\n",
       "      <td>https://twitter.com/dog_rates/status/820690176...</td>\n",
       "      <td>12</td>\n",
       "      <td>10</td>\n",
       "      <td>NaN</td>\n",
       "      <td>NaN</td>\n",
       "    </tr>\n",
       "    <tr>\n",
       "      <th>902</th>\n",
       "      <td>758467244762497024</td>\n",
       "      <td>NaN</td>\n",
       "      <td>NaN</td>\n",
       "      <td>2016-07-28 01:00:57</td>\n",
       "      <td>&lt;a href=\"http://twitter.com/download/iphone\" r...</td>\n",
       "      <td>Why does this never happen at my front door......</td>\n",
       "      <td>https://twitter.com/dog_rates/status/758467244...</td>\n",
       "      <td>11</td>\n",
       "      <td>10</td>\n",
       "      <td>NaN</td>\n",
       "      <td>NaN</td>\n",
       "    </tr>\n",
       "    <tr>\n",
       "      <th>1120</th>\n",
       "      <td>731156023742988288</td>\n",
       "      <td>NaN</td>\n",
       "      <td>NaN</td>\n",
       "      <td>2016-05-13 16:15:54</td>\n",
       "      <td>&lt;a href=\"http://twitter.com/download/iphone\" r...</td>\n",
       "      <td>Say hello to this unbelievably well behaved sq...</td>\n",
       "      <td>https://twitter.com/dog_rates/status/731156023...</td>\n",
       "      <td>12</td>\n",
       "      <td>10</td>\n",
       "      <td>this</td>\n",
       "      <td>NaN</td>\n",
       "    </tr>\n",
       "    <tr>\n",
       "      <th>1228</th>\n",
       "      <td>713900603437621249</td>\n",
       "      <td>NaN</td>\n",
       "      <td>NaN</td>\n",
       "      <td>2016-03-27 01:29:02</td>\n",
       "      <td>&lt;a href=\"http://twitter.com/download/iphone\" r...</td>\n",
       "      <td>Happy Saturday here's 9 puppers on a bench. 99...</td>\n",
       "      <td>https://twitter.com/dog_rates/status/713900603...</td>\n",
       "      <td>11</td>\n",
       "      <td>10</td>\n",
       "      <td>NaN</td>\n",
       "      <td>NaN</td>\n",
       "    </tr>\n",
       "    <tr>\n",
       "      <th>1254</th>\n",
       "      <td>710658690886586372</td>\n",
       "      <td>NaN</td>\n",
       "      <td>NaN</td>\n",
       "      <td>2016-03-18 02:46:49</td>\n",
       "      <td>&lt;a href=\"http://twitter.com/download/iphone\" r...</td>\n",
       "      <td>Here's a brigade of puppers. All look very pre...</td>\n",
       "      <td>https://twitter.com/dog_rates/status/710658690...</td>\n",
       "      <td>10</td>\n",
       "      <td>10</td>\n",
       "      <td>NaN</td>\n",
       "      <td>NaN</td>\n",
       "    </tr>\n",
       "    <tr>\n",
       "      <th>1274</th>\n",
       "      <td>709198395643068416</td>\n",
       "      <td>NaN</td>\n",
       "      <td>NaN</td>\n",
       "      <td>2016-03-14 02:04:08</td>\n",
       "      <td>&lt;a href=\"http://twitter.com/download/iphone\" r...</td>\n",
       "      <td>From left to right:\\nCletus, Jerome, Alejandro...</td>\n",
       "      <td>https://twitter.com/dog_rates/status/709198395...</td>\n",
       "      <td>9</td>\n",
       "      <td>10</td>\n",
       "      <td>NaN</td>\n",
       "      <td>NaN</td>\n",
       "    </tr>\n",
       "    <tr>\n",
       "      <th>1351</th>\n",
       "      <td>704054845121142784</td>\n",
       "      <td>NaN</td>\n",
       "      <td>NaN</td>\n",
       "      <td>2016-02-28 21:25:30</td>\n",
       "      <td>&lt;a href=\"http://twitter.com/download/iphone\" r...</td>\n",
       "      <td>Here is a whole flock of puppers.  60/50 I'll ...</td>\n",
       "      <td>https://twitter.com/dog_rates/status/704054845...</td>\n",
       "      <td>12</td>\n",
       "      <td>10</td>\n",
       "      <td>a</td>\n",
       "      <td>NaN</td>\n",
       "    </tr>\n",
       "    <tr>\n",
       "      <th>1433</th>\n",
       "      <td>697463031882764288</td>\n",
       "      <td>NaN</td>\n",
       "      <td>NaN</td>\n",
       "      <td>2016-02-10 16:51:59</td>\n",
       "      <td>&lt;a href=\"http://twitter.com/download/iphone\" r...</td>\n",
       "      <td>Happy Wednesday here's a bucket of pups. 44/40...</td>\n",
       "      <td>https://twitter.com/dog_rates/status/697463031...</td>\n",
       "      <td>11</td>\n",
       "      <td>10</td>\n",
       "      <td>NaN</td>\n",
       "      <td>NaN</td>\n",
       "    </tr>\n",
       "    <tr>\n",
       "      <th>1598</th>\n",
       "      <td>686035780142297088</td>\n",
       "      <td>6.860340e+17</td>\n",
       "      <td>4.196984e+09</td>\n",
       "      <td>2016-01-10 04:04:10</td>\n",
       "      <td>&lt;a href=\"http://twitter.com/download/iphone\" r...</td>\n",
       "      <td>Yes I do realize a rating of 4/20 would've bee...</td>\n",
       "      <td>NaN</td>\n",
       "      <td>2</td>\n",
       "      <td>10</td>\n",
       "      <td>NaN</td>\n",
       "      <td>NaN</td>\n",
       "    </tr>\n",
       "    <tr>\n",
       "      <th>1634</th>\n",
       "      <td>684225744407494656</td>\n",
       "      <td>6.842229e+17</td>\n",
       "      <td>4.196984e+09</td>\n",
       "      <td>2016-01-05 04:11:44</td>\n",
       "      <td>&lt;a href=\"http://twitter.com/download/iphone\" r...</td>\n",
       "      <td>Two sneaky puppers were not initially seen, mo...</td>\n",
       "      <td>https://twitter.com/dog_rates/status/684225744...</td>\n",
       "      <td>11</td>\n",
       "      <td>10</td>\n",
       "      <td>NaN</td>\n",
       "      <td>NaN</td>\n",
       "    </tr>\n",
       "    <tr>\n",
       "      <th>1635</th>\n",
       "      <td>684222868335505415</td>\n",
       "      <td>NaN</td>\n",
       "      <td>NaN</td>\n",
       "      <td>2016-01-05 04:00:18</td>\n",
       "      <td>&lt;a href=\"http://twitter.com/download/iphone\" r...</td>\n",
       "      <td>Someone help the girl is being mugged. Several...</td>\n",
       "      <td>https://twitter.com/dog_rates/status/684222868...</td>\n",
       "      <td>11</td>\n",
       "      <td>10</td>\n",
       "      <td>NaN</td>\n",
       "      <td>NaN</td>\n",
       "    </tr>\n",
       "    <tr>\n",
       "      <th>1663</th>\n",
       "      <td>682808988178739200</td>\n",
       "      <td>6.827884e+17</td>\n",
       "      <td>4.196984e+09</td>\n",
       "      <td>2016-01-01 06:22:03</td>\n",
       "      <td>&lt;a href=\"http://twitter.com/download/iphone\" r...</td>\n",
       "      <td>I'm aware that I could've said 20/16, but here...</td>\n",
       "      <td>NaN</td>\n",
       "      <td>20</td>\n",
       "      <td>10</td>\n",
       "      <td>NaN</td>\n",
       "      <td>NaN</td>\n",
       "    </tr>\n",
       "    <tr>\n",
       "      <th>1779</th>\n",
       "      <td>677716515794329600</td>\n",
       "      <td>NaN</td>\n",
       "      <td>NaN</td>\n",
       "      <td>2015-12-18 05:06:23</td>\n",
       "      <td>&lt;a href=\"http://twitter.com/download/iphone\" r...</td>\n",
       "      <td>IT'S PUPPERGEDDON. Total of 144/120 ...I think...</td>\n",
       "      <td>https://twitter.com/dog_rates/status/677716515...</td>\n",
       "      <td>12</td>\n",
       "      <td>10</td>\n",
       "      <td>NaN</td>\n",
       "      <td>NaN</td>\n",
       "    </tr>\n",
       "    <tr>\n",
       "      <th>1843</th>\n",
       "      <td>675853064436391936</td>\n",
       "      <td>NaN</td>\n",
       "      <td>NaN</td>\n",
       "      <td>2015-12-13 01:41:41</td>\n",
       "      <td>&lt;a href=\"http://twitter.com/download/iphone\" r...</td>\n",
       "      <td>Here we have an entire platoon of puppers. Tot...</td>\n",
       "      <td>https://twitter.com/dog_rates/status/675853064...</td>\n",
       "      <td>11</td>\n",
       "      <td>10</td>\n",
       "      <td>NaN</td>\n",
       "      <td>NaN</td>\n",
       "    </tr>\n",
       "  </tbody>\n",
       "</table>\n",
       "</div>"
      ],
      "text/plain": [
       "                tweet_id  in_reply_to_status_id  in_reply_to_user_id  \\\n",
       "433   820690176645140481                    NaN                  NaN   \n",
       "902   758467244762497024                    NaN                  NaN   \n",
       "1120  731156023742988288                    NaN                  NaN   \n",
       "1228  713900603437621249                    NaN                  NaN   \n",
       "1254  710658690886586372                    NaN                  NaN   \n",
       "1274  709198395643068416                    NaN                  NaN   \n",
       "1351  704054845121142784                    NaN                  NaN   \n",
       "1433  697463031882764288                    NaN                  NaN   \n",
       "1598  686035780142297088           6.860340e+17         4.196984e+09   \n",
       "1634  684225744407494656           6.842229e+17         4.196984e+09   \n",
       "1635  684222868335505415                    NaN                  NaN   \n",
       "1663  682808988178739200           6.827884e+17         4.196984e+09   \n",
       "1779  677716515794329600                    NaN                  NaN   \n",
       "1843  675853064436391936                    NaN                  NaN   \n",
       "\n",
       "               timestamp                                             source  \\\n",
       "433  2017-01-15 17:52:40  <a href=\"http://twitter.com/download/iphone\" r...   \n",
       "902  2016-07-28 01:00:57  <a href=\"http://twitter.com/download/iphone\" r...   \n",
       "1120 2016-05-13 16:15:54  <a href=\"http://twitter.com/download/iphone\" r...   \n",
       "1228 2016-03-27 01:29:02  <a href=\"http://twitter.com/download/iphone\" r...   \n",
       "1254 2016-03-18 02:46:49  <a href=\"http://twitter.com/download/iphone\" r...   \n",
       "1274 2016-03-14 02:04:08  <a href=\"http://twitter.com/download/iphone\" r...   \n",
       "1351 2016-02-28 21:25:30  <a href=\"http://twitter.com/download/iphone\" r...   \n",
       "1433 2016-02-10 16:51:59  <a href=\"http://twitter.com/download/iphone\" r...   \n",
       "1598 2016-01-10 04:04:10  <a href=\"http://twitter.com/download/iphone\" r...   \n",
       "1634 2016-01-05 04:11:44  <a href=\"http://twitter.com/download/iphone\" r...   \n",
       "1635 2016-01-05 04:00:18  <a href=\"http://twitter.com/download/iphone\" r...   \n",
       "1663 2016-01-01 06:22:03  <a href=\"http://twitter.com/download/iphone\" r...   \n",
       "1779 2015-12-18 05:06:23  <a href=\"http://twitter.com/download/iphone\" r...   \n",
       "1843 2015-12-13 01:41:41  <a href=\"http://twitter.com/download/iphone\" r...   \n",
       "\n",
       "                                                   text  \\\n",
       "433   The floofs have been released I repeat the flo...   \n",
       "902   Why does this never happen at my front door......   \n",
       "1120  Say hello to this unbelievably well behaved sq...   \n",
       "1228  Happy Saturday here's 9 puppers on a bench. 99...   \n",
       "1254  Here's a brigade of puppers. All look very pre...   \n",
       "1274  From left to right:\\nCletus, Jerome, Alejandro...   \n",
       "1351  Here is a whole flock of puppers.  60/50 I'll ...   \n",
       "1433  Happy Wednesday here's a bucket of pups. 44/40...   \n",
       "1598  Yes I do realize a rating of 4/20 would've bee...   \n",
       "1634  Two sneaky puppers were not initially seen, mo...   \n",
       "1635  Someone help the girl is being mugged. Several...   \n",
       "1663  I'm aware that I could've said 20/16, but here...   \n",
       "1779  IT'S PUPPERGEDDON. Total of 144/120 ...I think...   \n",
       "1843  Here we have an entire platoon of puppers. Tot...   \n",
       "\n",
       "                                          expanded_urls  rating_numerator  \\\n",
       "433   https://twitter.com/dog_rates/status/820690176...                12   \n",
       "902   https://twitter.com/dog_rates/status/758467244...                11   \n",
       "1120  https://twitter.com/dog_rates/status/731156023...                12   \n",
       "1228  https://twitter.com/dog_rates/status/713900603...                11   \n",
       "1254  https://twitter.com/dog_rates/status/710658690...                10   \n",
       "1274  https://twitter.com/dog_rates/status/709198395...                 9   \n",
       "1351  https://twitter.com/dog_rates/status/704054845...                12   \n",
       "1433  https://twitter.com/dog_rates/status/697463031...                11   \n",
       "1598                                                NaN                 2   \n",
       "1634  https://twitter.com/dog_rates/status/684225744...                11   \n",
       "1635  https://twitter.com/dog_rates/status/684222868...                11   \n",
       "1663                                                NaN                20   \n",
       "1779  https://twitter.com/dog_rates/status/677716515...                12   \n",
       "1843  https://twitter.com/dog_rates/status/675853064...                11   \n",
       "\n",
       "      rating_denominator  name stage  \n",
       "433                   10   NaN   NaN  \n",
       "902                   10   NaN   NaN  \n",
       "1120                  10  this   NaN  \n",
       "1228                  10   NaN   NaN  \n",
       "1254                  10   NaN   NaN  \n",
       "1274                  10   NaN   NaN  \n",
       "1351                  10     a   NaN  \n",
       "1433                  10   NaN   NaN  \n",
       "1598                  10   NaN   NaN  \n",
       "1634                  10   NaN   NaN  \n",
       "1635                  10   NaN   NaN  \n",
       "1663                  10   NaN   NaN  \n",
       "1779                  10   NaN   NaN  \n",
       "1843                  10   NaN   NaN  "
      ]
     },
     "execution_count": 106,
     "metadata": {},
     "output_type": "execute_result"
    }
   ],
   "source": [
    "twitter_archive_clean.loc[twitter_archive_clean['tweet_id'].isin(group_rates_ids)]"
   ]
  },
  {
   "cell_type": "code",
   "execution_count": 107,
   "metadata": {},
   "outputs": [
    {
     "data": {
      "text/plain": [
       "10    2172\n",
       "Name: rating_denominator, dtype: int64"
      ]
     },
     "execution_count": 107,
     "metadata": {},
     "output_type": "execute_result"
    }
   ],
   "source": [
    "#all denominators should be ten\n",
    "twitter_archive_clean['rating_denominator'].value_counts()"
   ]
  },
  {
   "cell_type": "code",
   "execution_count": 108,
   "metadata": {},
   "outputs": [
    {
     "data": {
      "text/plain": [
       "12      504\n",
       "10      443\n",
       "11      432\n",
       "13      309\n",
       "9       157\n",
       "8        98\n",
       "7        53\n",
       "14       44\n",
       "5        36\n",
       "6        32\n",
       "3        19\n",
       "4        15\n",
       "2        10\n",
       "1         7\n",
       "0         2\n",
       "420       2\n",
       "75        1\n",
       "20        1\n",
       "26        1\n",
       "182       1\n",
       "27        1\n",
       "1776      1\n",
       "15        1\n",
       "17        1\n",
       "666       1\n",
       "Name: rating_numerator, dtype: int64"
      ]
     },
     "execution_count": 108,
     "metadata": {},
     "output_type": "execute_result"
    }
   ],
   "source": [
    "twitter_archive_clean['rating_numerator'].value_counts()"
   ]
  },
  {
   "cell_type": "markdown",
   "metadata": {},
   "source": [
    "#### Define\n",
    "- investigate rating numerators of over 20 to make sure they are correct.\n",
    "    - subset twitter_archive_clean into numerator_over_20.\n",
    "    - export it\n",
    "    -visually assess\n",
    "    - manually make changes as needed.\n",
    "\n",
    "#### Code"
   ]
  },
  {
   "cell_type": "code",
   "execution_count": 109,
   "metadata": {},
   "outputs": [],
   "source": [
    "# subset data\n",
    "num_over_20 = twitter_archive_clean.loc[twitter_archive_clean['rating_numerator']>=20]"
   ]
  },
  {
   "cell_type": "code",
   "execution_count": 110,
   "metadata": {},
   "outputs": [],
   "source": [
    "#export as csv\n",
    "num_over_20.to_csv('num_over_20.csv', sep=',')"
   ]
  },
  {
   "cell_type": "markdown",
   "metadata": {},
   "source": [
    "### Insights from visual assessment of num_over_20\n",
    "\n",
    "- the following tweet ids must be changed:\n",
    "    - 786709082849828864 (9.75/10)\n",
    "    - 778027034220126208 (11.27/10)\n",
    "    - 680494726643068929 (11.26/10)"
   ]
  },
  {
   "cell_type": "code",
   "execution_count": 111,
   "metadata": {},
   "outputs": [],
   "source": [
    "twitter_archive_clean.loc[twitter_archive_clean['tweet_id']==786709082849828864,'rating_numerator']=9.75\n",
    "twitter_archive_clean.loc[twitter_archive_clean['tweet_id']==778027034220126208,'rating_numerator']=11.27\n",
    "twitter_archive_clean.loc[twitter_archive_clean['tweet_id']==680494726643068929,'rating_numerator']=11.26\n"
   ]
  },
  {
   "cell_type": "markdown",
   "metadata": {},
   "source": [
    "#### Test"
   ]
  },
  {
   "cell_type": "code",
   "execution_count": 112,
   "metadata": {},
   "outputs": [
    {
     "data": {
      "text/html": [
       "<div>\n",
       "<style>\n",
       "    .dataframe thead tr:only-child th {\n",
       "        text-align: right;\n",
       "    }\n",
       "\n",
       "    .dataframe thead th {\n",
       "        text-align: left;\n",
       "    }\n",
       "\n",
       "    .dataframe tbody tr th {\n",
       "        vertical-align: top;\n",
       "    }\n",
       "</style>\n",
       "<table border=\"1\" class=\"dataframe\">\n",
       "  <thead>\n",
       "    <tr style=\"text-align: right;\">\n",
       "      <th></th>\n",
       "      <th>tweet_id</th>\n",
       "      <th>in_reply_to_status_id</th>\n",
       "      <th>in_reply_to_user_id</th>\n",
       "      <th>timestamp</th>\n",
       "      <th>source</th>\n",
       "      <th>text</th>\n",
       "      <th>expanded_urls</th>\n",
       "      <th>rating_numerator</th>\n",
       "      <th>rating_denominator</th>\n",
       "      <th>name</th>\n",
       "      <th>stage</th>\n",
       "    </tr>\n",
       "  </thead>\n",
       "  <tbody>\n",
       "    <tr>\n",
       "      <th>695</th>\n",
       "      <td>786709082849828864</td>\n",
       "      <td>NaN</td>\n",
       "      <td>NaN</td>\n",
       "      <td>2016-10-13 23:23:56</td>\n",
       "      <td>&lt;a href=\"http://twitter.com/download/iphone\" r...</td>\n",
       "      <td>This is Logan, the Chow who lived. He solemnly...</td>\n",
       "      <td>https://twitter.com/dog_rates/status/786709082...</td>\n",
       "      <td>9.75</td>\n",
       "      <td>10</td>\n",
       "      <td>Logan</td>\n",
       "      <td>NaN</td>\n",
       "    </tr>\n",
       "    <tr>\n",
       "      <th>763</th>\n",
       "      <td>778027034220126208</td>\n",
       "      <td>NaN</td>\n",
       "      <td>NaN</td>\n",
       "      <td>2016-09-20 00:24:34</td>\n",
       "      <td>&lt;a href=\"http://twitter.com/download/iphone\" r...</td>\n",
       "      <td>This is Sophie. She's a Jubilant Bush Pupper. ...</td>\n",
       "      <td>https://twitter.com/dog_rates/status/778027034...</td>\n",
       "      <td>11.27</td>\n",
       "      <td>10</td>\n",
       "      <td>Sophie</td>\n",
       "      <td>pupper</td>\n",
       "    </tr>\n",
       "    <tr>\n",
       "      <th>1712</th>\n",
       "      <td>680494726643068929</td>\n",
       "      <td>NaN</td>\n",
       "      <td>NaN</td>\n",
       "      <td>2015-12-25 21:06:00</td>\n",
       "      <td>&lt;a href=\"http://twitter.com/download/iphone\" r...</td>\n",
       "      <td>Here we have uncovered an entire battalion of ...</td>\n",
       "      <td>https://twitter.com/dog_rates/status/680494726...</td>\n",
       "      <td>11.26</td>\n",
       "      <td>10</td>\n",
       "      <td>NaN</td>\n",
       "      <td>NaN</td>\n",
       "    </tr>\n",
       "  </tbody>\n",
       "</table>\n",
       "</div>"
      ],
      "text/plain": [
       "                tweet_id  in_reply_to_status_id  in_reply_to_user_id  \\\n",
       "695   786709082849828864                    NaN                  NaN   \n",
       "763   778027034220126208                    NaN                  NaN   \n",
       "1712  680494726643068929                    NaN                  NaN   \n",
       "\n",
       "               timestamp                                             source  \\\n",
       "695  2016-10-13 23:23:56  <a href=\"http://twitter.com/download/iphone\" r...   \n",
       "763  2016-09-20 00:24:34  <a href=\"http://twitter.com/download/iphone\" r...   \n",
       "1712 2015-12-25 21:06:00  <a href=\"http://twitter.com/download/iphone\" r...   \n",
       "\n",
       "                                                   text  \\\n",
       "695   This is Logan, the Chow who lived. He solemnly...   \n",
       "763   This is Sophie. She's a Jubilant Bush Pupper. ...   \n",
       "1712  Here we have uncovered an entire battalion of ...   \n",
       "\n",
       "                                          expanded_urls  rating_numerator  \\\n",
       "695   https://twitter.com/dog_rates/status/786709082...              9.75   \n",
       "763   https://twitter.com/dog_rates/status/778027034...             11.27   \n",
       "1712  https://twitter.com/dog_rates/status/680494726...             11.26   \n",
       "\n",
       "      rating_denominator    name   stage  \n",
       "695                   10   Logan     NaN  \n",
       "763                   10  Sophie  pupper  \n",
       "1712                  10     NaN     NaN  "
      ]
     },
     "execution_count": 112,
     "metadata": {},
     "output_type": "execute_result"
    }
   ],
   "source": [
    "changed_num_ids= [786709082849828864, 778027034220126208, 680494726643068929]\n",
    "twitter_archive_clean.loc[twitter_archive_clean['tweet_id'].isin(changed_num_ids)]"
   ]
  },
  {
   "cell_type": "markdown",
   "metadata": {},
   "source": [
    "#### Define\n",
    "- create subset of twitter_archive_clean containing numerators below 10.\n",
    "- export it to visually assess it\n",
    "- make changes as needed.\n",
    "\n",
    "#### code"
   ]
  },
  {
   "cell_type": "code",
   "execution_count": 113,
   "metadata": {},
   "outputs": [],
   "source": [
    "num_less_10 = twitter_archive_clean.loc[twitter_archive_clean['rating_numerator']<10]\n",
    "num_less_10.drop(['in_reply_to_status_id','in_reply_to_user_id','timestamp','source','name','stage'], axis = 1)\n",
    "\n",
    "num_less_10.to_csv('num_less_10.csv')"
   ]
  },
  {
   "cell_type": "markdown",
   "metadata": {},
   "source": [
    "#### Insights from visual assessment of num_less_10\n",
    "- the following tweets containn multiple ratings\n",
    "    - 667491009379606528 (7 & 8 /10)\n",
    "    - 667878741721415682 (10&2 / 10)\n",
    "    - 674646392044941312 (5&8 / 10)\n",
    "    - 691483041324204033 (5 & 10 /10)\n",
    "\n",
    "- the following tweets contain a decimal numerator\n",
    "    - 674646392044941312 (9.5)\n",
    "    - 883482846933004288 (13.5)\n",
    "\n",
    "#### Define\n",
    "- Correct the rating numerator for the following tweet ids:\n",
    "    - 674646392044941312 (9.5)\n",
    "    - 883482846933004288 (13.5)\n",
    "\n",
    "#### code:"
   ]
  },
  {
   "cell_type": "code",
   "execution_count": 115,
   "metadata": {},
   "outputs": [],
   "source": [
    "twitter_archive_clean.loc[twitter_archive_clean['tweet_id']==674646392044941312, 'rating_numerator']= 9.5\n",
    "twitter_archive_clean.loc[twitter_archive_clean['tweet_id']==883482846933004288, 'rating_numerator']= 13.5"
   ]
  },
  {
   "cell_type": "markdown",
   "metadata": {},
   "source": [
    "#### Test:\n",
    "- check if rating numerators are changed properly"
   ]
  },
  {
   "cell_type": "code",
   "execution_count": 116,
   "metadata": {},
   "outputs": [
    {
     "data": {
      "text/html": [
       "<div>\n",
       "<style>\n",
       "    .dataframe thead tr:only-child th {\n",
       "        text-align: right;\n",
       "    }\n",
       "\n",
       "    .dataframe thead th {\n",
       "        text-align: left;\n",
       "    }\n",
       "\n",
       "    .dataframe tbody tr th {\n",
       "        vertical-align: top;\n",
       "    }\n",
       "</style>\n",
       "<table border=\"1\" class=\"dataframe\">\n",
       "  <thead>\n",
       "    <tr style=\"text-align: right;\">\n",
       "      <th></th>\n",
       "      <th>tweet_id</th>\n",
       "      <th>in_reply_to_status_id</th>\n",
       "      <th>in_reply_to_user_id</th>\n",
       "      <th>timestamp</th>\n",
       "      <th>source</th>\n",
       "      <th>text</th>\n",
       "      <th>expanded_urls</th>\n",
       "      <th>rating_numerator</th>\n",
       "      <th>rating_denominator</th>\n",
       "      <th>name</th>\n",
       "      <th>stage</th>\n",
       "    </tr>\n",
       "  </thead>\n",
       "  <tbody>\n",
       "    <tr>\n",
       "      <th>45</th>\n",
       "      <td>883482846933004288</td>\n",
       "      <td>NaN</td>\n",
       "      <td>NaN</td>\n",
       "      <td>2017-07-08 00:28:19</td>\n",
       "      <td>&lt;a href=\"http://twitter.com/download/iphone\" r...</td>\n",
       "      <td>This is Bella. She hopes her smile made you sm...</td>\n",
       "      <td>https://twitter.com/dog_rates/status/883482846...</td>\n",
       "      <td>13.5</td>\n",
       "      <td>10</td>\n",
       "      <td>Bella</td>\n",
       "      <td>NaN</td>\n",
       "    </tr>\n",
       "    <tr>\n",
       "      <th>1901</th>\n",
       "      <td>674646392044941312</td>\n",
       "      <td>NaN</td>\n",
       "      <td>NaN</td>\n",
       "      <td>2015-12-09 17:46:48</td>\n",
       "      <td>&lt;a href=\"http://twitter.com/download/iphone\" r...</td>\n",
       "      <td>Two gorgeous dogs here. Little waddling dog is...</td>\n",
       "      <td>https://twitter.com/dog_rates/status/674646392...</td>\n",
       "      <td>9.5</td>\n",
       "      <td>10</td>\n",
       "      <td>NaN</td>\n",
       "      <td>NaN</td>\n",
       "    </tr>\n",
       "  </tbody>\n",
       "</table>\n",
       "</div>"
      ],
      "text/plain": [
       "                tweet_id  in_reply_to_status_id  in_reply_to_user_id  \\\n",
       "45    883482846933004288                    NaN                  NaN   \n",
       "1901  674646392044941312                    NaN                  NaN   \n",
       "\n",
       "               timestamp                                             source  \\\n",
       "45   2017-07-08 00:28:19  <a href=\"http://twitter.com/download/iphone\" r...   \n",
       "1901 2015-12-09 17:46:48  <a href=\"http://twitter.com/download/iphone\" r...   \n",
       "\n",
       "                                                   text  \\\n",
       "45    This is Bella. She hopes her smile made you sm...   \n",
       "1901  Two gorgeous dogs here. Little waddling dog is...   \n",
       "\n",
       "                                          expanded_urls  rating_numerator  \\\n",
       "45    https://twitter.com/dog_rates/status/883482846...              13.5   \n",
       "1901  https://twitter.com/dog_rates/status/674646392...               9.5   \n",
       "\n",
       "      rating_denominator   name stage  \n",
       "45                    10  Bella   NaN  \n",
       "1901                  10    NaN   NaN  "
      ]
     },
     "execution_count": 116,
     "metadata": {},
     "output_type": "execute_result"
    }
   ],
   "source": [
    "changed_ids = [674646392044941312, 883482846933004288]\n",
    "twitter_archive_clean.loc[twitter_archive_clean['tweet_id'].isin(changed_ids)]"
   ]
  },
  {
   "cell_type": "markdown",
   "metadata": {},
   "source": [
    "#### Define\n",
    "- Replace rating numerator with average rating for the following tweet_ids:\n",
    "    - 667491009379606528 (7 & 8 /10)\n",
    "    - 667878741721415682 (10&2 / 10)\n",
    "    - 674646392044941312 (5&8 / 10)\n",
    "    - 691483041324204033 (5 & 10 /10)"
   ]
  },
  {
   "cell_type": "code",
   "execution_count": 117,
   "metadata": {},
   "outputs": [],
   "source": [
    "def average (a):\n",
    "    ### finds the average of a list of numbers\n",
    "    avg = sum(a)/len(a)\n",
    "    return avg"
   ]
  },
  {
   "cell_type": "code",
   "execution_count": 118,
   "metadata": {},
   "outputs": [
    {
     "data": {
      "text/plain": [
       "7.5"
      ]
     },
     "execution_count": 118,
     "metadata": {},
     "output_type": "execute_result"
    }
   ],
   "source": [
    "average ([5,10])"
   ]
  },
  {
   "cell_type": "code",
   "execution_count": 120,
   "metadata": {},
   "outputs": [],
   "source": [
    "twitter_archive_clean.loc[twitter_archive_clean['tweet_id']==667491009379606528, 'rating_numerator']=average([7,8])\n",
    "twitter_archive_clean.loc[twitter_archive_clean['tweet_id']==667878741721415682, 'rating_numerator']=average([10,2])\n",
    "twitter_archive_clean.loc[twitter_archive_clean['tweet_id']==674646392044941312, 'rating_numerator']=average([5,8])\n",
    "twitter_archive_clean.loc[twitter_archive_clean['tweet_id']==691483041324204033, 'rating_numerator']=average([5,10])"
   ]
  },
  {
   "cell_type": "markdown",
   "metadata": {},
   "source": [
    "#### Test\n",
    "- check changed numerators"
   ]
  },
  {
   "cell_type": "code",
   "execution_count": 121,
   "metadata": {},
   "outputs": [
    {
     "data": {
      "text/html": [
       "<div>\n",
       "<style>\n",
       "    .dataframe thead tr:only-child th {\n",
       "        text-align: right;\n",
       "    }\n",
       "\n",
       "    .dataframe thead th {\n",
       "        text-align: left;\n",
       "    }\n",
       "\n",
       "    .dataframe tbody tr th {\n",
       "        vertical-align: top;\n",
       "    }\n",
       "</style>\n",
       "<table border=\"1\" class=\"dataframe\">\n",
       "  <thead>\n",
       "    <tr style=\"text-align: right;\">\n",
       "      <th></th>\n",
       "      <th>tweet_id</th>\n",
       "      <th>in_reply_to_status_id</th>\n",
       "      <th>in_reply_to_user_id</th>\n",
       "      <th>timestamp</th>\n",
       "      <th>source</th>\n",
       "      <th>text</th>\n",
       "      <th>expanded_urls</th>\n",
       "      <th>rating_numerator</th>\n",
       "      <th>rating_denominator</th>\n",
       "      <th>name</th>\n",
       "      <th>stage</th>\n",
       "    </tr>\n",
       "  </thead>\n",
       "  <tbody>\n",
       "    <tr>\n",
       "      <th>1508</th>\n",
       "      <td>691483041324204033</td>\n",
       "      <td>NaN</td>\n",
       "      <td>NaN</td>\n",
       "      <td>2016-01-25 04:49:38</td>\n",
       "      <td>&lt;a href=\"http://twitter.com/download/iphone\" r...</td>\n",
       "      <td>When bae says they can't go out but you see th...</td>\n",
       "      <td>https://twitter.com/dog_rates/status/691483041...</td>\n",
       "      <td>7.5</td>\n",
       "      <td>10</td>\n",
       "      <td>NaN</td>\n",
       "      <td>NaN</td>\n",
       "    </tr>\n",
       "    <tr>\n",
       "      <th>1901</th>\n",
       "      <td>674646392044941312</td>\n",
       "      <td>NaN</td>\n",
       "      <td>NaN</td>\n",
       "      <td>2015-12-09 17:46:48</td>\n",
       "      <td>&lt;a href=\"http://twitter.com/download/iphone\" r...</td>\n",
       "      <td>Two gorgeous dogs here. Little waddling dog is...</td>\n",
       "      <td>https://twitter.com/dog_rates/status/674646392...</td>\n",
       "      <td>6.5</td>\n",
       "      <td>10</td>\n",
       "      <td>NaN</td>\n",
       "      <td>NaN</td>\n",
       "    </tr>\n",
       "    <tr>\n",
       "      <th>2246</th>\n",
       "      <td>667878741721415682</td>\n",
       "      <td>NaN</td>\n",
       "      <td>NaN</td>\n",
       "      <td>2015-11-21 01:34:35</td>\n",
       "      <td>&lt;a href=\"http://twitter.com/download/iphone\" r...</td>\n",
       "      <td>This is Tedrick. He lives on the edge. Needs s...</td>\n",
       "      <td>https://twitter.com/dog_rates/status/667878741...</td>\n",
       "      <td>6.0</td>\n",
       "      <td>10</td>\n",
       "      <td>Tedrick</td>\n",
       "      <td>NaN</td>\n",
       "    </tr>\n",
       "    <tr>\n",
       "      <th>2272</th>\n",
       "      <td>667491009379606528</td>\n",
       "      <td>NaN</td>\n",
       "      <td>NaN</td>\n",
       "      <td>2015-11-19 23:53:52</td>\n",
       "      <td>&lt;a href=\"http://twitter.com\" rel=\"nofollow\"&gt;Tw...</td>\n",
       "      <td>Two dogs in this one. Both are rare Jujitsu Py...</td>\n",
       "      <td>https://twitter.com/dog_rates/status/667491009...</td>\n",
       "      <td>7.5</td>\n",
       "      <td>10</td>\n",
       "      <td>NaN</td>\n",
       "      <td>NaN</td>\n",
       "    </tr>\n",
       "  </tbody>\n",
       "</table>\n",
       "</div>"
      ],
      "text/plain": [
       "                tweet_id  in_reply_to_status_id  in_reply_to_user_id  \\\n",
       "1508  691483041324204033                    NaN                  NaN   \n",
       "1901  674646392044941312                    NaN                  NaN   \n",
       "2246  667878741721415682                    NaN                  NaN   \n",
       "2272  667491009379606528                    NaN                  NaN   \n",
       "\n",
       "               timestamp                                             source  \\\n",
       "1508 2016-01-25 04:49:38  <a href=\"http://twitter.com/download/iphone\" r...   \n",
       "1901 2015-12-09 17:46:48  <a href=\"http://twitter.com/download/iphone\" r...   \n",
       "2246 2015-11-21 01:34:35  <a href=\"http://twitter.com/download/iphone\" r...   \n",
       "2272 2015-11-19 23:53:52  <a href=\"http://twitter.com\" rel=\"nofollow\">Tw...   \n",
       "\n",
       "                                                   text  \\\n",
       "1508  When bae says they can't go out but you see th...   \n",
       "1901  Two gorgeous dogs here. Little waddling dog is...   \n",
       "2246  This is Tedrick. He lives on the edge. Needs s...   \n",
       "2272  Two dogs in this one. Both are rare Jujitsu Py...   \n",
       "\n",
       "                                          expanded_urls  rating_numerator  \\\n",
       "1508  https://twitter.com/dog_rates/status/691483041...               7.5   \n",
       "1901  https://twitter.com/dog_rates/status/674646392...               6.5   \n",
       "2246  https://twitter.com/dog_rates/status/667878741...               6.0   \n",
       "2272  https://twitter.com/dog_rates/status/667491009...               7.5   \n",
       "\n",
       "      rating_denominator     name stage  \n",
       "1508                  10      NaN   NaN  \n",
       "1901                  10      NaN   NaN  \n",
       "2246                  10  Tedrick   NaN  \n",
       "2272                  10      NaN   NaN  "
      ]
     },
     "execution_count": 121,
     "metadata": {},
     "output_type": "execute_result"
    }
   ],
   "source": [
    "changed_ids=[667491009379606528, 667878741721415682, 674646392044941312, 691483041324204033]\n",
    "\n",
    "twitter_archive_clean.loc[twitter_archive_clean['tweet_id'].isin(changed_ids)]"
   ]
  },
  {
   "cell_type": "markdown",
   "metadata": {},
   "source": [
    "#### Define\n",
    "\n",
    "- create not_name subset from twitter_archive_clean by selecting entries with a lowercase first letter.\n",
    "- visually assess not_name to determine name changes\n",
    "- make necessary changes"
   ]
  },
  {
   "cell_type": "code",
   "execution_count": 122,
   "metadata": {},
   "outputs": [
    {
     "name": "stdout",
     "output_type": "stream",
     "text": [
      "<class 'pandas.core.frame.DataFrame'>\n",
      "Int64Index: 2172 entries, 0 to 2355\n",
      "Data columns (total 11 columns):\n",
      "tweet_id                 2172 non-null int64\n",
      "in_reply_to_status_id    77 non-null float64\n",
      "in_reply_to_user_id      77 non-null float64\n",
      "timestamp                2172 non-null datetime64[ns]\n",
      "source                   2172 non-null object\n",
      "text                     2172 non-null object\n",
      "expanded_urls            2115 non-null object\n",
      "rating_numerator         2172 non-null float64\n",
      "rating_denominator       2172 non-null int64\n",
      "name                     1493 non-null object\n",
      "stage                    342 non-null object\n",
      "dtypes: datetime64[ns](1), float64(3), int64(2), object(5)\n",
      "memory usage: 203.6+ KB\n"
     ]
    }
   ],
   "source": [
    "twitter_archive_clean.info()"
   ]
  },
  {
   "cell_type": "code",
   "execution_count": 123,
   "metadata": {},
   "outputs": [],
   "source": [
    "named = twitter_archive_clean.loc[twitter_archive_clean['name'].notnull()]\n",
    "not_name = named.loc[named['name'].str.islower()]\n",
    "no_name = twitter_archive_clean.loc[twitter_archive_clean['name'].isnull()]"
   ]
  },
  {
   "cell_type": "code",
   "execution_count": 124,
   "metadata": {},
   "outputs": [
    {
     "data": {
      "text/plain": [
       "783"
      ]
     },
     "execution_count": 124,
     "metadata": {},
     "output_type": "execute_result"
    }
   ],
   "source": [
    "name_issues = pd.concat([not_name, no_name])\n",
    "len(name_issues)"
   ]
  },
  {
   "cell_type": "code",
   "execution_count": 125,
   "metadata": {},
   "outputs": [
    {
     "data": {
      "text/plain": [
       "104"
      ]
     },
     "execution_count": 125,
     "metadata": {},
     "output_type": "execute_result"
    }
   ],
   "source": [
    "len(not_name)"
   ]
  },
  {
   "cell_type": "code",
   "execution_count": 126,
   "metadata": {},
   "outputs": [
    {
     "data": {
      "text/plain": [
       "679"
      ]
     },
     "execution_count": 126,
     "metadata": {},
     "output_type": "execute_result"
    }
   ],
   "source": [
    "len(no_name)"
   ]
  },
  {
   "cell_type": "code",
   "execution_count": 127,
   "metadata": {},
   "outputs": [],
   "source": [
    "name_issues.to_csv('name_issues.csv', sep = ',')"
   ]
  },
  {
   "cell_type": "markdown",
   "metadata": {},
   "source": [
    "### Insights from visual assessment of not_name\n",
    "- the following tweet_ids need to have their name changed\n",
    "    - 828650029636317184 (Grace)\n",
    "    - 792913359805018113 (Forrest)\n",
    "    - 765395769549590528 (Zoey)\n",
    "    - 748692773788876800 (Quizno)\n",
    "    - 675706639471788032 (Wylie)*\n",
    "    - 673636718965334016 (Kip)*\n",
    "    - 671743150407421952 (Jacob)*\n",
    "    - 671147085991960577 (Rufus)*\n",
    "    - 670427002554466305 (Spork)*\n",
    "    - 670361874861563904 (Cherokee)*\n",
    "    - 670303360680108032 (Hemry)*\n",
    "    - 669923323644657664 (Alphred)*\n",
    "    - 669564461267722241 (Alfredo)*\n",
    "    - 668955713004314625 (Leroi)*\n",
    "    - 668636665813057536 (Berta)*\n",
    "    - 668507509523615744 (Chuk)*\n",
    "    - 668171859951755264 (Alfonso)*\n",
    "    - 667861340749471744 (Cheryl)*\n",
    "    - 667773195014021121 (Jessiga)*\n",
    "    - 667538891197542400 (Klint)*\n",
    "    - 667470559035432960 (Kohl)*\n",
    "    - 667177989038297088 (Daryl)\n",
    "    - 666983947667116034 (Pepe)*\n",
    "    - 666781792255496192 (Octaviath)*\n",
    "    - 666701168228331520 (Johm)*\n",
    "    - 885518971528720385 (Howard)\n",
    "    - 878604707211726852 (Martha)\n",
    "    - 863079547188785154 (Pablo)\n",
    "    - 861288531465048066 (Boomer)\n",
    "    - 859607811541651456 (Zoey)\n",
    "    - 857393404942143489 (Meeko)\n",
    "    - 857393404942143489 (Charlie)\n",
    "    - 844979544864018432 (Toby)\n",
    "    - 836001077879255040 (Atlas)\n",
    "    - 831650051525054464 (Blue)\n",
    "    - 828361771580813312 (Beebop and Doobert)\n",
    "    - 826204788643753985 (Dew)\n",
    "    - 812503143955202048 (Jake)\n",
    "    - 811647686436880384 (Augie)\n",
    "    - 808106460588765185 (Burke, Dexter)\n",
    "    - 788178268662984705 (Atlas)\n",
    "    - 778408200802557953 (Loki)\n",
    "    - 778039087836069888 (Max)\n",
    "    - 776218204058357768 (Atlas)\n",
    "    - 766714921925144576 (Charley)\n",
    "    - 758041019896193024 (Teagen)\n",
    "    - 740373189193256964 (Bretange)\n",
    "    - 709198395643068416 (Cletus, Jerome, Alejandro, Burp,Titson)\n",
    "    - 704871453724954624 (Pipsy)\n",
    "    - 695064344191721472 (Charles)\n",
    "    - 692142790915014657 (Teddy)\n",
    "    - 685681090388975616 (Jack)\n",
    "    - 685547936038666240 (Jack)\n",
    "    - 684538444857667585 (Pippa)\n",
    "    - 684188786104872960 (Boomer)\n",
    "    - 682047327939461121 (Thea)\n",
    "    - 681679526984871937 (Toby)\n",
    "    - 677687604918272002 (Cindy)\n",
    "    - 676590572941893632 (Bubbles)\n",
    "    - 675870721063669760 (Yoshi)\n",
    "    - 669363888236994561 (Zeus)\n",
    "    - 669037058363662336 (Pancho, Peaches)\n",
    "    - 668268907921326080 (Guss)\n",
    "    - 668221241640230912 (Bo, Smittens)\n",
    "    - 668142349051129856 (Oliver)\n",
    "    - 667524857454854144 (Big Jumpy Rat)\n",
    "    - 667509364010450944 (Tickles)\n",
    "    - 666835007768551424 (Cupit, Prencer)\n",
    "* has the word \"named\" in front of it.\n",
    "\n",
    "#### Define\n",
    "Manually change the names for the following tweet_ids:\n",
    "    - 667177989038297088 (Daryl)\n",
    "    - 828650029636317184 (Grace)\n",
    "    - 792913359805018113 (Forrest)\n",
    "    - 765395769549590528 (Zoey)\n",
    "    - 748692773788876800 (Quizno)\n",
    "    - 885518971528720385 (Howard)\n",
    "    - 878604707211726852 (Martha)\n",
    "    - 863079547188785154 (Pablo)\n",
    "    - 861288531465048066 (Boomer)\n",
    "    - 859607811541651456 (Zoey)\n",
    "    - 857393404942143489 (Meeko)\n",
    "    - 857393404942143489 (Charlie)\n",
    "    - 844979544864018432 (Toby)\n",
    "    - 836001077879255040 (Atlas)\n",
    "    - 831650051525054464 (Blue)\n",
    "    - 828361771580813312 (Beebop and Doobert)\n",
    "    - 826204788643753985 (Dew)\n",
    "    - 812503143955202048 (Jake)\n",
    "    - 811647686436880384 (Augie)\n",
    "    - 808106460588765185 (Burke, Dexter)\n",
    "    - 788178268662984705 (Atlas)\n",
    "    - 778408200802557953 (Loki)\n",
    "    - 778039087836069888 (Max)\n",
    "    - 776218204058357768 (Atlas)\n",
    "    - 766714921925144576 (Charley)\n",
    "    - 758041019896193024 (Teagen)\n",
    "    - 740373189193256964 (Bretange)\n",
    "    - 709198395643068416 (Cletus, Jerome, Alejandro, Burp,Titson)\n",
    "    - 704871453724954624 (Pipsy)\n",
    "    - 695064344191721472 (Charles)\n",
    "    - 692142790915014657 (Teddy)\n",
    "    - 685681090388975616 (Jack)\n",
    "    - 685547936038666240 (Jack)\n",
    "    - 684538444857667585 (Pippa)\n",
    "    - 684188786104872960 (Boomer)\n",
    "    - 682047327939461121 (Thea)\n",
    "    - 681679526984871937 (Toby)\n",
    "    - 677687604918272002 (Cindy)\n",
    "    - 676590572941893632 (Bubbles)\n",
    "    - 675870721063669760 (Yoshi)\n",
    "    - 669363888236994561 (Zeus)\n",
    "    - 669037058363662336 (Pancho, Peaches)\n",
    "    - 668268907921326080 (Guss)\n",
    "    - 668221241640230912 (Bo, Smittens)\n",
    "    - 668142349051129856 (Oliver)\n",
    "    - 667524857454854144 (Big Jumpy Rat)\n",
    "    - 667509364010450944 (Tickles)\n",
    "    - 666835007768551424 (Cupit, Prencer)\n",
    "\n",
    "#### Code"
   ]
  },
  {
   "cell_type": "code",
   "execution_count": 128,
   "metadata": {},
   "outputs": [],
   "source": [
    "twitter_archive_clean.loc[twitter_archive_clean['tweet_id']==667177989038297088,'name']='Daryl'\n",
    "twitter_archive_clean.loc[twitter_archive_clean['tweet_id']==828650029636317184,'name']='Grace'\n",
    "twitter_archive_clean.loc[twitter_archive_clean['tweet_id']==792913359805018113,'name']='Forrest'\n",
    "twitter_archive_clean.loc[twitter_archive_clean['tweet_id']==765395769549590528,'name']='Zoey'\n",
    "twitter_archive_clean.loc[twitter_archive_clean['tweet_id']==748692773788876800,'name']='Quizno'\n",
    "twitter_archive_clean.loc[twitter_archive_clean['tweet_id']==885518971528720385, 'name']='Howard'\n",
    "twitter_archive_clean.loc[twitter_archive_clean['tweet_id']==878604707211726852, 'name']='Martha'\n",
    "twitter_archive_clean.loc[twitter_archive_clean['tweet_id']==863079547188785154, 'name']='Pablo'\n",
    "twitter_archive_clean.loc[twitter_archive_clean['tweet_id']==861288531465048066, 'name']='Boomer'\n",
    "twitter_archive_clean.loc[twitter_archive_clean['tweet_id']==859607811541651456, 'name']= 'Zoey'\n",
    "twitter_archive_clean.loc[twitter_archive_clean['tweet_id']==857393404942143489, 'name']= 'Meeko'\n",
    "twitter_archive_clean.loc[twitter_archive_clean['tweet_id']==856526610513747968, 'name']='Charlie'\n",
    "twitter_archive_clean.loc[twitter_archive_clean['tweet_id']==844979544864018432, 'name']='Toby'\n",
    "twitter_archive_clean.loc[twitter_archive_clean['tweet_id']==836001077879255040, 'name']='Atlas'\n",
    "twitter_archive_clean.loc[twitter_archive_clean['tweet_id']==831650051525054464, 'name']='Blue'\n",
    "twitter_archive_clean.loc[twitter_archive_clean['tweet_id']==828361771580813312, 'name']='Beebop, Doobert'\n",
    "twitter_archive_clean.loc[twitter_archive_clean['tweet_id']==826204788643753985, 'name']='Dew'\n",
    "twitter_archive_clean.loc[twitter_archive_clean['tweet_id']==812503143955202048, 'name']='Jake'\n",
    "twitter_archive_clean.loc[twitter_archive_clean['tweet_id']==811647686436880384, 'name']='Augie'\n",
    "twitter_archive_clean.loc[twitter_archive_clean['tweet_id']==808106460588765185, 'name']='Burke, Dexter'\n",
    "twitter_archive_clean.loc[twitter_archive_clean['tweet_id']==788178268662984705, 'name']='Atlas'\n",
    "twitter_archive_clean.loc[twitter_archive_clean['tweet_id']==778408200802557953, 'name']='Loki'\n",
    "twitter_archive_clean.loc[twitter_archive_clean['tweet_id']==778039087836069888, 'name']='Max'\n",
    "twitter_archive_clean.loc[twitter_archive_clean['tweet_id']==776218204058357768, 'name']='Atlas'\n",
    "twitter_archive_clean.loc[twitter_archive_clean['tweet_id']==766714921925144576, 'name']='Charley'\n",
    "twitter_archive_clean.loc[twitter_archive_clean['tweet_id']==758041019896193024, 'name']='Teagen'\n",
    "twitter_archive_clean.loc[twitter_archive_clean['tweet_id']==740373189193256964, 'name']='Bretange'\n",
    "twitter_archive_clean.loc[twitter_archive_clean['tweet_id']==709198395643068416, 'name']='Cletus, Jerome, Alejandro, Burp,Titson'\n",
    "twitter_archive_clean.loc[twitter_archive_clean['tweet_id']==704871453724954624, 'name']='Pipsy'\n",
    "twitter_archive_clean.loc[twitter_archive_clean['tweet_id']==695064344191721472, 'name']='Charles'\n",
    "twitter_archive_clean.loc[twitter_archive_clean['tweet_id']==692142790915014657, 'name']='Teddy'\n",
    "twitter_archive_clean.loc[twitter_archive_clean['tweet_id']==685681090388975616, 'name']='Jack'\n",
    "twitter_archive_clean.loc[twitter_archive_clean['tweet_id']==685547936038666240, 'name']='Jack'\n",
    "twitter_archive_clean.loc[twitter_archive_clean['tweet_id']==684538444857667585, 'name']='Pippa'\n",
    "twitter_archive_clean.loc[twitter_archive_clean['tweet_id']==684188786104872960, 'name']='Boomer'\n",
    "twitter_archive_clean.loc[twitter_archive_clean['tweet_id']==682047327939461121, 'name']='Thea'\n",
    "twitter_archive_clean.loc[twitter_archive_clean['tweet_id']==681679526984871937, 'name']='Toby'\n",
    "twitter_archive_clean.loc[twitter_archive_clean['tweet_id']==677687604918272002, 'name']='Cindy'\n",
    "twitter_archive_clean.loc[twitter_archive_clean['tweet_id']==676590572941893632, 'name']='Bubbles'\n",
    "twitter_archive_clean.loc[twitter_archive_clean['tweet_id']==675870721063669760, 'name']='Yoshi'\n",
    "twitter_archive_clean.loc[twitter_archive_clean['tweet_id']==669363888236994561, 'name']='Zeus'\n",
    "twitter_archive_clean.loc[twitter_archive_clean['tweet_id']==669037058363662336, 'name']='Pancho, Peaches'\n",
    "twitter_archive_clean.loc[twitter_archive_clean['tweet_id']==668268907921326080, 'name']='Guss'\n",
    "twitter_archive_clean.loc[twitter_archive_clean['tweet_id']==668221241640230912, 'name']='Bo, Smittens'\n",
    "twitter_archive_clean.loc[twitter_archive_clean['tweet_id']==668142349051129856, 'name']='Oliver'\n",
    "twitter_archive_clean.loc[twitter_archive_clean['tweet_id']==667524857454854144, 'name']='Big Jumpy Rat'\n",
    "twitter_archive_clean.loc[twitter_archive_clean['tweet_id']==667509364010450944, 'name']='Tickles'\n",
    "twitter_archive_clean.loc[twitter_archive_clean['tweet_id']==666835007768551424, 'name']='Cupit, Prencer'"
   ]
  },
  {
   "cell_type": "markdown",
   "metadata": {},
   "source": [
    "#### Test"
   ]
  },
  {
   "cell_type": "code",
   "execution_count": 129,
   "metadata": {},
   "outputs": [
    {
     "data": {
      "text/html": [
       "<div>\n",
       "<style>\n",
       "    .dataframe thead tr:only-child th {\n",
       "        text-align: right;\n",
       "    }\n",
       "\n",
       "    .dataframe thead th {\n",
       "        text-align: left;\n",
       "    }\n",
       "\n",
       "    .dataframe tbody tr th {\n",
       "        vertical-align: top;\n",
       "    }\n",
       "</style>\n",
       "<table border=\"1\" class=\"dataframe\">\n",
       "  <thead>\n",
       "    <tr style=\"text-align: right;\">\n",
       "      <th></th>\n",
       "      <th>tweet_id</th>\n",
       "      <th>in_reply_to_status_id</th>\n",
       "      <th>in_reply_to_user_id</th>\n",
       "      <th>timestamp</th>\n",
       "      <th>source</th>\n",
       "      <th>text</th>\n",
       "      <th>expanded_urls</th>\n",
       "      <th>rating_numerator</th>\n",
       "      <th>rating_denominator</th>\n",
       "      <th>name</th>\n",
       "      <th>stage</th>\n",
       "    </tr>\n",
       "  </thead>\n",
       "  <tbody>\n",
       "    <tr>\n",
       "      <th>35</th>\n",
       "      <td>885518971528720385</td>\n",
       "      <td>NaN</td>\n",
       "      <td>NaN</td>\n",
       "      <td>2017-07-13 15:19:09</td>\n",
       "      <td>&lt;a href=\"http://twitter.com/download/iphone\" r...</td>\n",
       "      <td>I have a new hero and his name is Howard. 14/1...</td>\n",
       "      <td>https://twitter.com/4bonds2carbon/status/88551...</td>\n",
       "      <td>14.0</td>\n",
       "      <td>10</td>\n",
       "      <td>Howard</td>\n",
       "      <td>NaN</td>\n",
       "    </tr>\n",
       "    <tr>\n",
       "      <th>72</th>\n",
       "      <td>878604707211726852</td>\n",
       "      <td>NaN</td>\n",
       "      <td>NaN</td>\n",
       "      <td>2017-06-24 13:24:20</td>\n",
       "      <td>&lt;a href=\"http://twitter.com/download/iphone\" r...</td>\n",
       "      <td>Martha is stunning how h*ckin dare you. 13/10 ...</td>\n",
       "      <td>https://twitter.com/bbcworld/status/8785998685...</td>\n",
       "      <td>13.0</td>\n",
       "      <td>10</td>\n",
       "      <td>Martha</td>\n",
       "      <td>NaN</td>\n",
       "    </tr>\n",
       "    <tr>\n",
       "      <th>149</th>\n",
       "      <td>863079547188785154</td>\n",
       "      <td>6.671522e+17</td>\n",
       "      <td>4.196984e+09</td>\n",
       "      <td>2017-05-12 17:12:53</td>\n",
       "      <td>&lt;a href=\"http://twitter.com/download/iphone\" r...</td>\n",
       "      <td>Ladies and gentlemen... I found Pipsy. He may ...</td>\n",
       "      <td>https://twitter.com/dog_rates/status/863079547...</td>\n",
       "      <td>14.0</td>\n",
       "      <td>10</td>\n",
       "      <td>Pablo</td>\n",
       "      <td>NaN</td>\n",
       "    </tr>\n",
       "    <tr>\n",
       "      <th>157</th>\n",
       "      <td>861288531465048066</td>\n",
       "      <td>NaN</td>\n",
       "      <td>NaN</td>\n",
       "      <td>2017-05-07 18:36:02</td>\n",
       "      <td>&lt;a href=\"http://twitter.com/download/iphone\" r...</td>\n",
       "      <td>HI. MY. NAME. IS. BOOMER. AND. I. WANT. TO. SA...</td>\n",
       "      <td>https://twitter.com/dog_rates/status/861288531...</td>\n",
       "      <td>13.0</td>\n",
       "      <td>10</td>\n",
       "      <td>Boomer</td>\n",
       "      <td>NaN</td>\n",
       "    </tr>\n",
       "    <tr>\n",
       "      <th>168</th>\n",
       "      <td>859607811541651456</td>\n",
       "      <td>NaN</td>\n",
       "      <td>NaN</td>\n",
       "      <td>2017-05-03 03:17:27</td>\n",
       "      <td>&lt;a href=\"http://twitter.com/download/iphone\" r...</td>\n",
       "      <td>Sorry for the lack of posts today. I came home...</td>\n",
       "      <td>https://twitter.com/dog_rates/status/859607811...</td>\n",
       "      <td>13.0</td>\n",
       "      <td>10</td>\n",
       "      <td>Zoey</td>\n",
       "      <td>puppo</td>\n",
       "    </tr>\n",
       "    <tr>\n",
       "      <th>177</th>\n",
       "      <td>857393404942143489</td>\n",
       "      <td>NaN</td>\n",
       "      <td>NaN</td>\n",
       "      <td>2017-04-27 00:38:11</td>\n",
       "      <td>&lt;a href=\"http://twitter.com/download/iphone\" r...</td>\n",
       "      <td>Instead of the usual nightly dog rate, I'm sha...</td>\n",
       "      <td>https://www.gofundme.com/meeko-needs-heart-sur...</td>\n",
       "      <td>13.0</td>\n",
       "      <td>10</td>\n",
       "      <td>Meeko</td>\n",
       "      <td>NaN</td>\n",
       "    </tr>\n",
       "    <tr>\n",
       "      <th>184</th>\n",
       "      <td>856526610513747968</td>\n",
       "      <td>8.558181e+17</td>\n",
       "      <td>4.196984e+09</td>\n",
       "      <td>2017-04-24 15:13:52</td>\n",
       "      <td>&lt;a href=\"http://twitter.com/download/iphone\" r...</td>\n",
       "      <td>THIS IS CHARLIE, MARK. HE DID JUST WANT TO SAY...</td>\n",
       "      <td>https://twitter.com/dog_rates/status/856526610...</td>\n",
       "      <td>14.0</td>\n",
       "      <td>10</td>\n",
       "      <td>Charlie</td>\n",
       "      <td>NaN</td>\n",
       "    </tr>\n",
       "    <tr>\n",
       "      <th>251</th>\n",
       "      <td>844979544864018432</td>\n",
       "      <td>7.590995e+17</td>\n",
       "      <td>4.196984e+09</td>\n",
       "      <td>2017-03-23 18:29:57</td>\n",
       "      <td>&lt;a href=\"http://twitter.com/download/iphone\" r...</td>\n",
       "      <td>PUPDATE: I'm proud to announce that Toby is 23...</td>\n",
       "      <td>https://twitter.com/dog_rates/status/844979544...</td>\n",
       "      <td>13.0</td>\n",
       "      <td>10</td>\n",
       "      <td>Toby</td>\n",
       "      <td>NaN</td>\n",
       "    </tr>\n",
       "    <tr>\n",
       "      <th>306</th>\n",
       "      <td>836001077879255040</td>\n",
       "      <td>NaN</td>\n",
       "      <td>NaN</td>\n",
       "      <td>2017-02-26 23:52:43</td>\n",
       "      <td>&lt;a href=\"http://twitter.com/download/iphone\" r...</td>\n",
       "      <td>Atlas is back and this time he's prettier than...</td>\n",
       "      <td>https://twitter.com/dog_rates/status/836001077...</td>\n",
       "      <td>13.0</td>\n",
       "      <td>10</td>\n",
       "      <td>Atlas</td>\n",
       "      <td>NaN</td>\n",
       "    </tr>\n",
       "    <tr>\n",
       "      <th>349</th>\n",
       "      <td>831650051525054464</td>\n",
       "      <td>NaN</td>\n",
       "      <td>NaN</td>\n",
       "      <td>2017-02-14 23:43:18</td>\n",
       "      <td>&lt;a href=\"http://twitter.com/download/iphone\" r...</td>\n",
       "      <td>I usually only share these on Friday's, but th...</td>\n",
       "      <td>http://www.gofundme.com/bluethewhitehusky,http...</td>\n",
       "      <td>13.0</td>\n",
       "      <td>10</td>\n",
       "      <td>Blue</td>\n",
       "      <td>NaN</td>\n",
       "    </tr>\n",
       "    <tr>\n",
       "      <th>369</th>\n",
       "      <td>828650029636317184</td>\n",
       "      <td>NaN</td>\n",
       "      <td>NaN</td>\n",
       "      <td>2017-02-06 17:02:17</td>\n",
       "      <td>&lt;a href=\"http://twitter.com/download/iphone\" r...</td>\n",
       "      <td>Occasionally, we're sent fantastic stories. Th...</td>\n",
       "      <td>https://twitter.com/dog_rates/status/828650029...</td>\n",
       "      <td>14.0</td>\n",
       "      <td>10</td>\n",
       "      <td>Grace</td>\n",
       "      <td>NaN</td>\n",
       "    </tr>\n",
       "    <tr>\n",
       "      <th>375</th>\n",
       "      <td>828361771580813312</td>\n",
       "      <td>NaN</td>\n",
       "      <td>NaN</td>\n",
       "      <td>2017-02-05 21:56:51</td>\n",
       "      <td>&lt;a href=\"http://twitter.com\" rel=\"nofollow\"&gt;Tw...</td>\n",
       "      <td>Beebop and Doobert should start a band 12/10 w...</td>\n",
       "      <td>NaN</td>\n",
       "      <td>12.0</td>\n",
       "      <td>10</td>\n",
       "      <td>Beebop, Doobert</td>\n",
       "      <td>NaN</td>\n",
       "    </tr>\n",
       "    <tr>\n",
       "      <th>391</th>\n",
       "      <td>826204788643753985</td>\n",
       "      <td>NaN</td>\n",
       "      <td>NaN</td>\n",
       "      <td>2017-01-30 23:05:46</td>\n",
       "      <td>&lt;a href=\"http://twitter.com/download/iphone\" r...</td>\n",
       "      <td>Here's a little more info on Dew, your favorit...</td>\n",
       "      <td>http://us.blastingnews.com/news/2017/01/kentuc...</td>\n",
       "      <td>13.0</td>\n",
       "      <td>10</td>\n",
       "      <td>Dew</td>\n",
       "      <td>doggo</td>\n",
       "    </tr>\n",
       "    <tr>\n",
       "      <th>508</th>\n",
       "      <td>812503143955202048</td>\n",
       "      <td>NaN</td>\n",
       "      <td>NaN</td>\n",
       "      <td>2016-12-24 03:40:19</td>\n",
       "      <td>&lt;a href=\"http://twitter.com/download/iphone\" r...</td>\n",
       "      <td>I'm happy to inform you all that Jake is in ex...</td>\n",
       "      <td>https://m.facebook.com/story.php?story_fbid=18...</td>\n",
       "      <td>13.0</td>\n",
       "      <td>10</td>\n",
       "      <td>Jake</td>\n",
       "      <td>NaN</td>\n",
       "    </tr>\n",
       "    <tr>\n",
       "      <th>513</th>\n",
       "      <td>811647686436880384</td>\n",
       "      <td>8.116272e+17</td>\n",
       "      <td>4.196984e+09</td>\n",
       "      <td>2016-12-21 19:01:02</td>\n",
       "      <td>&lt;a href=\"http://twitter.com/download/iphone\" r...</td>\n",
       "      <td>PUPDATE: I've been informed that Augie was act...</td>\n",
       "      <td>NaN</td>\n",
       "      <td>11.0</td>\n",
       "      <td>10</td>\n",
       "      <td>Augie</td>\n",
       "      <td>NaN</td>\n",
       "    </tr>\n",
       "    <tr>\n",
       "      <th>531</th>\n",
       "      <td>808106460588765185</td>\n",
       "      <td>NaN</td>\n",
       "      <td>NaN</td>\n",
       "      <td>2016-12-12 00:29:28</td>\n",
       "      <td>&lt;a href=\"http://twitter.com/download/iphone\" r...</td>\n",
       "      <td>Here we have Burke (pupper) and Dexter (doggo)...</td>\n",
       "      <td>https://twitter.com/dog_rates/status/808106460...</td>\n",
       "      <td>12.0</td>\n",
       "      <td>10</td>\n",
       "      <td>Burke, Dexter</td>\n",
       "      <td>doggo,pupper</td>\n",
       "    </tr>\n",
       "    <tr>\n",
       "      <th>649</th>\n",
       "      <td>792913359805018113</td>\n",
       "      <td>NaN</td>\n",
       "      <td>NaN</td>\n",
       "      <td>2016-10-31 02:17:31</td>\n",
       "      <td>&lt;a href=\"http://twitter.com/download/iphone\" r...</td>\n",
       "      <td>Here is a perfect example of someone who has t...</td>\n",
       "      <td>https://twitter.com/dog_rates/status/792913359...</td>\n",
       "      <td>13.0</td>\n",
       "      <td>10</td>\n",
       "      <td>Forrest</td>\n",
       "      <td>NaN</td>\n",
       "    </tr>\n",
       "    <tr>\n",
       "      <th>684</th>\n",
       "      <td>788178268662984705</td>\n",
       "      <td>NaN</td>\n",
       "      <td>NaN</td>\n",
       "      <td>2016-10-18 00:41:57</td>\n",
       "      <td>&lt;a href=\"http://twitter.com/download/iphone\" r...</td>\n",
       "      <td>Atlas is back and this time he's got doggles. ...</td>\n",
       "      <td>https://twitter.com/dog_rates/status/788178268...</td>\n",
       "      <td>13.0</td>\n",
       "      <td>10</td>\n",
       "      <td>Atlas</td>\n",
       "      <td>NaN</td>\n",
       "    </tr>\n",
       "    <tr>\n",
       "      <th>758</th>\n",
       "      <td>778408200802557953</td>\n",
       "      <td>NaN</td>\n",
       "      <td>NaN</td>\n",
       "      <td>2016-09-21 01:39:11</td>\n",
       "      <td>&lt;a href=\"http://twitter.com/download/iphone\" r...</td>\n",
       "      <td>RIP Loki. Thank you for the good times. You wi...</td>\n",
       "      <td>https://twitter.com/dog_rates/status/778408200...</td>\n",
       "      <td>14.0</td>\n",
       "      <td>10</td>\n",
       "      <td>Loki</td>\n",
       "      <td>NaN</td>\n",
       "    </tr>\n",
       "    <tr>\n",
       "      <th>762</th>\n",
       "      <td>778039087836069888</td>\n",
       "      <td>NaN</td>\n",
       "      <td>NaN</td>\n",
       "      <td>2016-09-20 01:12:28</td>\n",
       "      <td>&lt;a href=\"http://twitter.com/download/iphone\" r...</td>\n",
       "      <td>Evolution of a pupper yawn featuring Max. 12/1...</td>\n",
       "      <td>https://twitter.com/dog_rates/status/778039087...</td>\n",
       "      <td>12.0</td>\n",
       "      <td>10</td>\n",
       "      <td>Max</td>\n",
       "      <td>pupper</td>\n",
       "    </tr>\n",
       "    <tr>\n",
       "      <th>774</th>\n",
       "      <td>776218204058357768</td>\n",
       "      <td>NaN</td>\n",
       "      <td>NaN</td>\n",
       "      <td>2016-09-15 00:36:55</td>\n",
       "      <td>&lt;a href=\"http://twitter.com/download/iphone\" r...</td>\n",
       "      <td>Atlas rolled around in some chalk and now he's...</td>\n",
       "      <td>https://twitter.com/dog_rates/status/776218204...</td>\n",
       "      <td>13.0</td>\n",
       "      <td>10</td>\n",
       "      <td>Atlas</td>\n",
       "      <td>floofer</td>\n",
       "    </tr>\n",
       "    <tr>\n",
       "      <th>843</th>\n",
       "      <td>766714921925144576</td>\n",
       "      <td>7.667118e+17</td>\n",
       "      <td>4.196984e+09</td>\n",
       "      <td>2016-08-19 19:14:16</td>\n",
       "      <td>&lt;a href=\"http://twitter.com/download/iphone\" r...</td>\n",
       "      <td>His name is Charley and he already has a new s...</td>\n",
       "      <td>NaN</td>\n",
       "      <td>13.0</td>\n",
       "      <td>10</td>\n",
       "      <td>Charley</td>\n",
       "      <td>NaN</td>\n",
       "    </tr>\n",
       "    <tr>\n",
       "      <th>852</th>\n",
       "      <td>765395769549590528</td>\n",
       "      <td>NaN</td>\n",
       "      <td>NaN</td>\n",
       "      <td>2016-08-16 03:52:26</td>\n",
       "      <td>&lt;a href=\"http://twitter.com/download/iphone\" r...</td>\n",
       "      <td>This is my dog. Her name is Zoey. She knows I'...</td>\n",
       "      <td>https://twitter.com/dog_rates/status/765395769...</td>\n",
       "      <td>13.0</td>\n",
       "      <td>10</td>\n",
       "      <td>Zoey</td>\n",
       "      <td>NaN</td>\n",
       "    </tr>\n",
       "    <tr>\n",
       "      <th>906</th>\n",
       "      <td>758041019896193024</td>\n",
       "      <td>NaN</td>\n",
       "      <td>NaN</td>\n",
       "      <td>2016-07-26 20:47:17</td>\n",
       "      <td>&lt;a href=\"http://twitter.com/download/iphone\" r...</td>\n",
       "      <td>Teagan reads entire books in store so they're ...</td>\n",
       "      <td>https://twitter.com/dog_rates/status/758041019...</td>\n",
       "      <td>9.0</td>\n",
       "      <td>10</td>\n",
       "      <td>Teagen</td>\n",
       "      <td>NaN</td>\n",
       "    </tr>\n",
       "    <tr>\n",
       "      <th>992</th>\n",
       "      <td>748692773788876800</td>\n",
       "      <td>NaN</td>\n",
       "      <td>NaN</td>\n",
       "      <td>2016-07-01 01:40:41</td>\n",
       "      <td>&lt;a href=\"http://twitter.com/download/iphone\" r...</td>\n",
       "      <td>That is Quizno. This is his beach. He does not...</td>\n",
       "      <td>https://twitter.com/dog_rates/status/748692773...</td>\n",
       "      <td>10.0</td>\n",
       "      <td>10</td>\n",
       "      <td>Quizno</td>\n",
       "      <td>doggo</td>\n",
       "    </tr>\n",
       "    <tr>\n",
       "      <th>1068</th>\n",
       "      <td>740373189193256964</td>\n",
       "      <td>NaN</td>\n",
       "      <td>NaN</td>\n",
       "      <td>2016-06-08 02:41:38</td>\n",
       "      <td>&lt;a href=\"http://twitter.com/download/iphone\" r...</td>\n",
       "      <td>After so many requests, this is Bretagne. She ...</td>\n",
       "      <td>https://twitter.com/dog_rates/status/740373189...</td>\n",
       "      <td>14.0</td>\n",
       "      <td>10</td>\n",
       "      <td>Bretange</td>\n",
       "      <td>NaN</td>\n",
       "    </tr>\n",
       "    <tr>\n",
       "      <th>1274</th>\n",
       "      <td>709198395643068416</td>\n",
       "      <td>NaN</td>\n",
       "      <td>NaN</td>\n",
       "      <td>2016-03-14 02:04:08</td>\n",
       "      <td>&lt;a href=\"http://twitter.com/download/iphone\" r...</td>\n",
       "      <td>From left to right:\\nCletus, Jerome, Alejandro...</td>\n",
       "      <td>https://twitter.com/dog_rates/status/709198395...</td>\n",
       "      <td>9.0</td>\n",
       "      <td>10</td>\n",
       "      <td>Cletus, Jerome, Alejandro, Burp,Titson</td>\n",
       "      <td>NaN</td>\n",
       "    </tr>\n",
       "    <tr>\n",
       "      <th>1339</th>\n",
       "      <td>704871453724954624</td>\n",
       "      <td>6.671522e+17</td>\n",
       "      <td>4.196984e+09</td>\n",
       "      <td>2016-03-02 03:30:25</td>\n",
       "      <td>&lt;a href=\"http://twitter.com/download/iphone\" r...</td>\n",
       "      <td>I found a forest Pipsy. 12/10 https://t.co/mIQ...</td>\n",
       "      <td>https://twitter.com/dog_rates/status/704871453...</td>\n",
       "      <td>12.0</td>\n",
       "      <td>10</td>\n",
       "      <td>Pipsy</td>\n",
       "      <td>NaN</td>\n",
       "    </tr>\n",
       "    <tr>\n",
       "      <th>1459</th>\n",
       "      <td>695064344191721472</td>\n",
       "      <td>NaN</td>\n",
       "      <td>NaN</td>\n",
       "      <td>2016-02-04 02:00:27</td>\n",
       "      <td>&lt;a href=\"http://twitter.com/download/iphone\" r...</td>\n",
       "      <td>This may be the greatest video I've ever been ...</td>\n",
       "      <td>https://twitter.com/dog_rates/status/695064344...</td>\n",
       "      <td>4.0</td>\n",
       "      <td>10</td>\n",
       "      <td>Charles</td>\n",
       "      <td>NaN</td>\n",
       "    </tr>\n",
       "    <tr>\n",
       "      <th>1501</th>\n",
       "      <td>692142790915014657</td>\n",
       "      <td>6.920419e+17</td>\n",
       "      <td>4.196984e+09</td>\n",
       "      <td>2016-01-27 00:31:15</td>\n",
       "      <td>&lt;a href=\"http://twitter.com/download/iphone\" r...</td>\n",
       "      <td>These are some pictures of Teddy that further ...</td>\n",
       "      <td>https://twitter.com/dog_rates/status/692142790...</td>\n",
       "      <td>13.0</td>\n",
       "      <td>10</td>\n",
       "      <td>Teddy</td>\n",
       "      <td>NaN</td>\n",
       "    </tr>\n",
       "    <tr>\n",
       "      <th>1605</th>\n",
       "      <td>685681090388975616</td>\n",
       "      <td>6.855479e+17</td>\n",
       "      <td>4.196984e+09</td>\n",
       "      <td>2016-01-09 04:34:45</td>\n",
       "      <td>&lt;a href=\"http://twitter.com/download/iphone\" r...</td>\n",
       "      <td>Jack deserves another round of applause. If yo...</td>\n",
       "      <td>NaN</td>\n",
       "      <td>14.0</td>\n",
       "      <td>10</td>\n",
       "      <td>Jack</td>\n",
       "      <td>NaN</td>\n",
       "    </tr>\n",
       "    <tr>\n",
       "      <th>1609</th>\n",
       "      <td>685547936038666240</td>\n",
       "      <td>NaN</td>\n",
       "      <td>NaN</td>\n",
       "      <td>2016-01-08 19:45:39</td>\n",
       "      <td>&lt;a href=\"http://twitter.com/download/iphone\" r...</td>\n",
       "      <td>Everybody needs to read this. Jack is our firs...</td>\n",
       "      <td>https://twitter.com/dog_rates/status/685547936...</td>\n",
       "      <td>14.0</td>\n",
       "      <td>10</td>\n",
       "      <td>Jack</td>\n",
       "      <td>pupper</td>\n",
       "    </tr>\n",
       "    <tr>\n",
       "      <th>1630</th>\n",
       "      <td>684538444857667585</td>\n",
       "      <td>6.844811e+17</td>\n",
       "      <td>4.196984e+09</td>\n",
       "      <td>2016-01-06 00:54:18</td>\n",
       "      <td>&lt;a href=\"http://twitter.com/download/iphone\" r...</td>\n",
       "      <td>After watching this video, we've determined th...</td>\n",
       "      <td>https://twitter.com/dog_rates/status/684538444...</td>\n",
       "      <td>12.0</td>\n",
       "      <td>10</td>\n",
       "      <td>Pippa</td>\n",
       "      <td>NaN</td>\n",
       "    </tr>\n",
       "    <tr>\n",
       "      <th>1638</th>\n",
       "      <td>684188786104872960</td>\n",
       "      <td>NaN</td>\n",
       "      <td>NaN</td>\n",
       "      <td>2016-01-05 01:44:52</td>\n",
       "      <td>&lt;a href=\"http://twitter.com/download/iphone\" r...</td>\n",
       "      <td>\"Yo Boomer I'm taking a selfie, grab your stic...</td>\n",
       "      <td>https://twitter.com/dog_rates/status/684188786...</td>\n",
       "      <td>10.0</td>\n",
       "      <td>10</td>\n",
       "      <td>Boomer</td>\n",
       "      <td>NaN</td>\n",
       "    </tr>\n",
       "    <tr>\n",
       "      <th>1678</th>\n",
       "      <td>682047327939461121</td>\n",
       "      <td>NaN</td>\n",
       "      <td>NaN</td>\n",
       "      <td>2015-12-30 03:55:29</td>\n",
       "      <td>&lt;a href=\"http://twitter.com/download/iphone\" r...</td>\n",
       "      <td>We normally don't rate bears but this one seem...</td>\n",
       "      <td>https://twitter.com/dog_rates/status/682047327...</td>\n",
       "      <td>10.0</td>\n",
       "      <td>10</td>\n",
       "      <td>Thea</td>\n",
       "      <td>NaN</td>\n",
       "    </tr>\n",
       "    <tr>\n",
       "      <th>1684</th>\n",
       "      <td>681679526984871937</td>\n",
       "      <td>NaN</td>\n",
       "      <td>NaN</td>\n",
       "      <td>2015-12-29 03:33:58</td>\n",
       "      <td>&lt;a href=\"http://twitter.com/download/iphone\" r...</td>\n",
       "      <td>Can you spot Toby the guilty pupper? 7/10 woul...</td>\n",
       "      <td>https://twitter.com/dog_rates/status/681679526...</td>\n",
       "      <td>7.0</td>\n",
       "      <td>10</td>\n",
       "      <td>Toby</td>\n",
       "      <td>pupper</td>\n",
       "    </tr>\n",
       "    <tr>\n",
       "      <th>1782</th>\n",
       "      <td>677687604918272002</td>\n",
       "      <td>NaN</td>\n",
       "      <td>NaN</td>\n",
       "      <td>2015-12-18 03:11:30</td>\n",
       "      <td>&lt;a href=\"http://twitter.com/download/iphone\" r...</td>\n",
       "      <td>This was Cindy's face when she heard Susan for...</td>\n",
       "      <td>https://twitter.com/dog_rates/status/677687604...</td>\n",
       "      <td>11.0</td>\n",
       "      <td>10</td>\n",
       "      <td>Cindy</td>\n",
       "      <td>NaN</td>\n",
       "    </tr>\n",
       "    <tr>\n",
       "      <th>1819</th>\n",
       "      <td>676590572941893632</td>\n",
       "      <td>6.765883e+17</td>\n",
       "      <td>4.196984e+09</td>\n",
       "      <td>2015-12-15 02:32:17</td>\n",
       "      <td>&lt;a href=\"http://twitter.com/download/iphone\" r...</td>\n",
       "      <td>After some outrage from the crowd. Bubbles is ...</td>\n",
       "      <td>NaN</td>\n",
       "      <td>7.0</td>\n",
       "      <td>10</td>\n",
       "      <td>Bubbles</td>\n",
       "      <td>NaN</td>\n",
       "    </tr>\n",
       "    <tr>\n",
       "      <th>1842</th>\n",
       "      <td>675870721063669760</td>\n",
       "      <td>6.757073e+17</td>\n",
       "      <td>4.196984e+09</td>\n",
       "      <td>2015-12-13 02:51:51</td>\n",
       "      <td>&lt;a href=\"http://twitter.com/download/iphone\" r...</td>\n",
       "      <td>&amp;amp; this is Yoshi. Another world record cont...</td>\n",
       "      <td>https://twitter.com/dog_rates/status/675870721...</td>\n",
       "      <td>11.0</td>\n",
       "      <td>10</td>\n",
       "      <td>Yoshi</td>\n",
       "      <td>NaN</td>\n",
       "    </tr>\n",
       "    <tr>\n",
       "      <th>2166</th>\n",
       "      <td>669363888236994561</td>\n",
       "      <td>NaN</td>\n",
       "      <td>NaN</td>\n",
       "      <td>2015-11-25 03:56:01</td>\n",
       "      <td>&lt;a href=\"http://twitter.com/download/iphone\" r...</td>\n",
       "      <td>Here we have a Gingivitis Pumpernickel named Z...</td>\n",
       "      <td>https://twitter.com/dog_rates/status/669363888...</td>\n",
       "      <td>10.0</td>\n",
       "      <td>10</td>\n",
       "      <td>Zeus</td>\n",
       "      <td>NaN</td>\n",
       "    </tr>\n",
       "    <tr>\n",
       "      <th>2177</th>\n",
       "      <td>669037058363662336</td>\n",
       "      <td>NaN</td>\n",
       "      <td>NaN</td>\n",
       "      <td>2015-11-24 06:17:19</td>\n",
       "      <td>&lt;a href=\"http://twitter.com/download/iphone\" r...</td>\n",
       "      <td>Here we have Pancho and Peaches. Pancho is a C...</td>\n",
       "      <td>https://twitter.com/dog_rates/status/669037058...</td>\n",
       "      <td>10.0</td>\n",
       "      <td>10</td>\n",
       "      <td>Pancho, Peaches</td>\n",
       "      <td>NaN</td>\n",
       "    </tr>\n",
       "    <tr>\n",
       "      <th>2227</th>\n",
       "      <td>668268907921326080</td>\n",
       "      <td>NaN</td>\n",
       "      <td>NaN</td>\n",
       "      <td>2015-11-22 03:24:58</td>\n",
       "      <td>&lt;a href=\"http://twitter.com/download/iphone\" r...</td>\n",
       "      <td>Here we have an Azerbaijani Buttermilk named G...</td>\n",
       "      <td>https://twitter.com/dog_rates/status/668268907...</td>\n",
       "      <td>10.0</td>\n",
       "      <td>10</td>\n",
       "      <td>Guss</td>\n",
       "      <td>NaN</td>\n",
       "    </tr>\n",
       "    <tr>\n",
       "      <th>2232</th>\n",
       "      <td>668221241640230912</td>\n",
       "      <td>NaN</td>\n",
       "      <td>NaN</td>\n",
       "      <td>2015-11-22 00:15:33</td>\n",
       "      <td>&lt;a href=\"http://twitter.com/download/iphone\" r...</td>\n",
       "      <td>These two dogs are Bo &amp;amp; Smittens. Smittens...</td>\n",
       "      <td>https://twitter.com/dog_rates/status/668221241...</td>\n",
       "      <td>10.0</td>\n",
       "      <td>10</td>\n",
       "      <td>Bo, Smittens</td>\n",
       "      <td>NaN</td>\n",
       "    </tr>\n",
       "    <tr>\n",
       "      <th>2237</th>\n",
       "      <td>668142349051129856</td>\n",
       "      <td>NaN</td>\n",
       "      <td>NaN</td>\n",
       "      <td>2015-11-21 19:02:04</td>\n",
       "      <td>&lt;a href=\"http://twitter.com/download/iphone\" r...</td>\n",
       "      <td>This lil pup is Oliver. Hops around. Has wings...</td>\n",
       "      <td>https://twitter.com/dog_rates/status/668142349...</td>\n",
       "      <td>2.0</td>\n",
       "      <td>10</td>\n",
       "      <td>Oliver</td>\n",
       "      <td>NaN</td>\n",
       "    </tr>\n",
       "    <tr>\n",
       "      <th>2267</th>\n",
       "      <td>667524857454854144</td>\n",
       "      <td>NaN</td>\n",
       "      <td>NaN</td>\n",
       "      <td>2015-11-20 02:08:22</td>\n",
       "      <td>&lt;a href=\"http://twitter.com\" rel=\"nofollow\"&gt;Tw...</td>\n",
       "      <td>Another topnotch dog. His name is Big Jumpy Ra...</td>\n",
       "      <td>https://twitter.com/dog_rates/status/667524857...</td>\n",
       "      <td>12.0</td>\n",
       "      <td>10</td>\n",
       "      <td>Big Jumpy Rat</td>\n",
       "      <td>NaN</td>\n",
       "    </tr>\n",
       "    <tr>\n",
       "      <th>2269</th>\n",
       "      <td>667509364010450944</td>\n",
       "      <td>NaN</td>\n",
       "      <td>NaN</td>\n",
       "      <td>2015-11-20 01:06:48</td>\n",
       "      <td>&lt;a href=\"http://twitter.com\" rel=\"nofollow\"&gt;Tw...</td>\n",
       "      <td>This a Norwegian Pewterschmidt named Tickles. ...</td>\n",
       "      <td>https://twitter.com/dog_rates/status/667509364...</td>\n",
       "      <td>12.0</td>\n",
       "      <td>10</td>\n",
       "      <td>Tickles</td>\n",
       "      <td>NaN</td>\n",
       "    </tr>\n",
       "    <tr>\n",
       "      <th>2287</th>\n",
       "      <td>667177989038297088</td>\n",
       "      <td>NaN</td>\n",
       "      <td>NaN</td>\n",
       "      <td>2015-11-19 03:10:02</td>\n",
       "      <td>&lt;a href=\"http://twitter.com/download/iphone\" r...</td>\n",
       "      <td>This is a Dasani Kingfisher from Maine. His na...</td>\n",
       "      <td>https://twitter.com/dog_rates/status/667177989...</td>\n",
       "      <td>8.0</td>\n",
       "      <td>10</td>\n",
       "      <td>Daryl</td>\n",
       "      <td>NaN</td>\n",
       "    </tr>\n",
       "    <tr>\n",
       "      <th>2306</th>\n",
       "      <td>666835007768551424</td>\n",
       "      <td>NaN</td>\n",
       "      <td>NaN</td>\n",
       "      <td>2015-11-18 04:27:09</td>\n",
       "      <td>&lt;a href=\"http://twitter.com/download/iphone\" r...</td>\n",
       "      <td>These are Peruvian Feldspars. Their names are ...</td>\n",
       "      <td>https://twitter.com/dog_rates/status/666835007...</td>\n",
       "      <td>10.0</td>\n",
       "      <td>10</td>\n",
       "      <td>Cupit, Prencer</td>\n",
       "      <td>NaN</td>\n",
       "    </tr>\n",
       "  </tbody>\n",
       "</table>\n",
       "</div>"
      ],
      "text/plain": [
       "                tweet_id  in_reply_to_status_id  in_reply_to_user_id  \\\n",
       "35    885518971528720385                    NaN                  NaN   \n",
       "72    878604707211726852                    NaN                  NaN   \n",
       "149   863079547188785154           6.671522e+17         4.196984e+09   \n",
       "157   861288531465048066                    NaN                  NaN   \n",
       "168   859607811541651456                    NaN                  NaN   \n",
       "177   857393404942143489                    NaN                  NaN   \n",
       "184   856526610513747968           8.558181e+17         4.196984e+09   \n",
       "251   844979544864018432           7.590995e+17         4.196984e+09   \n",
       "306   836001077879255040                    NaN                  NaN   \n",
       "349   831650051525054464                    NaN                  NaN   \n",
       "369   828650029636317184                    NaN                  NaN   \n",
       "375   828361771580813312                    NaN                  NaN   \n",
       "391   826204788643753985                    NaN                  NaN   \n",
       "508   812503143955202048                    NaN                  NaN   \n",
       "513   811647686436880384           8.116272e+17         4.196984e+09   \n",
       "531   808106460588765185                    NaN                  NaN   \n",
       "649   792913359805018113                    NaN                  NaN   \n",
       "684   788178268662984705                    NaN                  NaN   \n",
       "758   778408200802557953                    NaN                  NaN   \n",
       "762   778039087836069888                    NaN                  NaN   \n",
       "774   776218204058357768                    NaN                  NaN   \n",
       "843   766714921925144576           7.667118e+17         4.196984e+09   \n",
       "852   765395769549590528                    NaN                  NaN   \n",
       "906   758041019896193024                    NaN                  NaN   \n",
       "992   748692773788876800                    NaN                  NaN   \n",
       "1068  740373189193256964                    NaN                  NaN   \n",
       "1274  709198395643068416                    NaN                  NaN   \n",
       "1339  704871453724954624           6.671522e+17         4.196984e+09   \n",
       "1459  695064344191721472                    NaN                  NaN   \n",
       "1501  692142790915014657           6.920419e+17         4.196984e+09   \n",
       "1605  685681090388975616           6.855479e+17         4.196984e+09   \n",
       "1609  685547936038666240                    NaN                  NaN   \n",
       "1630  684538444857667585           6.844811e+17         4.196984e+09   \n",
       "1638  684188786104872960                    NaN                  NaN   \n",
       "1678  682047327939461121                    NaN                  NaN   \n",
       "1684  681679526984871937                    NaN                  NaN   \n",
       "1782  677687604918272002                    NaN                  NaN   \n",
       "1819  676590572941893632           6.765883e+17         4.196984e+09   \n",
       "1842  675870721063669760           6.757073e+17         4.196984e+09   \n",
       "2166  669363888236994561                    NaN                  NaN   \n",
       "2177  669037058363662336                    NaN                  NaN   \n",
       "2227  668268907921326080                    NaN                  NaN   \n",
       "2232  668221241640230912                    NaN                  NaN   \n",
       "2237  668142349051129856                    NaN                  NaN   \n",
       "2267  667524857454854144                    NaN                  NaN   \n",
       "2269  667509364010450944                    NaN                  NaN   \n",
       "2287  667177989038297088                    NaN                  NaN   \n",
       "2306  666835007768551424                    NaN                  NaN   \n",
       "\n",
       "               timestamp                                             source  \\\n",
       "35   2017-07-13 15:19:09  <a href=\"http://twitter.com/download/iphone\" r...   \n",
       "72   2017-06-24 13:24:20  <a href=\"http://twitter.com/download/iphone\" r...   \n",
       "149  2017-05-12 17:12:53  <a href=\"http://twitter.com/download/iphone\" r...   \n",
       "157  2017-05-07 18:36:02  <a href=\"http://twitter.com/download/iphone\" r...   \n",
       "168  2017-05-03 03:17:27  <a href=\"http://twitter.com/download/iphone\" r...   \n",
       "177  2017-04-27 00:38:11  <a href=\"http://twitter.com/download/iphone\" r...   \n",
       "184  2017-04-24 15:13:52  <a href=\"http://twitter.com/download/iphone\" r...   \n",
       "251  2017-03-23 18:29:57  <a href=\"http://twitter.com/download/iphone\" r...   \n",
       "306  2017-02-26 23:52:43  <a href=\"http://twitter.com/download/iphone\" r...   \n",
       "349  2017-02-14 23:43:18  <a href=\"http://twitter.com/download/iphone\" r...   \n",
       "369  2017-02-06 17:02:17  <a href=\"http://twitter.com/download/iphone\" r...   \n",
       "375  2017-02-05 21:56:51  <a href=\"http://twitter.com\" rel=\"nofollow\">Tw...   \n",
       "391  2017-01-30 23:05:46  <a href=\"http://twitter.com/download/iphone\" r...   \n",
       "508  2016-12-24 03:40:19  <a href=\"http://twitter.com/download/iphone\" r...   \n",
       "513  2016-12-21 19:01:02  <a href=\"http://twitter.com/download/iphone\" r...   \n",
       "531  2016-12-12 00:29:28  <a href=\"http://twitter.com/download/iphone\" r...   \n",
       "649  2016-10-31 02:17:31  <a href=\"http://twitter.com/download/iphone\" r...   \n",
       "684  2016-10-18 00:41:57  <a href=\"http://twitter.com/download/iphone\" r...   \n",
       "758  2016-09-21 01:39:11  <a href=\"http://twitter.com/download/iphone\" r...   \n",
       "762  2016-09-20 01:12:28  <a href=\"http://twitter.com/download/iphone\" r...   \n",
       "774  2016-09-15 00:36:55  <a href=\"http://twitter.com/download/iphone\" r...   \n",
       "843  2016-08-19 19:14:16  <a href=\"http://twitter.com/download/iphone\" r...   \n",
       "852  2016-08-16 03:52:26  <a href=\"http://twitter.com/download/iphone\" r...   \n",
       "906  2016-07-26 20:47:17  <a href=\"http://twitter.com/download/iphone\" r...   \n",
       "992  2016-07-01 01:40:41  <a href=\"http://twitter.com/download/iphone\" r...   \n",
       "1068 2016-06-08 02:41:38  <a href=\"http://twitter.com/download/iphone\" r...   \n",
       "1274 2016-03-14 02:04:08  <a href=\"http://twitter.com/download/iphone\" r...   \n",
       "1339 2016-03-02 03:30:25  <a href=\"http://twitter.com/download/iphone\" r...   \n",
       "1459 2016-02-04 02:00:27  <a href=\"http://twitter.com/download/iphone\" r...   \n",
       "1501 2016-01-27 00:31:15  <a href=\"http://twitter.com/download/iphone\" r...   \n",
       "1605 2016-01-09 04:34:45  <a href=\"http://twitter.com/download/iphone\" r...   \n",
       "1609 2016-01-08 19:45:39  <a href=\"http://twitter.com/download/iphone\" r...   \n",
       "1630 2016-01-06 00:54:18  <a href=\"http://twitter.com/download/iphone\" r...   \n",
       "1638 2016-01-05 01:44:52  <a href=\"http://twitter.com/download/iphone\" r...   \n",
       "1678 2015-12-30 03:55:29  <a href=\"http://twitter.com/download/iphone\" r...   \n",
       "1684 2015-12-29 03:33:58  <a href=\"http://twitter.com/download/iphone\" r...   \n",
       "1782 2015-12-18 03:11:30  <a href=\"http://twitter.com/download/iphone\" r...   \n",
       "1819 2015-12-15 02:32:17  <a href=\"http://twitter.com/download/iphone\" r...   \n",
       "1842 2015-12-13 02:51:51  <a href=\"http://twitter.com/download/iphone\" r...   \n",
       "2166 2015-11-25 03:56:01  <a href=\"http://twitter.com/download/iphone\" r...   \n",
       "2177 2015-11-24 06:17:19  <a href=\"http://twitter.com/download/iphone\" r...   \n",
       "2227 2015-11-22 03:24:58  <a href=\"http://twitter.com/download/iphone\" r...   \n",
       "2232 2015-11-22 00:15:33  <a href=\"http://twitter.com/download/iphone\" r...   \n",
       "2237 2015-11-21 19:02:04  <a href=\"http://twitter.com/download/iphone\" r...   \n",
       "2267 2015-11-20 02:08:22  <a href=\"http://twitter.com\" rel=\"nofollow\">Tw...   \n",
       "2269 2015-11-20 01:06:48  <a href=\"http://twitter.com\" rel=\"nofollow\">Tw...   \n",
       "2287 2015-11-19 03:10:02  <a href=\"http://twitter.com/download/iphone\" r...   \n",
       "2306 2015-11-18 04:27:09  <a href=\"http://twitter.com/download/iphone\" r...   \n",
       "\n",
       "                                                   text  \\\n",
       "35    I have a new hero and his name is Howard. 14/1...   \n",
       "72    Martha is stunning how h*ckin dare you. 13/10 ...   \n",
       "149   Ladies and gentlemen... I found Pipsy. He may ...   \n",
       "157   HI. MY. NAME. IS. BOOMER. AND. I. WANT. TO. SA...   \n",
       "168   Sorry for the lack of posts today. I came home...   \n",
       "177   Instead of the usual nightly dog rate, I'm sha...   \n",
       "184   THIS IS CHARLIE, MARK. HE DID JUST WANT TO SAY...   \n",
       "251   PUPDATE: I'm proud to announce that Toby is 23...   \n",
       "306   Atlas is back and this time he's prettier than...   \n",
       "349   I usually only share these on Friday's, but th...   \n",
       "369   Occasionally, we're sent fantastic stories. Th...   \n",
       "375   Beebop and Doobert should start a band 12/10 w...   \n",
       "391   Here's a little more info on Dew, your favorit...   \n",
       "508   I'm happy to inform you all that Jake is in ex...   \n",
       "513   PUPDATE: I've been informed that Augie was act...   \n",
       "531   Here we have Burke (pupper) and Dexter (doggo)...   \n",
       "649   Here is a perfect example of someone who has t...   \n",
       "684   Atlas is back and this time he's got doggles. ...   \n",
       "758   RIP Loki. Thank you for the good times. You wi...   \n",
       "762   Evolution of a pupper yawn featuring Max. 12/1...   \n",
       "774   Atlas rolled around in some chalk and now he's...   \n",
       "843   His name is Charley and he already has a new s...   \n",
       "852   This is my dog. Her name is Zoey. She knows I'...   \n",
       "906   Teagan reads entire books in store so they're ...   \n",
       "992   That is Quizno. This is his beach. He does not...   \n",
       "1068  After so many requests, this is Bretagne. She ...   \n",
       "1274  From left to right:\\nCletus, Jerome, Alejandro...   \n",
       "1339  I found a forest Pipsy. 12/10 https://t.co/mIQ...   \n",
       "1459  This may be the greatest video I've ever been ...   \n",
       "1501  These are some pictures of Teddy that further ...   \n",
       "1605  Jack deserves another round of applause. If yo...   \n",
       "1609  Everybody needs to read this. Jack is our firs...   \n",
       "1630  After watching this video, we've determined th...   \n",
       "1638  \"Yo Boomer I'm taking a selfie, grab your stic...   \n",
       "1678  We normally don't rate bears but this one seem...   \n",
       "1684  Can you spot Toby the guilty pupper? 7/10 woul...   \n",
       "1782  This was Cindy's face when she heard Susan for...   \n",
       "1819  After some outrage from the crowd. Bubbles is ...   \n",
       "1842  &amp; this is Yoshi. Another world record cont...   \n",
       "2166  Here we have a Gingivitis Pumpernickel named Z...   \n",
       "2177  Here we have Pancho and Peaches. Pancho is a C...   \n",
       "2227  Here we have an Azerbaijani Buttermilk named G...   \n",
       "2232  These two dogs are Bo &amp; Smittens. Smittens...   \n",
       "2237  This lil pup is Oliver. Hops around. Has wings...   \n",
       "2267  Another topnotch dog. His name is Big Jumpy Ra...   \n",
       "2269  This a Norwegian Pewterschmidt named Tickles. ...   \n",
       "2287  This is a Dasani Kingfisher from Maine. His na...   \n",
       "2306  These are Peruvian Feldspars. Their names are ...   \n",
       "\n",
       "                                          expanded_urls  rating_numerator  \\\n",
       "35    https://twitter.com/4bonds2carbon/status/88551...              14.0   \n",
       "72    https://twitter.com/bbcworld/status/8785998685...              13.0   \n",
       "149   https://twitter.com/dog_rates/status/863079547...              14.0   \n",
       "157   https://twitter.com/dog_rates/status/861288531...              13.0   \n",
       "168   https://twitter.com/dog_rates/status/859607811...              13.0   \n",
       "177   https://www.gofundme.com/meeko-needs-heart-sur...              13.0   \n",
       "184   https://twitter.com/dog_rates/status/856526610...              14.0   \n",
       "251   https://twitter.com/dog_rates/status/844979544...              13.0   \n",
       "306   https://twitter.com/dog_rates/status/836001077...              13.0   \n",
       "349   http://www.gofundme.com/bluethewhitehusky,http...              13.0   \n",
       "369   https://twitter.com/dog_rates/status/828650029...              14.0   \n",
       "375                                                 NaN              12.0   \n",
       "391   http://us.blastingnews.com/news/2017/01/kentuc...              13.0   \n",
       "508   https://m.facebook.com/story.php?story_fbid=18...              13.0   \n",
       "513                                                 NaN              11.0   \n",
       "531   https://twitter.com/dog_rates/status/808106460...              12.0   \n",
       "649   https://twitter.com/dog_rates/status/792913359...              13.0   \n",
       "684   https://twitter.com/dog_rates/status/788178268...              13.0   \n",
       "758   https://twitter.com/dog_rates/status/778408200...              14.0   \n",
       "762   https://twitter.com/dog_rates/status/778039087...              12.0   \n",
       "774   https://twitter.com/dog_rates/status/776218204...              13.0   \n",
       "843                                                 NaN              13.0   \n",
       "852   https://twitter.com/dog_rates/status/765395769...              13.0   \n",
       "906   https://twitter.com/dog_rates/status/758041019...               9.0   \n",
       "992   https://twitter.com/dog_rates/status/748692773...              10.0   \n",
       "1068  https://twitter.com/dog_rates/status/740373189...              14.0   \n",
       "1274  https://twitter.com/dog_rates/status/709198395...               9.0   \n",
       "1339  https://twitter.com/dog_rates/status/704871453...              12.0   \n",
       "1459  https://twitter.com/dog_rates/status/695064344...               4.0   \n",
       "1501  https://twitter.com/dog_rates/status/692142790...              13.0   \n",
       "1605                                                NaN              14.0   \n",
       "1609  https://twitter.com/dog_rates/status/685547936...              14.0   \n",
       "1630  https://twitter.com/dog_rates/status/684538444...              12.0   \n",
       "1638  https://twitter.com/dog_rates/status/684188786...              10.0   \n",
       "1678  https://twitter.com/dog_rates/status/682047327...              10.0   \n",
       "1684  https://twitter.com/dog_rates/status/681679526...               7.0   \n",
       "1782  https://twitter.com/dog_rates/status/677687604...              11.0   \n",
       "1819                                                NaN               7.0   \n",
       "1842  https://twitter.com/dog_rates/status/675870721...              11.0   \n",
       "2166  https://twitter.com/dog_rates/status/669363888...              10.0   \n",
       "2177  https://twitter.com/dog_rates/status/669037058...              10.0   \n",
       "2227  https://twitter.com/dog_rates/status/668268907...              10.0   \n",
       "2232  https://twitter.com/dog_rates/status/668221241...              10.0   \n",
       "2237  https://twitter.com/dog_rates/status/668142349...               2.0   \n",
       "2267  https://twitter.com/dog_rates/status/667524857...              12.0   \n",
       "2269  https://twitter.com/dog_rates/status/667509364...              12.0   \n",
       "2287  https://twitter.com/dog_rates/status/667177989...               8.0   \n",
       "2306  https://twitter.com/dog_rates/status/666835007...              10.0   \n",
       "\n",
       "      rating_denominator                                    name         stage  \n",
       "35                    10                                  Howard           NaN  \n",
       "72                    10                                  Martha           NaN  \n",
       "149                   10                                   Pablo           NaN  \n",
       "157                   10                                  Boomer           NaN  \n",
       "168                   10                                    Zoey         puppo  \n",
       "177                   10                                   Meeko           NaN  \n",
       "184                   10                                 Charlie           NaN  \n",
       "251                   10                                    Toby           NaN  \n",
       "306                   10                                   Atlas           NaN  \n",
       "349                   10                                    Blue           NaN  \n",
       "369                   10                                   Grace           NaN  \n",
       "375                   10                         Beebop, Doobert           NaN  \n",
       "391                   10                                     Dew         doggo  \n",
       "508                   10                                    Jake           NaN  \n",
       "513                   10                                   Augie           NaN  \n",
       "531                   10                           Burke, Dexter  doggo,pupper  \n",
       "649                   10                                 Forrest           NaN  \n",
       "684                   10                                   Atlas           NaN  \n",
       "758                   10                                    Loki           NaN  \n",
       "762                   10                                     Max        pupper  \n",
       "774                   10                                   Atlas       floofer  \n",
       "843                   10                                 Charley           NaN  \n",
       "852                   10                                    Zoey           NaN  \n",
       "906                   10                                  Teagen           NaN  \n",
       "992                   10                                  Quizno         doggo  \n",
       "1068                  10                                Bretange           NaN  \n",
       "1274                  10  Cletus, Jerome, Alejandro, Burp,Titson           NaN  \n",
       "1339                  10                                   Pipsy           NaN  \n",
       "1459                  10                                 Charles           NaN  \n",
       "1501                  10                                   Teddy           NaN  \n",
       "1605                  10                                    Jack           NaN  \n",
       "1609                  10                                    Jack        pupper  \n",
       "1630                  10                                   Pippa           NaN  \n",
       "1638                  10                                  Boomer           NaN  \n",
       "1678                  10                                    Thea           NaN  \n",
       "1684                  10                                    Toby        pupper  \n",
       "1782                  10                                   Cindy           NaN  \n",
       "1819                  10                                 Bubbles           NaN  \n",
       "1842                  10                                   Yoshi           NaN  \n",
       "2166                  10                                    Zeus           NaN  \n",
       "2177                  10                         Pancho, Peaches           NaN  \n",
       "2227                  10                                    Guss           NaN  \n",
       "2232                  10                            Bo, Smittens           NaN  \n",
       "2237                  10                                  Oliver           NaN  \n",
       "2267                  10                           Big Jumpy Rat           NaN  \n",
       "2269                  10                                 Tickles           NaN  \n",
       "2287                  10                                   Daryl           NaN  \n",
       "2306                  10                          Cupit, Prencer           NaN  "
      ]
     },
     "execution_count": 129,
     "metadata": {},
     "output_type": "execute_result"
    }
   ],
   "source": [
    "changed_name_id = [667177989038297088, 828650029636317184, 792913359805018113, 765395769549590528, 748692773788876800,\n",
    "                   885518971528720385, 878604707211726852, 863079547188785154, 861288531465048066, 859607811541651456,\n",
    "                   857393404942143489, 856526610513747968, 844979544864018432, 836001077879255040, 831650051525054464, \n",
    "                   828361771580813312, 826204788643753985, 812503143955202048, 811647686436880384, 808106460588765185, \n",
    "                   788178268662984705, 778408200802557953, 778039087836069888, 776218204058357768, 766714921925144576, \n",
    "                   758041019896193024, 740373189193256964, 709198395643068416, 704871453724954624, 695064344191721472, \n",
    "                   692142790915014657, 685681090388975616, 685547936038666240, 684538444857667585, 684188786104872960, \n",
    "                   682047327939461121, 681679526984871937, 677687604918272002, 676590572941893632, 675870721063669760, \n",
    "                   669363888236994561, 669037058363662336, 668268907921326080, 668221241640230912, 668142349051129856, \n",
    "                   667524857454854144, 667509364010450944, 666835007768551424]\n",
    "twitter_archive_clean.loc[twitter_archive_clean['tweet_id'].isin(changed_name_id)]"
   ]
  },
  {
   "cell_type": "code",
   "execution_count": 130,
   "metadata": {},
   "outputs": [
    {
     "data": {
      "text/plain": [
       "48"
      ]
     },
     "execution_count": 130,
     "metadata": {},
     "output_type": "execute_result"
    }
   ],
   "source": [
    "len(changed_name_id)"
   ]
  },
  {
   "cell_type": "markdown",
   "metadata": {},
   "source": [
    "name_issues should have reduced by 48 (735 entries)"
   ]
  },
  {
   "cell_type": "code",
   "execution_count": 131,
   "metadata": {},
   "outputs": [
    {
     "data": {
      "text/plain": [
       "735"
      ]
     },
     "execution_count": 131,
     "metadata": {},
     "output_type": "execute_result"
    }
   ],
   "source": [
    "named = twitter_archive_clean.loc[twitter_archive_clean['name'].notnull()]\n",
    "not_name = named.loc[named['name'].str.islower()]\n",
    "no_name = twitter_archive_clean.loc[twitter_archive_clean['name'].isnull()]\n",
    "name_issues = pd.concat([not_name, no_name])\n",
    "len(name_issues)"
   ]
  },
  {
   "cell_type": "markdown",
   "metadata": {},
   "source": [
    "#### Define\n",
    "\n",
    "- Extract names that appear after the word 'named' for the following tweet ids:\n",
    "    - 675706639471788032 (Wylie)*\n",
    "    - 673636718965334016 (Kip)*\n",
    "    - 671743150407421952 (Jacob)*\n",
    "    - 671147085991960577 (Rufus)*\n",
    "    - 670427002554466305 (Spork)*\n",
    "    - 670361874861563904 (Cherokee)*\n",
    "    - 670303360680108032 (Hemry)*\n",
    "    - 669923323644657664 (Alphred)*\n",
    "    - 669564461267722241 (Alfredo)*\n",
    "    - 668955713004314625 (Leroi)*\n",
    "    - 668636665813057536 (Berta)*\n",
    "    - 668507509523615744 (Chuk)*\n",
    "    - 668171859951755264 (Alfonso)*\n",
    "    - 667861340749471744 (Cheryl)*\n",
    "    - 667773195014021121 (Jessiga)*\n",
    "    - 667538891197542400 (Klint)*\n",
    "    - 667470559035432960 (Kohl)*\n",
    "    - 666983947667116034 (Pepe)*\n",
    "    - 666781792255496192 (Octaviath)*\n",
    "    - 666701168228331520 (Johm)*\n",
    "- extract text from twitter_archive_clean\n",
    "- split on the word 'named' and select the second half of the phrase\n",
    "- split on '.' and select the first half of phrase for name."
   ]
  },
  {
   "cell_type": "code",
   "execution_count": 132,
   "metadata": {},
   "outputs": [],
   "source": [
    "def name (tweet_id):\n",
    "    ### extracts the name of the dog from tweet if it appears after the word 'named'###\n",
    "    test_tweet = twitter_archive_clean.loc[twitter_archive_clean['tweet_id']\n",
    "                                       ==tweet_id, 'text']\n",
    "    index = test_tweet.index[0]\n",
    "    name = test_tweet[index].split('named ',1)[1].split('.',1)[0]\n",
    "    return name"
   ]
  },
  {
   "cell_type": "code",
   "execution_count": 133,
   "metadata": {},
   "outputs": [],
   "source": [
    "function_ids = [675706639471788032, 673636718965334016, 671743150407421952, 671147085991960577, \n",
    "                670427002554466305, 670361874861563904, 670303360680108032, 669923323644657664, \n",
    "                669564461267722241, 668955713004314625, 668636665813057536, 668507509523615744, \n",
    "                668171859951755264, 667861340749471744, 667773195014021121, 667538891197542400, \n",
    "                667470559035432960, 666983947667116034, 666781792255496192, 666701168228331520]"
   ]
  },
  {
   "cell_type": "code",
   "execution_count": 134,
   "metadata": {},
   "outputs": [],
   "source": [
    "for i in range(len(function_ids)):\n",
    "    tweet_id = function_ids[i]\n",
    "   \n",
    "    twitter_archive_clean.loc[twitter_archive_clean['tweet_id']==tweet_id,'name']=name(tweet_id)"
   ]
  },
  {
   "cell_type": "markdown",
   "metadata": {},
   "source": [
    "#### Test"
   ]
  },
  {
   "cell_type": "code",
   "execution_count": 135,
   "metadata": {},
   "outputs": [
    {
     "data": {
      "text/html": [
       "<div>\n",
       "<style>\n",
       "    .dataframe thead tr:only-child th {\n",
       "        text-align: right;\n",
       "    }\n",
       "\n",
       "    .dataframe thead th {\n",
       "        text-align: left;\n",
       "    }\n",
       "\n",
       "    .dataframe tbody tr th {\n",
       "        vertical-align: top;\n",
       "    }\n",
       "</style>\n",
       "<table border=\"1\" class=\"dataframe\">\n",
       "  <thead>\n",
       "    <tr style=\"text-align: right;\">\n",
       "      <th></th>\n",
       "      <th>tweet_id</th>\n",
       "      <th>in_reply_to_status_id</th>\n",
       "      <th>in_reply_to_user_id</th>\n",
       "      <th>timestamp</th>\n",
       "      <th>source</th>\n",
       "      <th>text</th>\n",
       "      <th>expanded_urls</th>\n",
       "      <th>rating_numerator</th>\n",
       "      <th>rating_denominator</th>\n",
       "      <th>name</th>\n",
       "      <th>stage</th>\n",
       "    </tr>\n",
       "  </thead>\n",
       "  <tbody>\n",
       "    <tr>\n",
       "      <th>1853</th>\n",
       "      <td>675706639471788032</td>\n",
       "      <td>NaN</td>\n",
       "      <td>NaN</td>\n",
       "      <td>2015-12-12 15:59:51</td>\n",
       "      <td>&lt;a href=\"http://twitter.com/download/iphone\" r...</td>\n",
       "      <td>This is a Sizzlin Menorah spaniel from Brookly...</td>\n",
       "      <td>https://twitter.com/dog_rates/status/675706639...</td>\n",
       "      <td>10.0</td>\n",
       "      <td>10</td>\n",
       "      <td>Wylie</td>\n",
       "      <td>NaN</td>\n",
       "    </tr>\n",
       "    <tr>\n",
       "      <th>1955</th>\n",
       "      <td>673636718965334016</td>\n",
       "      <td>NaN</td>\n",
       "      <td>NaN</td>\n",
       "      <td>2015-12-06 22:54:44</td>\n",
       "      <td>&lt;a href=\"http://twitter.com/download/iphone\" r...</td>\n",
       "      <td>This is a Lofted Aphrodisiac Terrier named Kip...</td>\n",
       "      <td>https://twitter.com/dog_rates/status/673636718...</td>\n",
       "      <td>10.0</td>\n",
       "      <td>10</td>\n",
       "      <td>Kip</td>\n",
       "      <td>NaN</td>\n",
       "    </tr>\n",
       "    <tr>\n",
       "      <th>2034</th>\n",
       "      <td>671743150407421952</td>\n",
       "      <td>NaN</td>\n",
       "      <td>NaN</td>\n",
       "      <td>2015-12-01 17:30:22</td>\n",
       "      <td>&lt;a href=\"http://twitter.com/download/iphone\" r...</td>\n",
       "      <td>This is a Tuscaloosa Alcatraz named Jacob (Yac...</td>\n",
       "      <td>https://twitter.com/dog_rates/status/671743150...</td>\n",
       "      <td>11.0</td>\n",
       "      <td>10</td>\n",
       "      <td>Jacob (Yacōb)</td>\n",
       "      <td>NaN</td>\n",
       "    </tr>\n",
       "    <tr>\n",
       "      <th>2066</th>\n",
       "      <td>671147085991960577</td>\n",
       "      <td>NaN</td>\n",
       "      <td>NaN</td>\n",
       "      <td>2015-11-30 02:01:49</td>\n",
       "      <td>&lt;a href=\"http://twitter.com/download/iphone\" r...</td>\n",
       "      <td>This is a Helvetica Listerine named Rufus. Thi...</td>\n",
       "      <td>https://twitter.com/dog_rates/status/671147085...</td>\n",
       "      <td>9.0</td>\n",
       "      <td>10</td>\n",
       "      <td>Rufus</td>\n",
       "      <td>NaN</td>\n",
       "    </tr>\n",
       "    <tr>\n",
       "      <th>2116</th>\n",
       "      <td>670427002554466305</td>\n",
       "      <td>NaN</td>\n",
       "      <td>NaN</td>\n",
       "      <td>2015-11-28 02:20:27</td>\n",
       "      <td>&lt;a href=\"http://twitter.com/download/iphone\" r...</td>\n",
       "      <td>This is a Deciduous Trimester mix named Spork....</td>\n",
       "      <td>https://twitter.com/dog_rates/status/670427002...</td>\n",
       "      <td>9.0</td>\n",
       "      <td>10</td>\n",
       "      <td>Spork</td>\n",
       "      <td>NaN</td>\n",
       "    </tr>\n",
       "    <tr>\n",
       "      <th>2125</th>\n",
       "      <td>670361874861563904</td>\n",
       "      <td>NaN</td>\n",
       "      <td>NaN</td>\n",
       "      <td>2015-11-27 22:01:40</td>\n",
       "      <td>&lt;a href=\"http://twitter.com/download/iphone\" r...</td>\n",
       "      <td>This is a Rich Mahogany Seltzer named Cherokee...</td>\n",
       "      <td>https://twitter.com/dog_rates/status/670361874...</td>\n",
       "      <td>9.0</td>\n",
       "      <td>10</td>\n",
       "      <td>Cherokee</td>\n",
       "      <td>NaN</td>\n",
       "    </tr>\n",
       "    <tr>\n",
       "      <th>2128</th>\n",
       "      <td>670303360680108032</td>\n",
       "      <td>NaN</td>\n",
       "      <td>NaN</td>\n",
       "      <td>2015-11-27 18:09:09</td>\n",
       "      <td>&lt;a href=\"http://twitter.com/download/iphone\" r...</td>\n",
       "      <td>This is a Speckled Cauliflower Yosemite named ...</td>\n",
       "      <td>https://twitter.com/dog_rates/status/670303360...</td>\n",
       "      <td>9.0</td>\n",
       "      <td>10</td>\n",
       "      <td>Hemry</td>\n",
       "      <td>NaN</td>\n",
       "    </tr>\n",
       "    <tr>\n",
       "      <th>2146</th>\n",
       "      <td>669923323644657664</td>\n",
       "      <td>NaN</td>\n",
       "      <td>NaN</td>\n",
       "      <td>2015-11-26 16:59:01</td>\n",
       "      <td>&lt;a href=\"http://twitter.com/download/iphone\" r...</td>\n",
       "      <td>This is a spotted Lipitor Rumpelstiltskin name...</td>\n",
       "      <td>https://twitter.com/dog_rates/status/669923323...</td>\n",
       "      <td>10.0</td>\n",
       "      <td>10</td>\n",
       "      <td>Alphred</td>\n",
       "      <td>NaN</td>\n",
       "    </tr>\n",
       "    <tr>\n",
       "      <th>2161</th>\n",
       "      <td>669564461267722241</td>\n",
       "      <td>NaN</td>\n",
       "      <td>NaN</td>\n",
       "      <td>2015-11-25 17:13:02</td>\n",
       "      <td>&lt;a href=\"http://twitter.com/download/iphone\" r...</td>\n",
       "      <td>This is a Coriander Baton Rouge named Alfredo....</td>\n",
       "      <td>https://twitter.com/dog_rates/status/669564461...</td>\n",
       "      <td>10.0</td>\n",
       "      <td>10</td>\n",
       "      <td>Alfredo</td>\n",
       "      <td>NaN</td>\n",
       "    </tr>\n",
       "    <tr>\n",
       "      <th>2191</th>\n",
       "      <td>668955713004314625</td>\n",
       "      <td>NaN</td>\n",
       "      <td>NaN</td>\n",
       "      <td>2015-11-24 00:54:05</td>\n",
       "      <td>&lt;a href=\"http://twitter.com/download/iphone\" r...</td>\n",
       "      <td>This is a Slovakian Helter Skelter Feta named ...</td>\n",
       "      <td>https://twitter.com/dog_rates/status/668955713...</td>\n",
       "      <td>10.0</td>\n",
       "      <td>10</td>\n",
       "      <td>Leroi</td>\n",
       "      <td>NaN</td>\n",
       "    </tr>\n",
       "    <tr>\n",
       "      <th>2204</th>\n",
       "      <td>668636665813057536</td>\n",
       "      <td>NaN</td>\n",
       "      <td>NaN</td>\n",
       "      <td>2015-11-23 03:46:18</td>\n",
       "      <td>&lt;a href=\"http://twitter.com/download/iphone\" r...</td>\n",
       "      <td>This is an Irish Rigatoni terrier named Berta....</td>\n",
       "      <td>https://twitter.com/dog_rates/status/668636665...</td>\n",
       "      <td>10.0</td>\n",
       "      <td>10</td>\n",
       "      <td>Berta</td>\n",
       "      <td>NaN</td>\n",
       "    </tr>\n",
       "    <tr>\n",
       "      <th>2218</th>\n",
       "      <td>668507509523615744</td>\n",
       "      <td>NaN</td>\n",
       "      <td>NaN</td>\n",
       "      <td>2015-11-22 19:13:05</td>\n",
       "      <td>&lt;a href=\"http://twitter.com/download/iphone\" r...</td>\n",
       "      <td>This is a Birmingham Quagmire named Chuk. Love...</td>\n",
       "      <td>https://twitter.com/dog_rates/status/668507509...</td>\n",
       "      <td>10.0</td>\n",
       "      <td>10</td>\n",
       "      <td>Chuk</td>\n",
       "      <td>NaN</td>\n",
       "    </tr>\n",
       "    <tr>\n",
       "      <th>2235</th>\n",
       "      <td>668171859951755264</td>\n",
       "      <td>NaN</td>\n",
       "      <td>NaN</td>\n",
       "      <td>2015-11-21 20:59:20</td>\n",
       "      <td>&lt;a href=\"http://twitter.com/download/iphone\" r...</td>\n",
       "      <td>This is a Trans Siberian Kellogg named Alfonso...</td>\n",
       "      <td>https://twitter.com/dog_rates/status/668171859...</td>\n",
       "      <td>7.0</td>\n",
       "      <td>10</td>\n",
       "      <td>Alfonso</td>\n",
       "      <td>NaN</td>\n",
       "    </tr>\n",
       "    <tr>\n",
       "      <th>2249</th>\n",
       "      <td>667861340749471744</td>\n",
       "      <td>NaN</td>\n",
       "      <td>NaN</td>\n",
       "      <td>2015-11-21 00:25:26</td>\n",
       "      <td>&lt;a href=\"http://twitter.com/download/iphone\" r...</td>\n",
       "      <td>This is a Shotokon Macadamia mix named Cheryl....</td>\n",
       "      <td>https://twitter.com/dog_rates/status/667861340...</td>\n",
       "      <td>9.0</td>\n",
       "      <td>10</td>\n",
       "      <td>Cheryl</td>\n",
       "      <td>NaN</td>\n",
       "    </tr>\n",
       "    <tr>\n",
       "      <th>2255</th>\n",
       "      <td>667773195014021121</td>\n",
       "      <td>NaN</td>\n",
       "      <td>NaN</td>\n",
       "      <td>2015-11-20 18:35:10</td>\n",
       "      <td>&lt;a href=\"http://twitter.com\" rel=\"nofollow\"&gt;Tw...</td>\n",
       "      <td>This is a rare Hungarian Pinot named Jessiga. ...</td>\n",
       "      <td>https://twitter.com/dog_rates/status/667773195...</td>\n",
       "      <td>8.0</td>\n",
       "      <td>10</td>\n",
       "      <td>Jessiga</td>\n",
       "      <td>NaN</td>\n",
       "    </tr>\n",
       "    <tr>\n",
       "      <th>2264</th>\n",
       "      <td>667538891197542400</td>\n",
       "      <td>NaN</td>\n",
       "      <td>NaN</td>\n",
       "      <td>2015-11-20 03:04:08</td>\n",
       "      <td>&lt;a href=\"http://twitter.com\" rel=\"nofollow\"&gt;Tw...</td>\n",
       "      <td>This is a southwest Coriander named Klint. Hat...</td>\n",
       "      <td>https://twitter.com/dog_rates/status/667538891...</td>\n",
       "      <td>9.0</td>\n",
       "      <td>10</td>\n",
       "      <td>Klint</td>\n",
       "      <td>NaN</td>\n",
       "    </tr>\n",
       "    <tr>\n",
       "      <th>2273</th>\n",
       "      <td>667470559035432960</td>\n",
       "      <td>NaN</td>\n",
       "      <td>NaN</td>\n",
       "      <td>2015-11-19 22:32:36</td>\n",
       "      <td>&lt;a href=\"http://twitter.com\" rel=\"nofollow\"&gt;Tw...</td>\n",
       "      <td>This is a northern Wahoo named Kohl. He runs t...</td>\n",
       "      <td>https://twitter.com/dog_rates/status/667470559...</td>\n",
       "      <td>11.0</td>\n",
       "      <td>10</td>\n",
       "      <td>Kohl</td>\n",
       "      <td>NaN</td>\n",
       "    </tr>\n",
       "    <tr>\n",
       "      <th>2304</th>\n",
       "      <td>666983947667116034</td>\n",
       "      <td>NaN</td>\n",
       "      <td>NaN</td>\n",
       "      <td>2015-11-18 14:18:59</td>\n",
       "      <td>&lt;a href=\"http://twitter.com/download/iphone\" r...</td>\n",
       "      <td>This is a curly Ticonderoga named Pepe. No fee...</td>\n",
       "      <td>https://twitter.com/dog_rates/status/666983947...</td>\n",
       "      <td>11.0</td>\n",
       "      <td>10</td>\n",
       "      <td>Pepe</td>\n",
       "      <td>NaN</td>\n",
       "    </tr>\n",
       "    <tr>\n",
       "      <th>2311</th>\n",
       "      <td>666781792255496192</td>\n",
       "      <td>NaN</td>\n",
       "      <td>NaN</td>\n",
       "      <td>2015-11-18 00:55:42</td>\n",
       "      <td>&lt;a href=\"http://twitter.com/download/iphone\" r...</td>\n",
       "      <td>This is a purebred Bacardi named Octaviath. Ca...</td>\n",
       "      <td>https://twitter.com/dog_rates/status/666781792...</td>\n",
       "      <td>10.0</td>\n",
       "      <td>10</td>\n",
       "      <td>Octaviath</td>\n",
       "      <td>NaN</td>\n",
       "    </tr>\n",
       "    <tr>\n",
       "      <th>2314</th>\n",
       "      <td>666701168228331520</td>\n",
       "      <td>NaN</td>\n",
       "      <td>NaN</td>\n",
       "      <td>2015-11-17 19:35:19</td>\n",
       "      <td>&lt;a href=\"http://twitter.com/download/iphone\" r...</td>\n",
       "      <td>This is a golden Buckminsterfullerene named Jo...</td>\n",
       "      <td>https://twitter.com/dog_rates/status/666701168...</td>\n",
       "      <td>8.0</td>\n",
       "      <td>10</td>\n",
       "      <td>Johm</td>\n",
       "      <td>NaN</td>\n",
       "    </tr>\n",
       "  </tbody>\n",
       "</table>\n",
       "</div>"
      ],
      "text/plain": [
       "                tweet_id  in_reply_to_status_id  in_reply_to_user_id  \\\n",
       "1853  675706639471788032                    NaN                  NaN   \n",
       "1955  673636718965334016                    NaN                  NaN   \n",
       "2034  671743150407421952                    NaN                  NaN   \n",
       "2066  671147085991960577                    NaN                  NaN   \n",
       "2116  670427002554466305                    NaN                  NaN   \n",
       "2125  670361874861563904                    NaN                  NaN   \n",
       "2128  670303360680108032                    NaN                  NaN   \n",
       "2146  669923323644657664                    NaN                  NaN   \n",
       "2161  669564461267722241                    NaN                  NaN   \n",
       "2191  668955713004314625                    NaN                  NaN   \n",
       "2204  668636665813057536                    NaN                  NaN   \n",
       "2218  668507509523615744                    NaN                  NaN   \n",
       "2235  668171859951755264                    NaN                  NaN   \n",
       "2249  667861340749471744                    NaN                  NaN   \n",
       "2255  667773195014021121                    NaN                  NaN   \n",
       "2264  667538891197542400                    NaN                  NaN   \n",
       "2273  667470559035432960                    NaN                  NaN   \n",
       "2304  666983947667116034                    NaN                  NaN   \n",
       "2311  666781792255496192                    NaN                  NaN   \n",
       "2314  666701168228331520                    NaN                  NaN   \n",
       "\n",
       "               timestamp                                             source  \\\n",
       "1853 2015-12-12 15:59:51  <a href=\"http://twitter.com/download/iphone\" r...   \n",
       "1955 2015-12-06 22:54:44  <a href=\"http://twitter.com/download/iphone\" r...   \n",
       "2034 2015-12-01 17:30:22  <a href=\"http://twitter.com/download/iphone\" r...   \n",
       "2066 2015-11-30 02:01:49  <a href=\"http://twitter.com/download/iphone\" r...   \n",
       "2116 2015-11-28 02:20:27  <a href=\"http://twitter.com/download/iphone\" r...   \n",
       "2125 2015-11-27 22:01:40  <a href=\"http://twitter.com/download/iphone\" r...   \n",
       "2128 2015-11-27 18:09:09  <a href=\"http://twitter.com/download/iphone\" r...   \n",
       "2146 2015-11-26 16:59:01  <a href=\"http://twitter.com/download/iphone\" r...   \n",
       "2161 2015-11-25 17:13:02  <a href=\"http://twitter.com/download/iphone\" r...   \n",
       "2191 2015-11-24 00:54:05  <a href=\"http://twitter.com/download/iphone\" r...   \n",
       "2204 2015-11-23 03:46:18  <a href=\"http://twitter.com/download/iphone\" r...   \n",
       "2218 2015-11-22 19:13:05  <a href=\"http://twitter.com/download/iphone\" r...   \n",
       "2235 2015-11-21 20:59:20  <a href=\"http://twitter.com/download/iphone\" r...   \n",
       "2249 2015-11-21 00:25:26  <a href=\"http://twitter.com/download/iphone\" r...   \n",
       "2255 2015-11-20 18:35:10  <a href=\"http://twitter.com\" rel=\"nofollow\">Tw...   \n",
       "2264 2015-11-20 03:04:08  <a href=\"http://twitter.com\" rel=\"nofollow\">Tw...   \n",
       "2273 2015-11-19 22:32:36  <a href=\"http://twitter.com\" rel=\"nofollow\">Tw...   \n",
       "2304 2015-11-18 14:18:59  <a href=\"http://twitter.com/download/iphone\" r...   \n",
       "2311 2015-11-18 00:55:42  <a href=\"http://twitter.com/download/iphone\" r...   \n",
       "2314 2015-11-17 19:35:19  <a href=\"http://twitter.com/download/iphone\" r...   \n",
       "\n",
       "                                                   text  \\\n",
       "1853  This is a Sizzlin Menorah spaniel from Brookly...   \n",
       "1955  This is a Lofted Aphrodisiac Terrier named Kip...   \n",
       "2034  This is a Tuscaloosa Alcatraz named Jacob (Yac...   \n",
       "2066  This is a Helvetica Listerine named Rufus. Thi...   \n",
       "2116  This is a Deciduous Trimester mix named Spork....   \n",
       "2125  This is a Rich Mahogany Seltzer named Cherokee...   \n",
       "2128  This is a Speckled Cauliflower Yosemite named ...   \n",
       "2146  This is a spotted Lipitor Rumpelstiltskin name...   \n",
       "2161  This is a Coriander Baton Rouge named Alfredo....   \n",
       "2191  This is a Slovakian Helter Skelter Feta named ...   \n",
       "2204  This is an Irish Rigatoni terrier named Berta....   \n",
       "2218  This is a Birmingham Quagmire named Chuk. Love...   \n",
       "2235  This is a Trans Siberian Kellogg named Alfonso...   \n",
       "2249  This is a Shotokon Macadamia mix named Cheryl....   \n",
       "2255  This is a rare Hungarian Pinot named Jessiga. ...   \n",
       "2264  This is a southwest Coriander named Klint. Hat...   \n",
       "2273  This is a northern Wahoo named Kohl. He runs t...   \n",
       "2304  This is a curly Ticonderoga named Pepe. No fee...   \n",
       "2311  This is a purebred Bacardi named Octaviath. Ca...   \n",
       "2314  This is a golden Buckminsterfullerene named Jo...   \n",
       "\n",
       "                                          expanded_urls  rating_numerator  \\\n",
       "1853  https://twitter.com/dog_rates/status/675706639...              10.0   \n",
       "1955  https://twitter.com/dog_rates/status/673636718...              10.0   \n",
       "2034  https://twitter.com/dog_rates/status/671743150...              11.0   \n",
       "2066  https://twitter.com/dog_rates/status/671147085...               9.0   \n",
       "2116  https://twitter.com/dog_rates/status/670427002...               9.0   \n",
       "2125  https://twitter.com/dog_rates/status/670361874...               9.0   \n",
       "2128  https://twitter.com/dog_rates/status/670303360...               9.0   \n",
       "2146  https://twitter.com/dog_rates/status/669923323...              10.0   \n",
       "2161  https://twitter.com/dog_rates/status/669564461...              10.0   \n",
       "2191  https://twitter.com/dog_rates/status/668955713...              10.0   \n",
       "2204  https://twitter.com/dog_rates/status/668636665...              10.0   \n",
       "2218  https://twitter.com/dog_rates/status/668507509...              10.0   \n",
       "2235  https://twitter.com/dog_rates/status/668171859...               7.0   \n",
       "2249  https://twitter.com/dog_rates/status/667861340...               9.0   \n",
       "2255  https://twitter.com/dog_rates/status/667773195...               8.0   \n",
       "2264  https://twitter.com/dog_rates/status/667538891...               9.0   \n",
       "2273  https://twitter.com/dog_rates/status/667470559...              11.0   \n",
       "2304  https://twitter.com/dog_rates/status/666983947...              11.0   \n",
       "2311  https://twitter.com/dog_rates/status/666781792...              10.0   \n",
       "2314  https://twitter.com/dog_rates/status/666701168...               8.0   \n",
       "\n",
       "      rating_denominator           name stage  \n",
       "1853                  10          Wylie   NaN  \n",
       "1955                  10            Kip   NaN  \n",
       "2034                  10  Jacob (Yacōb)   NaN  \n",
       "2066                  10          Rufus   NaN  \n",
       "2116                  10          Spork   NaN  \n",
       "2125                  10       Cherokee   NaN  \n",
       "2128                  10          Hemry   NaN  \n",
       "2146                  10        Alphred   NaN  \n",
       "2161                  10        Alfredo   NaN  \n",
       "2191                  10          Leroi   NaN  \n",
       "2204                  10          Berta   NaN  \n",
       "2218                  10           Chuk   NaN  \n",
       "2235                  10        Alfonso   NaN  \n",
       "2249                  10         Cheryl   NaN  \n",
       "2255                  10        Jessiga   NaN  \n",
       "2264                  10          Klint   NaN  \n",
       "2273                  10           Kohl   NaN  \n",
       "2304                  10           Pepe   NaN  \n",
       "2311                  10      Octaviath   NaN  \n",
       "2314                  10           Johm   NaN  "
      ]
     },
     "execution_count": 135,
     "metadata": {},
     "output_type": "execute_result"
    }
   ],
   "source": [
    "twitter_archive_clean.loc[twitter_archive_clean['tweet_id'].isin(function_ids)]"
   ]
  },
  {
   "cell_type": "code",
   "execution_count": 136,
   "metadata": {},
   "outputs": [
    {
     "data": {
      "text/plain": [
       "20"
      ]
     },
     "execution_count": 136,
     "metadata": {},
     "output_type": "execute_result"
    }
   ],
   "source": [
    "len(function_ids)"
   ]
  },
  {
   "cell_type": "code",
   "execution_count": 137,
   "metadata": {},
   "outputs": [
    {
     "data": {
      "text/plain": [
       "715"
      ]
     },
     "execution_count": 137,
     "metadata": {},
     "output_type": "execute_result"
    }
   ],
   "source": [
    "named = twitter_archive_clean.loc[twitter_archive_clean['name'].notnull()]\n",
    "not_name = named.loc[named['name'].str.islower()]\n",
    "no_name = twitter_archive_clean.loc[twitter_archive_clean['name'].isnull()]\n",
    "name_issues = pd.concat([not_name, no_name])\n",
    "#should be 716\n",
    "len(name_issues)"
   ]
  },
  {
   "cell_type": "markdown",
   "metadata": {},
   "source": [
    "#### Define:\n",
    "- replace all non-names (a, an, the, etc.) with null.\n",
    "\n",
    "#### Code:"
   ]
  },
  {
   "cell_type": "code",
   "execution_count": 138,
   "metadata": {},
   "outputs": [
    {
     "data": {
      "text/plain": [
       "79"
      ]
     },
     "execution_count": 138,
     "metadata": {},
     "output_type": "execute_result"
    }
   ],
   "source": [
    "named = twitter_archive_clean.loc[twitter_archive_clean['name'].notnull()]\n",
    "not_name = named.loc[named['name'].str.islower()]\n",
    "not_name_id = not_name['tweet_id']\n",
    "\n",
    "len(not_name_id)"
   ]
  },
  {
   "cell_type": "code",
   "execution_count": 139,
   "metadata": {},
   "outputs": [
    {
     "data": {
      "text/plain": [
       "a               34\n",
       "the              8\n",
       "an               5\n",
       "very             4\n",
       "quite            3\n",
       "one              3\n",
       "just             3\n",
       "not              2\n",
       "actually         2\n",
       "getting          2\n",
       "old              1\n",
       "mad              1\n",
       "this             1\n",
       "incredibly       1\n",
       "officially       1\n",
       "unacceptable     1\n",
       "space            1\n",
       "infuriating      1\n",
       "all              1\n",
       "light            1\n",
       "life             1\n",
       "by               1\n",
       "such             1\n",
       "Name: name, dtype: int64"
      ]
     },
     "execution_count": 139,
     "metadata": {},
     "output_type": "execute_result"
    }
   ],
   "source": [
    "not_name['name'].value_counts()"
   ]
  },
  {
   "cell_type": "code",
   "execution_count": 140,
   "metadata": {},
   "outputs": [],
   "source": [
    "twitter_archive_clean1=twitter_archive_clean.copy()"
   ]
  },
  {
   "cell_type": "code",
   "execution_count": 141,
   "metadata": {},
   "outputs": [],
   "source": [
    "for i in range(len(not_name_id)):\n",
    "    index = not_name_id.index[i]\n",
    "    tweet_id = not_name_id[index]\n",
    "    twitter_archive_clean1.loc[twitter_archive_clean1['tweet_id']==tweet_id, 'name']=None"
   ]
  },
  {
   "cell_type": "markdown",
   "metadata": {},
   "source": [
    "#### Test\n",
    "- name column should have 1457 non-null entries"
   ]
  },
  {
   "cell_type": "code",
   "execution_count": 142,
   "metadata": {},
   "outputs": [
    {
     "name": "stdout",
     "output_type": "stream",
     "text": [
      "<class 'pandas.core.frame.DataFrame'>\n",
      "Int64Index: 2172 entries, 0 to 2355\n",
      "Data columns (total 11 columns):\n",
      "tweet_id                 2172 non-null int64\n",
      "in_reply_to_status_id    77 non-null float64\n",
      "in_reply_to_user_id      77 non-null float64\n",
      "timestamp                2172 non-null datetime64[ns]\n",
      "source                   2172 non-null object\n",
      "text                     2172 non-null object\n",
      "expanded_urls            2115 non-null object\n",
      "rating_numerator         2172 non-null float64\n",
      "rating_denominator       2172 non-null int64\n",
      "name                     1457 non-null object\n",
      "stage                    342 non-null object\n",
      "dtypes: datetime64[ns](1), float64(3), int64(2), object(5)\n",
      "memory usage: 203.6+ KB\n"
     ]
    }
   ],
   "source": [
    "twitter_archive_clean1.info()"
   ]
  },
  {
   "cell_type": "markdown",
   "metadata": {},
   "source": [
    "there should be zero lowercase values in the name column"
   ]
  },
  {
   "cell_type": "code",
   "execution_count": 143,
   "metadata": {},
   "outputs": [
    {
     "data": {
      "text/plain": [
       "0"
      ]
     },
     "execution_count": 143,
     "metadata": {},
     "output_type": "execute_result"
    }
   ],
   "source": [
    "named = twitter_archive_clean1.loc[twitter_archive_clean1['name'].notnull()]\n",
    "not_name = named.loc[named['name'].str.islower()]\n",
    "\n",
    "len(not_name)"
   ]
  },
  {
   "cell_type": "code",
   "execution_count": 144,
   "metadata": {},
   "outputs": [],
   "source": [
    "#setting twitter_archive_clean with new changes\n",
    "twitter_archive_clean = twitter_archive_clean1.copy()"
   ]
  },
  {
   "cell_type": "code",
   "execution_count": 145,
   "metadata": {},
   "outputs": [
    {
     "name": "stdout",
     "output_type": "stream",
     "text": [
      "<class 'pandas.core.frame.DataFrame'>\n",
      "Int64Index: 2172 entries, 0 to 2355\n",
      "Data columns (total 11 columns):\n",
      "tweet_id                 2172 non-null int64\n",
      "in_reply_to_status_id    77 non-null float64\n",
      "in_reply_to_user_id      77 non-null float64\n",
      "timestamp                2172 non-null datetime64[ns]\n",
      "source                   2172 non-null object\n",
      "text                     2172 non-null object\n",
      "expanded_urls            2115 non-null object\n",
      "rating_numerator         2172 non-null float64\n",
      "rating_denominator       2172 non-null int64\n",
      "name                     1457 non-null object\n",
      "stage                    342 non-null object\n",
      "dtypes: datetime64[ns](1), float64(3), int64(2), object(5)\n",
      "memory usage: 203.6+ KB\n"
     ]
    }
   ],
   "source": [
    "twitter_archive_clean.info()"
   ]
  },
  {
   "cell_type": "markdown",
   "metadata": {},
   "source": [
    "# Clean - We only want dog images\n",
    "\n",
    "#### Define\n",
    "- Use the tweet ids from tweet_image_clean, subset twitter_archive_clean and tweet_counts.  This selects tweets with images of dogs.\n",
    "\n",
    "#### Code"
   ]
  },
  {
   "cell_type": "code",
   "execution_count": 146,
   "metadata": {},
   "outputs": [],
   "source": [
    "dog_image_ids = []\n",
    "for i in range(len(tweet_image_clean['tweet_id'])):\n",
    "    index = tweet_image_clean['tweet_id'].index[i]\n",
    "    tweet_id = tweet_image_clean['tweet_id'][index]\n",
    "    dog_image_ids.append(tweet_id)"
   ]
  },
  {
   "cell_type": "code",
   "execution_count": 147,
   "metadata": {},
   "outputs": [],
   "source": [
    "twitter_archive_clean = twitter_archive_clean.loc[twitter_archive_clean['tweet_id'].isin(dog_image_ids)]\n",
    "tweet_counts_clean = tweet_counts_clean.loc[tweet_counts_clean['id'].isin(dog_image_ids)]"
   ]
  },
  {
   "cell_type": "markdown",
   "metadata": {},
   "source": [
    "#### Test\n",
    "- Both twitter_archive_clean and tweet_counts_clean should have 1901 entries or less"
   ]
  },
  {
   "cell_type": "code",
   "execution_count": 148,
   "metadata": {},
   "outputs": [
    {
     "name": "stdout",
     "output_type": "stream",
     "text": [
      "<class 'pandas.core.frame.DataFrame'>\n",
      "Int64Index: 1824 entries, 0 to 2355\n",
      "Data columns (total 11 columns):\n",
      "tweet_id                 1824 non-null int64\n",
      "in_reply_to_status_id    20 non-null float64\n",
      "in_reply_to_user_id      20 non-null float64\n",
      "timestamp                1824 non-null datetime64[ns]\n",
      "source                   1824 non-null object\n",
      "text                     1824 non-null object\n",
      "expanded_urls            1824 non-null object\n",
      "rating_numerator         1824 non-null float64\n",
      "rating_denominator       1824 non-null int64\n",
      "name                     1326 non-null object\n",
      "stage                    282 non-null object\n",
      "dtypes: datetime64[ns](1), float64(3), int64(2), object(5)\n",
      "memory usage: 171.0+ KB\n"
     ]
    }
   ],
   "source": [
    "twitter_archive_clean.info()"
   ]
  },
  {
   "cell_type": "code",
   "execution_count": 149,
   "metadata": {},
   "outputs": [
    {
     "name": "stdout",
     "output_type": "stream",
     "text": [
      "<class 'pandas.core.frame.DataFrame'>\n",
      "Int64Index: 1896 entries, 0 to 2345\n",
      "Data columns (total 8 columns):\n",
      "expanded_url             1896 non-null object\n",
      "favorite_count           1896 non-null int64\n",
      "followers_count          1896 non-null int64\n",
      "id                       1896 non-null int64\n",
      "in_reply_to_status_id    20 non-null object\n",
      "in_reply_to_user_id      20 non-null object\n",
      "retweet_count            1896 non-null int64\n",
      "timestamp                1896 non-null datetime64[ns]\n",
      "dtypes: datetime64[ns](1), int64(4), object(3)\n",
      "memory usage: 133.3+ KB\n"
     ]
    }
   ],
   "source": [
    "tweet_counts_clean.info()"
   ]
  },
  {
   "cell_type": "markdown",
   "metadata": {},
   "source": [
    "Note: the different sizes could be because dog_image_ids include retweets that we had filtered out.  Tweet_counts also includes retweets.  There were 10 tweets that couldn't be processed when I made tweet_counts so that should account for tweet_counts not having 1901 entries.  The following is to test these assertions."
   ]
  },
  {
   "cell_type": "code",
   "execution_count": 150,
   "metadata": {},
   "outputs": [
    {
     "name": "stdout",
     "output_type": "stream",
     "text": [
      "<class 'pandas.core.frame.DataFrame'>\n",
      "RangeIndex: 2356 entries, 0 to 2355\n",
      "Data columns (total 17 columns):\n",
      "tweet_id                      2356 non-null int64\n",
      "in_reply_to_status_id         78 non-null float64\n",
      "in_reply_to_user_id           78 non-null float64\n",
      "timestamp                     2356 non-null object\n",
      "source                        2356 non-null object\n",
      "text                          2356 non-null object\n",
      "retweeted_status_id           181 non-null float64\n",
      "retweeted_status_user_id      181 non-null float64\n",
      "retweeted_status_timestamp    181 non-null object\n",
      "expanded_urls                 2297 non-null object\n",
      "rating_numerator              2356 non-null int64\n",
      "rating_denominator            2356 non-null int64\n",
      "name                          2356 non-null object\n",
      "doggo                         2356 non-null object\n",
      "floofer                       2356 non-null object\n",
      "pupper                        2356 non-null object\n",
      "puppo                         2356 non-null object\n",
      "dtypes: float64(4), int64(3), object(10)\n",
      "memory usage: 313.0+ KB\n"
     ]
    }
   ],
   "source": [
    "twitter_archive_check = twitter_archive.copy()\n",
    "twitter_archive_check.info()"
   ]
  },
  {
   "cell_type": "code",
   "execution_count": 151,
   "metadata": {},
   "outputs": [
    {
     "name": "stdout",
     "output_type": "stream",
     "text": [
      "<class 'pandas.core.frame.DataFrame'>\n",
      "Int64Index: 1901 entries, 0 to 2355\n",
      "Data columns (total 17 columns):\n",
      "tweet_id                      1901 non-null int64\n",
      "in_reply_to_status_id         20 non-null float64\n",
      "in_reply_to_user_id           20 non-null float64\n",
      "timestamp                     1901 non-null object\n",
      "source                        1901 non-null object\n",
      "text                          1901 non-null object\n",
      "retweeted_status_id           76 non-null float64\n",
      "retweeted_status_user_id      76 non-null float64\n",
      "retweeted_status_timestamp    76 non-null object\n",
      "expanded_urls                 1901 non-null object\n",
      "rating_numerator              1901 non-null int64\n",
      "rating_denominator            1901 non-null int64\n",
      "name                          1901 non-null object\n",
      "doggo                         1901 non-null object\n",
      "floofer                       1901 non-null object\n",
      "pupper                        1901 non-null object\n",
      "puppo                         1901 non-null object\n",
      "dtypes: float64(4), int64(3), object(10)\n",
      "memory usage: 267.3+ KB\n"
     ]
    }
   ],
   "source": [
    "twitter_archive_check = twitter_archive_check.loc[twitter_archive_check['tweet_id'].isin(dog_image_ids)]\n",
    "twitter_archive_check.info()"
   ]
  },
  {
   "cell_type": "code",
   "execution_count": 152,
   "metadata": {},
   "outputs": [
    {
     "data": {
      "text/plain": [
       "1825"
      ]
     },
     "execution_count": 152,
     "metadata": {},
     "output_type": "execute_result"
    }
   ],
   "source": [
    "1901-76"
   ]
  },
  {
   "cell_type": "code",
   "execution_count": 153,
   "metadata": {},
   "outputs": [
    {
     "name": "stdout",
     "output_type": "stream",
     "text": [
      "False True False\n"
     ]
    }
   ],
   "source": [
    "#Also deleted two tweets 832088576586297345 and 810984652412424192 because \n",
    "#they didn't have a rating and 785639753186217984 because it wasn't a \n",
    "#picutre of a dog.\n",
    "\n",
    "print(832088576586297345 in dog_image_ids, 810984652412424192 in dog_image_ids, 785639753186217984 in dog_image_ids ) \n",
    "\n",
    " "
   ]
  },
  {
   "cell_type": "markdown",
   "metadata": {},
   "source": [
    "tweet 810984652412424192 was deleted because it didn't have a rating.\n",
    "\n",
    "All deletions in twitter archive accounted for.\n",
    "\n",
    "Moving on to tweet_counts.  10 tweet ids couldn't be processed due to thier deletion from server.  Let's check if 5 of those ids are in dog_image_ids.  This would account for the missing entries in tweet_counts."
   ]
  },
  {
   "cell_type": "code",
   "execution_count": 154,
   "metadata": {},
   "outputs": [
    {
     "data": {
      "text/plain": [
       "[888202515573088257,\n",
       " 873697596434513921,\n",
       " 869988702071779329,\n",
       " 866816280283807744,\n",
       " 861769973181624320,\n",
       " 842892208864923648,\n",
       " 837012587749474308,\n",
       " 827228250799742977,\n",
       " 802247111496568832,\n",
       " 775096608509886464]"
      ]
     },
     "execution_count": 154,
     "metadata": {},
     "output_type": "execute_result"
    }
   ],
   "source": [
    "error_ids"
   ]
  },
  {
   "cell_type": "code",
   "execution_count": 155,
   "metadata": {},
   "outputs": [
    {
     "data": {
      "text/plain": [
       "5"
      ]
     },
     "execution_count": 155,
     "metadata": {},
     "output_type": "execute_result"
    }
   ],
   "source": [
    "tweet_error = 0\n",
    "for i in range(len(error_ids)):\n",
    "    if error_ids[i] in dog_image_ids:\n",
    "        tweet_error += 1\n",
    "\n",
    "tweet_error"
   ]
  },
  {
   "cell_type": "markdown",
   "metadata": {},
   "source": [
    "All missing tweets accounted for.  twitter_archive_clean is our limiting frame because it has the smallest number of entries."
   ]
  },
  {
   "cell_type": "markdown",
   "metadata": {},
   "source": [
    "# Clean - putting it all together.\n",
    "\n",
    "#### Define\n",
    "- merge twitter_archive_clean (left table) and tweet_counts_clean(right table) into tweet_info\n",
    "    - twitter_archive_clean is smaller than tweet_counts so do a left join on tweet_id to only include twitter_archive_clean tweet_ids.\n"
   ]
  },
  {
   "cell_type": "code",
   "execution_count": 156,
   "metadata": {},
   "outputs": [
    {
     "name": "stdout",
     "output_type": "stream",
     "text": [
      "<class 'pandas.core.frame.DataFrame'>\n",
      "Int64Index: 1896 entries, 0 to 2345\n",
      "Data columns (total 8 columns):\n",
      "expanded_url             1896 non-null object\n",
      "favorite_count           1896 non-null int64\n",
      "followers_count          1896 non-null int64\n",
      "id                       1896 non-null int64\n",
      "in_reply_to_status_id    20 non-null object\n",
      "in_reply_to_user_id      20 non-null object\n",
      "retweet_count            1896 non-null int64\n",
      "timestamp                1896 non-null datetime64[ns]\n",
      "dtypes: datetime64[ns](1), int64(4), object(3)\n",
      "memory usage: 133.3+ KB\n"
     ]
    }
   ],
   "source": [
    "tweet_counts_clean.info()"
   ]
  },
  {
   "cell_type": "code",
   "execution_count": 157,
   "metadata": {},
   "outputs": [],
   "source": [
    "tweet_info = twitter_archive_clean.merge(tweet_counts_clean, how='inner', left_on='tweet_id', right_on='id')"
   ]
  },
  {
   "cell_type": "markdown",
   "metadata": {},
   "source": [
    "#### test\n",
    "- tweet_info should have 1824 entries\n",
    "- column headings  and datatypes should be\n",
    "    - tweet_id                 int64\n",
    "    - in_reply_to_status_id    float64\n",
    "    - in_reply_to_user_id      float64\n",
    "    - timestamp                datetime64[ns]\n",
    "    - source                   object\n",
    "    - text                     object\n",
    "    - expanded_urls            object\n",
    "    - rating_numerator         float64\n",
    "    - rating_denominator       int64\n",
    "    - name                     object\n",
    "    - stage                    object \n",
    "    - expanded_url             object\n",
    "    - favorite_count           int64\n",
    "    - followers_count          int64\n",
    "    - id                       int64\n",
    "    - in_reply_to_status_id    object\n",
    "    - in_reply_to_user_id      object\n",
    "    - retweet_count            int64\n",
    "    - timestamp                datetime64[ns]\n",
    "    \n",
    "    "
   ]
  },
  {
   "cell_type": "code",
   "execution_count": 158,
   "metadata": {},
   "outputs": [
    {
     "name": "stdout",
     "output_type": "stream",
     "text": [
      "<class 'pandas.core.frame.DataFrame'>\n",
      "Int64Index: 1824 entries, 0 to 1823\n",
      "Data columns (total 19 columns):\n",
      "tweet_id                   1824 non-null int64\n",
      "in_reply_to_status_id_x    20 non-null float64\n",
      "in_reply_to_user_id_x      20 non-null float64\n",
      "timestamp_x                1824 non-null datetime64[ns]\n",
      "source                     1824 non-null object\n",
      "text                       1824 non-null object\n",
      "expanded_urls              1824 non-null object\n",
      "rating_numerator           1824 non-null float64\n",
      "rating_denominator         1824 non-null int64\n",
      "name                       1326 non-null object\n",
      "stage                      282 non-null object\n",
      "expanded_url               1824 non-null object\n",
      "favorite_count             1824 non-null int64\n",
      "followers_count            1824 non-null int64\n",
      "id                         1824 non-null int64\n",
      "in_reply_to_status_id_y    20 non-null object\n",
      "in_reply_to_user_id_y      20 non-null object\n",
      "retweet_count              1824 non-null int64\n",
      "timestamp_y                1824 non-null datetime64[ns]\n",
      "dtypes: datetime64[ns](2), float64(3), int64(6), object(8)\n",
      "memory usage: 285.0+ KB\n"
     ]
    }
   ],
   "source": [
    "tweet_info.info()"
   ]
  },
  {
   "cell_type": "markdown",
   "metadata": {},
   "source": [
    "## Assess tweet_info"
   ]
  },
  {
   "cell_type": "code",
   "execution_count": 159,
   "metadata": {},
   "outputs": [
    {
     "data": {
      "text/html": [
       "<div>\n",
       "<style>\n",
       "    .dataframe thead tr:only-child th {\n",
       "        text-align: right;\n",
       "    }\n",
       "\n",
       "    .dataframe thead th {\n",
       "        text-align: left;\n",
       "    }\n",
       "\n",
       "    .dataframe tbody tr th {\n",
       "        vertical-align: top;\n",
       "    }\n",
       "</style>\n",
       "<table border=\"1\" class=\"dataframe\">\n",
       "  <thead>\n",
       "    <tr style=\"text-align: right;\">\n",
       "      <th></th>\n",
       "      <th>tweet_id</th>\n",
       "      <th>in_reply_to_status_id_x</th>\n",
       "      <th>in_reply_to_user_id_x</th>\n",
       "      <th>timestamp_x</th>\n",
       "      <th>source</th>\n",
       "      <th>text</th>\n",
       "      <th>expanded_urls</th>\n",
       "      <th>rating_numerator</th>\n",
       "      <th>rating_denominator</th>\n",
       "      <th>name</th>\n",
       "      <th>stage</th>\n",
       "      <th>expanded_url</th>\n",
       "      <th>favorite_count</th>\n",
       "      <th>followers_count</th>\n",
       "      <th>id</th>\n",
       "      <th>in_reply_to_status_id_y</th>\n",
       "      <th>in_reply_to_user_id_y</th>\n",
       "      <th>retweet_count</th>\n",
       "      <th>timestamp_y</th>\n",
       "    </tr>\n",
       "  </thead>\n",
       "  <tbody>\n",
       "    <tr>\n",
       "      <th>1685</th>\n",
       "      <td>668979806671884288</td>\n",
       "      <td>NaN</td>\n",
       "      <td>NaN</td>\n",
       "      <td>2015-11-24 02:29:49</td>\n",
       "      <td>&lt;a href=\"http://twitter.com/download/iphone\" r...</td>\n",
       "      <td>This is Chaz. He's an X Games half pipe supers...</td>\n",
       "      <td>https://twitter.com/dog_rates/status/668979806...</td>\n",
       "      <td>12.0</td>\n",
       "      <td>10</td>\n",
       "      <td>Chaz</td>\n",
       "      <td>NaN</td>\n",
       "      <td>https://twitter.com/dog_rates/status/668979806...</td>\n",
       "      <td>832</td>\n",
       "      <td>5699498</td>\n",
       "      <td>668979806671884288</td>\n",
       "      <td>None</td>\n",
       "      <td>None</td>\n",
       "      <td>376</td>\n",
       "      <td>2015-11-24 02:29:49</td>\n",
       "    </tr>\n",
       "  </tbody>\n",
       "</table>\n",
       "</div>"
      ],
      "text/plain": [
       "                tweet_id  in_reply_to_status_id_x  in_reply_to_user_id_x  \\\n",
       "1685  668979806671884288                      NaN                    NaN   \n",
       "\n",
       "             timestamp_x                                             source  \\\n",
       "1685 2015-11-24 02:29:49  <a href=\"http://twitter.com/download/iphone\" r...   \n",
       "\n",
       "                                                   text  \\\n",
       "1685  This is Chaz. He's an X Games half pipe supers...   \n",
       "\n",
       "                                          expanded_urls  rating_numerator  \\\n",
       "1685  https://twitter.com/dog_rates/status/668979806...              12.0   \n",
       "\n",
       "      rating_denominator  name stage  \\\n",
       "1685                  10  Chaz   NaN   \n",
       "\n",
       "                                           expanded_url  favorite_count  \\\n",
       "1685  https://twitter.com/dog_rates/status/668979806...             832   \n",
       "\n",
       "      followers_count                  id in_reply_to_status_id_y  \\\n",
       "1685          5699498  668979806671884288                    None   \n",
       "\n",
       "     in_reply_to_user_id_y  retweet_count         timestamp_y  \n",
       "1685                  None            376 2015-11-24 02:29:49  "
      ]
     },
     "execution_count": 159,
     "metadata": {},
     "output_type": "execute_result"
    }
   ],
   "source": [
    "tweet_info.sample()"
   ]
  },
  {
   "cell_type": "code",
   "execution_count": 160,
   "metadata": {},
   "outputs": [
    {
     "data": {
      "text/html": [
       "<div>\n",
       "<style>\n",
       "    .dataframe thead tr:only-child th {\n",
       "        text-align: right;\n",
       "    }\n",
       "\n",
       "    .dataframe thead th {\n",
       "        text-align: left;\n",
       "    }\n",
       "\n",
       "    .dataframe tbody tr th {\n",
       "        vertical-align: top;\n",
       "    }\n",
       "</style>\n",
       "<table border=\"1\" class=\"dataframe\">\n",
       "  <thead>\n",
       "    <tr style=\"text-align: right;\">\n",
       "      <th></th>\n",
       "      <th>tweet_id</th>\n",
       "      <th>in_reply_to_status_id_x</th>\n",
       "      <th>in_reply_to_user_id_x</th>\n",
       "      <th>timestamp_x</th>\n",
       "      <th>source</th>\n",
       "      <th>text</th>\n",
       "      <th>expanded_urls</th>\n",
       "      <th>rating_numerator</th>\n",
       "      <th>rating_denominator</th>\n",
       "      <th>name</th>\n",
       "      <th>stage</th>\n",
       "      <th>expanded_url</th>\n",
       "      <th>favorite_count</th>\n",
       "      <th>followers_count</th>\n",
       "      <th>id</th>\n",
       "      <th>in_reply_to_status_id_y</th>\n",
       "      <th>in_reply_to_user_id_y</th>\n",
       "      <th>retweet_count</th>\n",
       "      <th>timestamp_y</th>\n",
       "    </tr>\n",
       "  </thead>\n",
       "  <tbody>\n",
       "    <tr>\n",
       "      <th>403</th>\n",
       "      <td>802265048156610565</td>\n",
       "      <td>7.331095e+17</td>\n",
       "      <td>4.196984e+09</td>\n",
       "      <td>2016-11-25 21:37:47</td>\n",
       "      <td>&lt;a href=\"http://twitter.com/download/iphone\" r...</td>\n",
       "      <td>Like doggo, like pupper version 2. Both 11/10 ...</td>\n",
       "      <td>https://twitter.com/dog_rates/status/802265048...</td>\n",
       "      <td>11.0</td>\n",
       "      <td>10</td>\n",
       "      <td>NaN</td>\n",
       "      <td>doggo,pupper</td>\n",
       "      <td>https://twitter.com/dog_rates/status/802265048...</td>\n",
       "      <td>6950</td>\n",
       "      <td>5698941</td>\n",
       "      <td>802265048156610565</td>\n",
       "      <td>733109485275860992</td>\n",
       "      <td>4196983835</td>\n",
       "      <td>1546</td>\n",
       "      <td>2016-11-25 21:37:47</td>\n",
       "    </tr>\n",
       "  </tbody>\n",
       "</table>\n",
       "</div>"
      ],
      "text/plain": [
       "               tweet_id  in_reply_to_status_id_x  in_reply_to_user_id_x  \\\n",
       "403  802265048156610565             7.331095e+17           4.196984e+09   \n",
       "\n",
       "            timestamp_x                                             source  \\\n",
       "403 2016-11-25 21:37:47  <a href=\"http://twitter.com/download/iphone\" r...   \n",
       "\n",
       "                                                  text  \\\n",
       "403  Like doggo, like pupper version 2. Both 11/10 ...   \n",
       "\n",
       "                                         expanded_urls  rating_numerator  \\\n",
       "403  https://twitter.com/dog_rates/status/802265048...              11.0   \n",
       "\n",
       "     rating_denominator name         stage  \\\n",
       "403                  10  NaN  doggo,pupper   \n",
       "\n",
       "                                          expanded_url  favorite_count  \\\n",
       "403  https://twitter.com/dog_rates/status/802265048...            6950   \n",
       "\n",
       "     followers_count                  id in_reply_to_status_id_y  \\\n",
       "403          5698941  802265048156610565      733109485275860992   \n",
       "\n",
       "    in_reply_to_user_id_y  retweet_count         timestamp_y  \n",
       "403            4196983835           1546 2016-11-25 21:37:47  "
      ]
     },
     "execution_count": 160,
     "metadata": {},
     "output_type": "execute_result"
    }
   ],
   "source": [
    "reply_tweets = tweet_info.loc[tweet_info['in_reply_to_status_id_x'].notnull()]\n",
    "reply_tweets.sample()"
   ]
  },
  {
   "cell_type": "code",
   "execution_count": 161,
   "metadata": {},
   "outputs": [
    {
     "data": {
      "text/plain": [
       "True    1824\n",
       "dtype: int64"
      ]
     },
     "execution_count": 161,
     "metadata": {},
     "output_type": "execute_result"
    }
   ],
   "source": [
    "ids = tweet_info['tweet_id']==tweet_info['id']\n",
    "ids.value_counts()"
   ]
  },
  {
   "cell_type": "code",
   "execution_count": 162,
   "metadata": {},
   "outputs": [
    {
     "data": {
      "text/plain": [
       "True    1824\n",
       "dtype: int64"
      ]
     },
     "execution_count": 162,
     "metadata": {},
     "output_type": "execute_result"
    }
   ],
   "source": [
    "time = tweet_info['timestamp_x']==tweet_info['timestamp_y']\n",
    "time.value_counts()"
   ]
  },
  {
   "cell_type": "code",
   "execution_count": 163,
   "metadata": {},
   "outputs": [
    {
     "data": {
      "text/plain": [
       "True     1329\n",
       "False     495\n",
       "dtype: int64"
      ]
     },
     "execution_count": 163,
     "metadata": {},
     "output_type": "execute_result"
    }
   ],
   "source": [
    "url = tweet_info['expanded_urls']==tweet_info['expanded_url']\n",
    "url.value_counts()"
   ]
  },
  {
   "cell_type": "code",
   "execution_count": 164,
   "metadata": {},
   "outputs": [],
   "source": [
    "#check out non matching expanded urls\n",
    "url_not_match = tweet_info.loc[tweet_info['expanded_urls']!=tweet_info['expanded_url']]"
   ]
  },
  {
   "cell_type": "code",
   "execution_count": 165,
   "metadata": {},
   "outputs": [],
   "source": [
    "url_not_match.to_csv('url_check.csv')"
   ]
  },
  {
   "cell_type": "markdown",
   "metadata": {},
   "source": [
    "Note: the urls from the twitter_archive dataset that don't match the expanded urls from the json dataset are non functional.  The json urls work, so preserve this column."
   ]
  },
  {
   "cell_type": "code",
   "execution_count": 166,
   "metadata": {},
   "outputs": [
    {
     "data": {
      "text/plain": [
       "count      1824.000000\n",
       "mean       9231.356908\n",
       "std       12902.735913\n",
       "min          80.000000\n",
       "25%        2108.250000\n",
       "50%        4370.500000\n",
       "75%       11524.500000\n",
       "max      144159.000000\n",
       "Name: favorite_count, dtype: float64"
      ]
     },
     "execution_count": 166,
     "metadata": {},
     "output_type": "execute_result"
    }
   ],
   "source": [
    "tweet_info['favorite_count'].describe()"
   ]
  },
  {
   "cell_type": "code",
   "execution_count": 167,
   "metadata": {},
   "outputs": [
    {
     "data": {
      "text/plain": [
       "count     1824.000000\n",
       "mean      2816.747259\n",
       "std       4856.407509\n",
       "min         13.000000\n",
       "25%        627.000000\n",
       "50%       1399.000000\n",
       "75%       3236.000000\n",
       "max      78209.000000\n",
       "Name: retweet_count, dtype: float64"
      ]
     },
     "execution_count": 167,
     "metadata": {},
     "output_type": "execute_result"
    }
   ],
   "source": [
    "tweet_info['retweet_count'].describe()"
   ]
  },
  {
   "cell_type": "code",
   "execution_count": 168,
   "metadata": {},
   "outputs": [
    {
     "data": {
      "text/plain": [
       "count    1.824000e+03\n",
       "mean     5.699188e+06\n",
       "std      2.165469e+02\n",
       "min      5.698640e+06\n",
       "25%      5.698944e+06\n",
       "50%      5.699224e+06\n",
       "75%      5.699258e+06\n",
       "max      5.699508e+06\n",
       "Name: followers_count, dtype: float64"
      ]
     },
     "execution_count": 168,
     "metadata": {},
     "output_type": "execute_result"
    }
   ],
   "source": [
    "tweet_info['followers_count'].describe()"
   ]
  },
  {
   "cell_type": "code",
   "execution_count": 169,
   "metadata": {},
   "outputs": [
    {
     "data": {
      "text/plain": [
       "5699227    113\n",
       "5699482     84\n",
       "5699483     72\n",
       "5699257     50\n",
       "5699228     42\n",
       "5699217     40\n",
       "5698948     34\n",
       "5698914     32\n",
       "5698934     32\n",
       "5699210     29\n",
       "5699493     29\n",
       "5699214     28\n",
       "5698923     28\n",
       "5698944     28\n",
       "5699223     27\n",
       "5698900     25\n",
       "5699501     24\n",
       "5699502     24\n",
       "5699230     24\n",
       "5699497     24\n",
       "5699490     24\n",
       "5699250     23\n",
       "5699232     23\n",
       "5698936     22\n",
       "5699208     21\n",
       "5699480     20\n",
       "5698919     20\n",
       "5699499     20\n",
       "5698957     19\n",
       "5699251     19\n",
       "          ... \n",
       "5699212      2\n",
       "5698935      2\n",
       "5698902      1\n",
       "5699494      1\n",
       "5698906      1\n",
       "5699492      1\n",
       "5699500      1\n",
       "5699505      1\n",
       "5698912      1\n",
       "5698901      1\n",
       "5698647      1\n",
       "5698644      1\n",
       "5698953      1\n",
       "5699260      1\n",
       "5699487      1\n",
       "5699474      1\n",
       "5699467      1\n",
       "5699452      1\n",
       "5698924      1\n",
       "5698961      1\n",
       "5699259      1\n",
       "5699246      1\n",
       "5698932      1\n",
       "5698933      1\n",
       "5699241      1\n",
       "5699194      1\n",
       "5699187      1\n",
       "5699185      1\n",
       "5698965      1\n",
       "5698640      1\n",
       "Name: followers_count, Length: 158, dtype: int64"
      ]
     },
     "execution_count": 169,
     "metadata": {},
     "output_type": "execute_result"
    }
   ],
   "source": [
    "tweet_info['followers_count'].value_counts()"
   ]
  },
  {
   "cell_type": "markdown",
   "metadata": {},
   "source": [
    " #### Quality\n",
    " \n",
    " #### Tidyness\n",
    " - expanded_urls and expanded_url are duplicates.\n",
    "     -Note: the urls from the twitter_archive dataset that don't match the expanded urls from the json dataset are non functional.  The json urls work, so preserve this column.\n",
    " - in_reply_to_status_id_x and in_reply_to_user_id_x are floats and in scientific notation. in_reply_to_status_id_y and in_reply_to_user_id_y are string objects.\n",
    " - tweet_id and id are duplicates\n",
    " - timestamp_x and timestamp_y are duplicates.\n",
    " "
   ]
  },
  {
   "cell_type": "markdown",
   "metadata": {},
   "source": [
    "## Clean tweet_info\n",
    "\n",
    "#### Define\n",
    "- delete duplicate columns.  \n",
    "    -columns to delete:\n",
    "        - expanded_urls\n",
    "        - id\n",
    "        - timestamp_x\n",
    "\n",
    "#### Code"
   ]
  },
  {
   "cell_type": "code",
   "execution_count": 170,
   "metadata": {},
   "outputs": [
    {
     "name": "stdout",
     "output_type": "stream",
     "text": [
      "<class 'pandas.core.frame.DataFrame'>\n",
      "Int64Index: 1824 entries, 0 to 1823\n",
      "Data columns (total 19 columns):\n",
      "tweet_id                   1824 non-null int64\n",
      "in_reply_to_status_id_x    20 non-null float64\n",
      "in_reply_to_user_id_x      20 non-null float64\n",
      "timestamp_x                1824 non-null datetime64[ns]\n",
      "source                     1824 non-null object\n",
      "text                       1824 non-null object\n",
      "expanded_urls              1824 non-null object\n",
      "rating_numerator           1824 non-null float64\n",
      "rating_denominator         1824 non-null int64\n",
      "name                       1326 non-null object\n",
      "stage                      282 non-null object\n",
      "expanded_url               1824 non-null object\n",
      "favorite_count             1824 non-null int64\n",
      "followers_count            1824 non-null int64\n",
      "id                         1824 non-null int64\n",
      "in_reply_to_status_id_y    20 non-null object\n",
      "in_reply_to_user_id_y      20 non-null object\n",
      "retweet_count              1824 non-null int64\n",
      "timestamp_y                1824 non-null datetime64[ns]\n",
      "dtypes: datetime64[ns](2), float64(3), int64(6), object(8)\n",
      "memory usage: 285.0+ KB\n"
     ]
    }
   ],
   "source": [
    "tweet_info_clean = tweet_info.copy()\n",
    "tweet_info.info()"
   ]
  },
  {
   "cell_type": "code",
   "execution_count": 171,
   "metadata": {},
   "outputs": [],
   "source": [
    "tweet_info_clean = tweet_info_clean.drop(['timestamp_x', 'expanded_urls','id'],axis = 1)"
   ]
  },
  {
   "cell_type": "markdown",
   "metadata": {},
   "source": [
    "#### test\n",
    "duplicate columns should be gone"
   ]
  },
  {
   "cell_type": "code",
   "execution_count": 172,
   "metadata": {},
   "outputs": [
    {
     "name": "stdout",
     "output_type": "stream",
     "text": [
      "<class 'pandas.core.frame.DataFrame'>\n",
      "Int64Index: 1824 entries, 0 to 1823\n",
      "Data columns (total 16 columns):\n",
      "tweet_id                   1824 non-null int64\n",
      "in_reply_to_status_id_x    20 non-null float64\n",
      "in_reply_to_user_id_x      20 non-null float64\n",
      "source                     1824 non-null object\n",
      "text                       1824 non-null object\n",
      "rating_numerator           1824 non-null float64\n",
      "rating_denominator         1824 non-null int64\n",
      "name                       1326 non-null object\n",
      "stage                      282 non-null object\n",
      "expanded_url               1824 non-null object\n",
      "favorite_count             1824 non-null int64\n",
      "followers_count            1824 non-null int64\n",
      "in_reply_to_status_id_y    20 non-null object\n",
      "in_reply_to_user_id_y      20 non-null object\n",
      "retweet_count              1824 non-null int64\n",
      "timestamp_y                1824 non-null datetime64[ns]\n",
      "dtypes: datetime64[ns](1), float64(3), int64(5), object(7)\n",
      "memory usage: 242.2+ KB\n"
     ]
    }
   ],
   "source": [
    "tweet_info_clean.info()"
   ]
  },
  {
   "cell_type": "markdown",
   "metadata": {},
   "source": [
    "#### Define\n",
    "- delete in_reply_to_status_id_x and in_reply_to_status_id_y since they are in the wrong format."
   ]
  },
  {
   "cell_type": "code",
   "execution_count": 173,
   "metadata": {},
   "outputs": [],
   "source": [
    "tweet_info_clean = tweet_info_clean.drop(['in_reply_to_status_id_x', 'in_reply_to_user_id_x'], axis = 1)"
   ]
  },
  {
   "cell_type": "markdown",
   "metadata": {},
   "source": [
    "#### Test\n",
    "there should be 14 columns"
   ]
  },
  {
   "cell_type": "code",
   "execution_count": 174,
   "metadata": {},
   "outputs": [
    {
     "name": "stdout",
     "output_type": "stream",
     "text": [
      "<class 'pandas.core.frame.DataFrame'>\n",
      "Int64Index: 1824 entries, 0 to 1823\n",
      "Data columns (total 14 columns):\n",
      "tweet_id                   1824 non-null int64\n",
      "source                     1824 non-null object\n",
      "text                       1824 non-null object\n",
      "rating_numerator           1824 non-null float64\n",
      "rating_denominator         1824 non-null int64\n",
      "name                       1326 non-null object\n",
      "stage                      282 non-null object\n",
      "expanded_url               1824 non-null object\n",
      "favorite_count             1824 non-null int64\n",
      "followers_count            1824 non-null int64\n",
      "in_reply_to_status_id_y    20 non-null object\n",
      "in_reply_to_user_id_y      20 non-null object\n",
      "retweet_count              1824 non-null int64\n",
      "timestamp_y                1824 non-null datetime64[ns]\n",
      "dtypes: datetime64[ns](1), float64(1), int64(5), object(7)\n",
      "memory usage: 213.8+ KB\n"
     ]
    }
   ],
   "source": [
    "tweet_info_clean.info()"
   ]
  },
  {
   "cell_type": "markdown",
   "metadata": {},
   "source": [
    "#### Define\n",
    "- merge tweet_info (left) with tweet_image_clean (right) to make twitter_archive_master\n",
    "- assess and clean twitter_archive_master"
   ]
  },
  {
   "cell_type": "code",
   "execution_count": 175,
   "metadata": {},
   "outputs": [],
   "source": [
    "twitter_archive_master = tweet_info_clean.merge(tweet_image_clean, how='inner', on='tweet_id')"
   ]
  },
  {
   "cell_type": "markdown",
   "metadata": {},
   "source": [
    "### Assess twitter_archive_master"
   ]
  },
  {
   "cell_type": "code",
   "execution_count": 176,
   "metadata": {},
   "outputs": [
    {
     "name": "stdout",
     "output_type": "stream",
     "text": [
      "<class 'pandas.core.frame.DataFrame'>\n",
      "Int64Index: 1824 entries, 0 to 1823\n",
      "Data columns (total 26 columns):\n",
      "tweet_id                   1824 non-null int64\n",
      "source                     1824 non-null object\n",
      "text                       1824 non-null object\n",
      "rating_numerator           1824 non-null float64\n",
      "rating_denominator         1824 non-null int64\n",
      "name                       1326 non-null object\n",
      "stage                      282 non-null object\n",
      "expanded_url               1824 non-null object\n",
      "favorite_count             1824 non-null int64\n",
      "followers_count            1824 non-null int64\n",
      "in_reply_to_status_id_y    20 non-null object\n",
      "in_reply_to_user_id_y      20 non-null object\n",
      "retweet_count              1824 non-null int64\n",
      "timestamp_y                1824 non-null datetime64[ns]\n",
      "jpg_url                    1824 non-null object\n",
      "img_num                    1824 non-null int64\n",
      "p1                         1824 non-null object\n",
      "p1_conf                    1824 non-null float64\n",
      "p1_dog                     1824 non-null bool\n",
      "p2                         1824 non-null object\n",
      "p2_conf                    1824 non-null float64\n",
      "p2_dog                     1824 non-null bool\n",
      "p3                         1824 non-null object\n",
      "p3_conf                    1824 non-null float64\n",
      "p3_dog                     1824 non-null bool\n",
      "is_dog                     1824 non-null bool\n",
      "dtypes: bool(4), datetime64[ns](1), float64(4), int64(6), object(11)\n",
      "memory usage: 334.9+ KB\n"
     ]
    }
   ],
   "source": [
    "twitter_archive_master.info()"
   ]
  },
  {
   "cell_type": "markdown",
   "metadata": {},
   "source": [
    "#### tidyness\n",
    "- remove _y from in_reply_to_status_id, in_reply_to_user_id, timestamp columns\n",
    "- delete is_dog column.  We know they are all dogs from previous cleaning.\n",
    "\n",
    "# Clean twitter_master_archive\n",
    "\n",
    "#### Define\n",
    " - rename columns in_reply_to_status_id_, in_reply_to_user_id_y, and timestamp_y to remove the '_y'"
   ]
  },
  {
   "cell_type": "code",
   "execution_count": 177,
   "metadata": {},
   "outputs": [],
   "source": [
    "twitter_archive_master = twitter_archive_master.rename(index=str, columns={\"in_reply_to_status_id_y\": \"in_reply_to_status_id\",\n",
    "                                                  \"in_reply_to_user_id_y\": \"in_reply_to_user_id\",\n",
    "                                                 'timestamp_y':'timestamp'})"
   ]
  },
  {
   "cell_type": "markdown",
   "metadata": {},
   "source": [
    "#### Test\n",
    "- there should be no '_y' in the column names"
   ]
  },
  {
   "cell_type": "code",
   "execution_count": 178,
   "metadata": {},
   "outputs": [
    {
     "name": "stdout",
     "output_type": "stream",
     "text": [
      "<class 'pandas.core.frame.DataFrame'>\n",
      "Index: 1824 entries, 0 to 1823\n",
      "Data columns (total 26 columns):\n",
      "tweet_id                 1824 non-null int64\n",
      "source                   1824 non-null object\n",
      "text                     1824 non-null object\n",
      "rating_numerator         1824 non-null float64\n",
      "rating_denominator       1824 non-null int64\n",
      "name                     1326 non-null object\n",
      "stage                    282 non-null object\n",
      "expanded_url             1824 non-null object\n",
      "favorite_count           1824 non-null int64\n",
      "followers_count          1824 non-null int64\n",
      "in_reply_to_status_id    20 non-null object\n",
      "in_reply_to_user_id      20 non-null object\n",
      "retweet_count            1824 non-null int64\n",
      "timestamp                1824 non-null datetime64[ns]\n",
      "jpg_url                  1824 non-null object\n",
      "img_num                  1824 non-null int64\n",
      "p1                       1824 non-null object\n",
      "p1_conf                  1824 non-null float64\n",
      "p1_dog                   1824 non-null bool\n",
      "p2                       1824 non-null object\n",
      "p2_conf                  1824 non-null float64\n",
      "p2_dog                   1824 non-null bool\n",
      "p3                       1824 non-null object\n",
      "p3_conf                  1824 non-null float64\n",
      "p3_dog                   1824 non-null bool\n",
      "is_dog                   1824 non-null bool\n",
      "dtypes: bool(4), datetime64[ns](1), float64(4), int64(6), object(11)\n",
      "memory usage: 334.9+ KB\n"
     ]
    }
   ],
   "source": [
    "twitter_archive_master.info()"
   ]
  },
  {
   "cell_type": "markdown",
   "metadata": {},
   "source": [
    "#### Define\n",
    "- drop is_dog column.\n",
    "\n",
    "#### Code"
   ]
  },
  {
   "cell_type": "code",
   "execution_count": 179,
   "metadata": {},
   "outputs": [],
   "source": [
    "twitter_archive_master = twitter_archive_master.drop('is_dog', axis = 1)"
   ]
  },
  {
   "cell_type": "markdown",
   "metadata": {},
   "source": [
    "#### Test\n",
    "- should only have 25 columns"
   ]
  },
  {
   "cell_type": "code",
   "execution_count": 180,
   "metadata": {},
   "outputs": [
    {
     "name": "stdout",
     "output_type": "stream",
     "text": [
      "<class 'pandas.core.frame.DataFrame'>\n",
      "Index: 1824 entries, 0 to 1823\n",
      "Data columns (total 25 columns):\n",
      "tweet_id                 1824 non-null int64\n",
      "source                   1824 non-null object\n",
      "text                     1824 non-null object\n",
      "rating_numerator         1824 non-null float64\n",
      "rating_denominator       1824 non-null int64\n",
      "name                     1326 non-null object\n",
      "stage                    282 non-null object\n",
      "expanded_url             1824 non-null object\n",
      "favorite_count           1824 non-null int64\n",
      "followers_count          1824 non-null int64\n",
      "in_reply_to_status_id    20 non-null object\n",
      "in_reply_to_user_id      20 non-null object\n",
      "retweet_count            1824 non-null int64\n",
      "timestamp                1824 non-null datetime64[ns]\n",
      "jpg_url                  1824 non-null object\n",
      "img_num                  1824 non-null int64\n",
      "p1                       1824 non-null object\n",
      "p1_conf                  1824 non-null float64\n",
      "p1_dog                   1824 non-null bool\n",
      "p2                       1824 non-null object\n",
      "p2_conf                  1824 non-null float64\n",
      "p2_dog                   1824 non-null bool\n",
      "p3                       1824 non-null object\n",
      "p3_conf                  1824 non-null float64\n",
      "p3_dog                   1824 non-null bool\n",
      "dtypes: bool(3), datetime64[ns](1), float64(4), int64(6), object(11)\n",
      "memory usage: 333.1+ KB\n"
     ]
    }
   ],
   "source": [
    "twitter_archive_master.info()"
   ]
  },
  {
   "cell_type": "markdown",
   "metadata": {},
   "source": [
    "# Store Data"
   ]
  },
  {
   "cell_type": "code",
   "execution_count": 181,
   "metadata": {},
   "outputs": [],
   "source": [
    "twitter_archive_master.to_csv('twitter_archive_master.csv', sep = ',')"
   ]
  },
  {
   "cell_type": "markdown",
   "metadata": {},
   "source": [
    "# Analyze Data\n",
    "Provide at least 3 insights and 1 visualization"
   ]
  },
  {
   "cell_type": "code",
   "execution_count": 182,
   "metadata": {},
   "outputs": [],
   "source": [
    "import pandas as pd\n",
    "import numpy as np\n",
    "import datetime"
   ]
  },
  {
   "cell_type": "code",
   "execution_count": 183,
   "metadata": {},
   "outputs": [],
   "source": [
    "tweet_data = pd.read_csv('twitter_archive_master.csv')"
   ]
  },
  {
   "cell_type": "code",
   "execution_count": 184,
   "metadata": {},
   "outputs": [
    {
     "name": "stdout",
     "output_type": "stream",
     "text": [
      "<class 'pandas.core.frame.DataFrame'>\n",
      "RangeIndex: 1824 entries, 0 to 1823\n",
      "Data columns (total 26 columns):\n",
      "Unnamed: 0               1824 non-null int64\n",
      "tweet_id                 1824 non-null int64\n",
      "source                   1824 non-null object\n",
      "text                     1824 non-null object\n",
      "rating_numerator         1824 non-null float64\n",
      "rating_denominator       1824 non-null int64\n",
      "name                     1326 non-null object\n",
      "stage                    282 non-null object\n",
      "expanded_url             1824 non-null object\n",
      "favorite_count           1824 non-null int64\n",
      "followers_count          1824 non-null int64\n",
      "in_reply_to_status_id    20 non-null float64\n",
      "in_reply_to_user_id      20 non-null float64\n",
      "retweet_count            1824 non-null int64\n",
      "timestamp                1824 non-null object\n",
      "jpg_url                  1824 non-null object\n",
      "img_num                  1824 non-null int64\n",
      "p1                       1824 non-null object\n",
      "p1_conf                  1824 non-null float64\n",
      "p1_dog                   1824 non-null bool\n",
      "p2                       1824 non-null object\n",
      "p2_conf                  1824 non-null float64\n",
      "p2_dog                   1824 non-null bool\n",
      "p3                       1824 non-null object\n",
      "p3_conf                  1824 non-null float64\n",
      "p3_dog                   1824 non-null bool\n",
      "dtypes: bool(3), float64(6), int64(7), object(10)\n",
      "memory usage: 333.2+ KB\n"
     ]
    }
   ],
   "source": [
    "tweet_data.info()"
   ]
  },
  {
   "cell_type": "code",
   "execution_count": 185,
   "metadata": {},
   "outputs": [
    {
     "data": {
      "text/html": [
       "<div>\n",
       "<style>\n",
       "    .dataframe thead tr:only-child th {\n",
       "        text-align: right;\n",
       "    }\n",
       "\n",
       "    .dataframe thead th {\n",
       "        text-align: left;\n",
       "    }\n",
       "\n",
       "    .dataframe tbody tr th {\n",
       "        vertical-align: top;\n",
       "    }\n",
       "</style>\n",
       "<table border=\"1\" class=\"dataframe\">\n",
       "  <thead>\n",
       "    <tr style=\"text-align: right;\">\n",
       "      <th></th>\n",
       "      <th>Unnamed: 0</th>\n",
       "      <th>tweet_id</th>\n",
       "      <th>source</th>\n",
       "      <th>text</th>\n",
       "      <th>rating_numerator</th>\n",
       "      <th>rating_denominator</th>\n",
       "      <th>name</th>\n",
       "      <th>stage</th>\n",
       "      <th>expanded_url</th>\n",
       "      <th>favorite_count</th>\n",
       "      <th>...</th>\n",
       "      <th>img_num</th>\n",
       "      <th>p1</th>\n",
       "      <th>p1_conf</th>\n",
       "      <th>p1_dog</th>\n",
       "      <th>p2</th>\n",
       "      <th>p2_conf</th>\n",
       "      <th>p2_dog</th>\n",
       "      <th>p3</th>\n",
       "      <th>p3_conf</th>\n",
       "      <th>p3_dog</th>\n",
       "    </tr>\n",
       "  </thead>\n",
       "  <tbody>\n",
       "    <tr>\n",
       "      <th>1400</th>\n",
       "      <td>1400</td>\n",
       "      <td>676219687039057920</td>\n",
       "      <td>&lt;a href=\"http://twitter.com/download/iphone\" r...</td>\n",
       "      <td>This is Kenneth. He's stuck in a bubble. 10/10...</td>\n",
       "      <td>10.0</td>\n",
       "      <td>10</td>\n",
       "      <td>Kenneth</td>\n",
       "      <td>NaN</td>\n",
       "      <td>https://twitter.com/dog_rates/status/676219687...</td>\n",
       "      <td>79136</td>\n",
       "      <td>...</td>\n",
       "      <td>1</td>\n",
       "      <td>bubble</td>\n",
       "      <td>0.997556</td>\n",
       "      <td>False</td>\n",
       "      <td>leafhopper</td>\n",
       "      <td>0.000159</td>\n",
       "      <td>False</td>\n",
       "      <td>whippet</td>\n",
       "      <td>0.000132</td>\n",
       "      <td>True</td>\n",
       "    </tr>\n",
       "  </tbody>\n",
       "</table>\n",
       "<p>1 rows × 26 columns</p>\n",
       "</div>"
      ],
      "text/plain": [
       "      Unnamed: 0            tweet_id  \\\n",
       "1400        1400  676219687039057920   \n",
       "\n",
       "                                                 source  \\\n",
       "1400  <a href=\"http://twitter.com/download/iphone\" r...   \n",
       "\n",
       "                                                   text  rating_numerator  \\\n",
       "1400  This is Kenneth. He's stuck in a bubble. 10/10...              10.0   \n",
       "\n",
       "      rating_denominator     name stage  \\\n",
       "1400                  10  Kenneth   NaN   \n",
       "\n",
       "                                           expanded_url  favorite_count  \\\n",
       "1400  https://twitter.com/dog_rates/status/676219687...           79136   \n",
       "\n",
       "       ...    img_num      p1   p1_conf  p1_dog          p2   p2_conf  p2_dog  \\\n",
       "1400   ...          1  bubble  0.997556   False  leafhopper  0.000159   False   \n",
       "\n",
       "           p3   p3_conf  p3_dog  \n",
       "1400  whippet  0.000132    True  \n",
       "\n",
       "[1 rows x 26 columns]"
      ]
     },
     "execution_count": 185,
     "metadata": {},
     "output_type": "execute_result"
    }
   ],
   "source": [
    "tweet_data.sample()"
   ]
  },
  {
   "cell_type": "code",
   "execution_count": 186,
   "metadata": {},
   "outputs": [],
   "source": [
    "#need to convert timestamp_y to datetime\n",
    "tweet_data['timestamp']=pd.to_datetime(tweet_data['timestamp'], format='%Y-%m-%d %H:%M:%S')"
   ]
  },
  {
   "cell_type": "code",
   "execution_count": 187,
   "metadata": {},
   "outputs": [
    {
     "name": "stdout",
     "output_type": "stream",
     "text": [
      "<class 'pandas.core.frame.DataFrame'>\n",
      "RangeIndex: 1824 entries, 0 to 1823\n",
      "Data columns (total 26 columns):\n",
      "Unnamed: 0               1824 non-null int64\n",
      "tweet_id                 1824 non-null int64\n",
      "source                   1824 non-null object\n",
      "text                     1824 non-null object\n",
      "rating_numerator         1824 non-null float64\n",
      "rating_denominator       1824 non-null int64\n",
      "name                     1326 non-null object\n",
      "stage                    282 non-null object\n",
      "expanded_url             1824 non-null object\n",
      "favorite_count           1824 non-null int64\n",
      "followers_count          1824 non-null int64\n",
      "in_reply_to_status_id    20 non-null float64\n",
      "in_reply_to_user_id      20 non-null float64\n",
      "retweet_count            1824 non-null int64\n",
      "timestamp                1824 non-null datetime64[ns]\n",
      "jpg_url                  1824 non-null object\n",
      "img_num                  1824 non-null int64\n",
      "p1                       1824 non-null object\n",
      "p1_conf                  1824 non-null float64\n",
      "p1_dog                   1824 non-null bool\n",
      "p2                       1824 non-null object\n",
      "p2_conf                  1824 non-null float64\n",
      "p2_dog                   1824 non-null bool\n",
      "p3                       1824 non-null object\n",
      "p3_conf                  1824 non-null float64\n",
      "p3_dog                   1824 non-null bool\n",
      "dtypes: bool(3), datetime64[ns](1), float64(6), int64(7), object(9)\n",
      "memory usage: 333.2+ KB\n"
     ]
    }
   ],
   "source": [
    "tweet_data.info()"
   ]
  },
  {
   "cell_type": "code",
   "execution_count": 188,
   "metadata": {},
   "outputs": [
    {
     "data": {
      "text/plain": [
       "count    1824.000000\n",
       "mean       11.849386\n",
       "std        41.366137\n",
       "min         0.000000\n",
       "25%        10.000000\n",
       "50%        11.000000\n",
       "75%        12.000000\n",
       "max      1776.000000\n",
       "Name: rating_numerator, dtype: float64"
      ]
     },
     "execution_count": 188,
     "metadata": {},
     "output_type": "execute_result"
    }
   ],
   "source": [
    "tweet_data['rating_numerator'].describe()"
   ]
  },
  {
   "cell_type": "code",
   "execution_count": 189,
   "metadata": {},
   "outputs": [
    {
     "data": {
      "text/plain": [
       "12.00      449\n",
       "10.00      402\n",
       "11.00      392\n",
       "13.00      256\n",
       "9.00       142\n",
       "8.00        75\n",
       "14.00       33\n",
       "7.00        32\n",
       "6.00        11\n",
       "5.00        10\n",
       "4.00         6\n",
       "3.00         5\n",
       "7.50         2\n",
       "11.27        1\n",
       "9.75         1\n",
       "2.00         1\n",
       "0.00         1\n",
       "1.00         1\n",
       "13.50        1\n",
       "6.50         1\n",
       "11.26        1\n",
       "1776.00      1\n",
       "Name: rating_numerator, dtype: int64"
      ]
     },
     "execution_count": 189,
     "metadata": {},
     "output_type": "execute_result"
    }
   ],
   "source": [
    "tweet_data['rating_numerator'].value_counts()"
   ]
  },
  {
   "cell_type": "code",
   "execution_count": 190,
   "metadata": {},
   "outputs": [],
   "source": [
    "import matplotlib.pyplot as plt"
   ]
  },
  {
   "cell_type": "code",
   "execution_count": 191,
   "metadata": {},
   "outputs": [
    {
     "data": {
      "image/png": "[encoded data removed]",
      "text/plain": [
       "<matplotlib.figure.Figure at 0x7f868998e400>"
      ]
     },
     "metadata": {},
     "output_type": "display_data"
    }
   ],
   "source": [
    "_=plt.hist(tweet_data['rating_numerator'], bins = 10)\n",
    "_ = plt.xlabel('rating (out of ten)')\n",
    "plt.show()"
   ]
  },
  {
   "cell_type": "code",
   "execution_count": 192,
   "metadata": {},
   "outputs": [
    {
     "name": "stdout",
     "output_type": "stream",
     "text": [
      "7.0 15.0\n"
     ]
    }
   ],
   "source": [
    "rating_IQR = 12-10\n",
    "low = 10 -1.5*rating_IQR\n",
    "high = 12+1.5*rating_IQR\n",
    "print(low, high)"
   ]
  },
  {
   "cell_type": "code",
   "execution_count": 193,
   "metadata": {},
   "outputs": [
    {
     "data": {
      "text/html": [
       "<div>\n",
       "<style>\n",
       "    .dataframe thead tr:only-child th {\n",
       "        text-align: right;\n",
       "    }\n",
       "\n",
       "    .dataframe thead th {\n",
       "        text-align: left;\n",
       "    }\n",
       "\n",
       "    .dataframe tbody tr th {\n",
       "        vertical-align: top;\n",
       "    }\n",
       "</style>\n",
       "<table border=\"1\" class=\"dataframe\">\n",
       "  <thead>\n",
       "    <tr style=\"text-align: right;\">\n",
       "      <th></th>\n",
       "      <th>Unnamed: 0</th>\n",
       "      <th>tweet_id</th>\n",
       "      <th>source</th>\n",
       "      <th>text</th>\n",
       "      <th>rating_numerator</th>\n",
       "      <th>rating_denominator</th>\n",
       "      <th>name</th>\n",
       "      <th>stage</th>\n",
       "      <th>expanded_url</th>\n",
       "      <th>favorite_count</th>\n",
       "      <th>...</th>\n",
       "      <th>img_num</th>\n",
       "      <th>p1</th>\n",
       "      <th>p1_conf</th>\n",
       "      <th>p1_dog</th>\n",
       "      <th>p2</th>\n",
       "      <th>p2_conf</th>\n",
       "      <th>p2_dog</th>\n",
       "      <th>p3</th>\n",
       "      <th>p3_conf</th>\n",
       "      <th>p3_dog</th>\n",
       "    </tr>\n",
       "  </thead>\n",
       "  <tbody>\n",
       "    <tr>\n",
       "      <th>703</th>\n",
       "      <td>703</td>\n",
       "      <td>749981277374128128</td>\n",
       "      <td>&lt;a href=\"https://about.twitter.com/products/tw...</td>\n",
       "      <td>This is Atticus. He's quite simply America af....</td>\n",
       "      <td>1776.0</td>\n",
       "      <td>10</td>\n",
       "      <td>Atticus</td>\n",
       "      <td>NaN</td>\n",
       "      <td>https://twitter.com/dog_rates/status/749981277...</td>\n",
       "      <td>5550</td>\n",
       "      <td>...</td>\n",
       "      <td>1</td>\n",
       "      <td>bow_tie</td>\n",
       "      <td>0.533941</td>\n",
       "      <td>False</td>\n",
       "      <td>sunglasses</td>\n",
       "      <td>0.080822</td>\n",
       "      <td>False</td>\n",
       "      <td>sunglass</td>\n",
       "      <td>0.050776</td>\n",
       "      <td>False</td>\n",
       "    </tr>\n",
       "  </tbody>\n",
       "</table>\n",
       "<p>1 rows × 26 columns</p>\n",
       "</div>"
      ],
      "text/plain": [
       "     Unnamed: 0            tweet_id  \\\n",
       "703         703  749981277374128128   \n",
       "\n",
       "                                                source  \\\n",
       "703  <a href=\"https://about.twitter.com/products/tw...   \n",
       "\n",
       "                                                  text  rating_numerator  \\\n",
       "703  This is Atticus. He's quite simply America af....            1776.0   \n",
       "\n",
       "     rating_denominator     name stage  \\\n",
       "703                  10  Atticus   NaN   \n",
       "\n",
       "                                          expanded_url  favorite_count  \\\n",
       "703  https://twitter.com/dog_rates/status/749981277...            5550   \n",
       "\n",
       "      ...    img_num       p1   p1_conf  p1_dog          p2   p2_conf  p2_dog  \\\n",
       "703   ...          1  bow_tie  0.533941   False  sunglasses  0.080822   False   \n",
       "\n",
       "           p3   p3_conf  p3_dog  \n",
       "703  sunglass  0.050776   False  \n",
       "\n",
       "[1 rows x 26 columns]"
      ]
     },
     "execution_count": 193,
     "metadata": {},
     "output_type": "execute_result"
    }
   ],
   "source": [
    "tweet_data.loc[tweet_data['rating_numerator']==1776]"
   ]
  },
  {
   "cell_type": "markdown",
   "metadata": {},
   "source": [
    "The rating of 1776 is really messing up the data.  It definately qualifies as an outlier and upon inspection of the tweet(pic is below), the rating was done in theme, so we can remove it from our analysis.\n",
    "<img src=\"files/patpuppy.jpg\">\n"
   ]
  },
  {
   "cell_type": "code",
   "execution_count": 194,
   "metadata": {},
   "outputs": [
    {
     "data": {
      "text/plain": [
       "count    1823.000000\n",
       "mean       10.881668\n",
       "std         1.738247\n",
       "min         0.000000\n",
       "25%        10.000000\n",
       "50%        11.000000\n",
       "75%        12.000000\n",
       "max        14.000000\n",
       "Name: rating_numerator, dtype: float64"
      ]
     },
     "execution_count": 194,
     "metadata": {},
     "output_type": "execute_result"
    }
   ],
   "source": [
    "no_outliers_ratings = tweet_data.loc[tweet_data['rating_numerator']!=1776]\n",
    "no_outliers_ratings['rating_numerator'].describe()"
   ]
  },
  {
   "cell_type": "code",
   "execution_count": 195,
   "metadata": {},
   "outputs": [
    {
     "data": {
      "image/png": "[encoded data removed]",
      "text/plain": [
       "<matplotlib.figure.Figure at 0x7f86899a5b70>"
      ]
     },
     "metadata": {},
     "output_type": "display_data"
    }
   ],
   "source": [
    "_=plt.hist(no_outliers_ratings['rating_numerator'], bins = 15)\n",
    "_ = plt.xlabel('rating (out of ten)')\n",
    "plt.show()"
   ]
  },
  {
   "cell_type": "markdown",
   "metadata": {},
   "source": [
    "skewed, so median is best average.  the average rating is 11/10"
   ]
  },
  {
   "cell_type": "code",
   "execution_count": 196,
   "metadata": {},
   "outputs": [
    {
     "data": {
      "text/plain": [
       "count      1824.000000\n",
       "mean       9231.356908\n",
       "std       12902.735913\n",
       "min          80.000000\n",
       "25%        2108.250000\n",
       "50%        4370.500000\n",
       "75%       11524.500000\n",
       "max      144159.000000\n",
       "Name: favorite_count, dtype: float64"
      ]
     },
     "execution_count": 196,
     "metadata": {},
     "output_type": "execute_result"
    }
   ],
   "source": [
    "tweet_data['favorite_count'].describe()"
   ]
  },
  {
   "cell_type": "code",
   "execution_count": 197,
   "metadata": {},
   "outputs": [
    {
     "data": {
      "image/png": "[encoded data removed]",
      "text/plain": [
       "<matplotlib.figure.Figure at 0x7f8687850198>"
      ]
     },
     "metadata": {},
     "output_type": "display_data"
    }
   ],
   "source": [
    "_=plt.hist(tweet_data['favorite_count'], bins = 100)\n",
    "_ = plt.xlabel('number of likes')\n",
    "plt.show()"
   ]
  },
  {
   "cell_type": "markdown",
   "metadata": {},
   "source": [
    "Favorites are heavily skewed to the right so the median value of 4370 likes is the best average number of likes"
   ]
  },
  {
   "cell_type": "code",
   "execution_count": 198,
   "metadata": {},
   "outputs": [
    {
     "data": {
      "text/plain": [
       "count     1824.000000\n",
       "mean      2816.747259\n",
       "std       4856.407509\n",
       "min         13.000000\n",
       "25%        627.000000\n",
       "50%       1399.000000\n",
       "75%       3236.000000\n",
       "max      78209.000000\n",
       "Name: retweet_count, dtype: float64"
      ]
     },
     "execution_count": 198,
     "metadata": {},
     "output_type": "execute_result"
    }
   ],
   "source": [
    "tweet_data['retweet_count'].describe()"
   ]
  },
  {
   "cell_type": "code",
   "execution_count": 199,
   "metadata": {},
   "outputs": [
    {
     "data": {
      "image/png": "[encoded data removed]",
      "text/plain": [
       "<matplotlib.figure.Figure at 0x7f86878405f8>"
      ]
     },
     "metadata": {},
     "output_type": "display_data"
    }
   ],
   "source": [
    "_=plt.hist(tweet_data['retweet_count'], bins = 100)\n",
    "_ = plt.xlabel('number of retweets')\n",
    "plt.show()"
   ]
  },
  {
   "cell_type": "markdown",
   "metadata": {},
   "source": [
    "Number of retweets is heavily skewed to the left, so the median value of 1399 is the best average."
   ]
  },
  {
   "cell_type": "code",
   "execution_count": 200,
   "metadata": {},
   "outputs": [
    {
     "data": {
      "text/plain": [
       "count    1.824000e+03\n",
       "mean     5.699188e+06\n",
       "std      2.165469e+02\n",
       "min      5.698640e+06\n",
       "25%      5.698944e+06\n",
       "50%      5.699224e+06\n",
       "75%      5.699258e+06\n",
       "max      5.699508e+06\n",
       "Name: followers_count, dtype: float64"
      ]
     },
     "execution_count": 200,
     "metadata": {},
     "output_type": "execute_result"
    }
   ],
   "source": [
    "tweet_data['followers_count'].describe()"
   ]
  },
  {
   "cell_type": "code",
   "execution_count": 201,
   "metadata": {},
   "outputs": [
    {
     "data": {
      "image/png": "[encoded data removed]",
      "text/plain": [
       "<matplotlib.figure.Figure at 0x7f8687694ba8>"
      ]
     },
     "metadata": {},
     "output_type": "display_data"
    }
   ],
   "source": [
    "_=plt.hist(tweet_data['followers_count'], bins = 10)\n",
    "_ = plt.xlabel('number of followers')\n",
    "plt.show()"
   ]
  },
  {
   "cell_type": "code",
   "execution_count": 202,
   "metadata": {},
   "outputs": [
    {
     "name": "stdout",
     "output_type": "stream",
     "text": [
      "<class 'pandas.core.frame.DataFrame'>\n",
      "RangeIndex: 1824 entries, 0 to 1823\n",
      "Data columns (total 26 columns):\n",
      "Unnamed: 0               1824 non-null int64\n",
      "tweet_id                 1824 non-null int64\n",
      "source                   1824 non-null object\n",
      "text                     1824 non-null object\n",
      "rating_numerator         1824 non-null float64\n",
      "rating_denominator       1824 non-null int64\n",
      "name                     1326 non-null object\n",
      "stage                    282 non-null object\n",
      "expanded_url             1824 non-null object\n",
      "favorite_count           1824 non-null int64\n",
      "followers_count          1824 non-null int64\n",
      "in_reply_to_status_id    20 non-null float64\n",
      "in_reply_to_user_id      20 non-null float64\n",
      "retweet_count            1824 non-null int64\n",
      "timestamp                1824 non-null datetime64[ns]\n",
      "jpg_url                  1824 non-null object\n",
      "img_num                  1824 non-null int64\n",
      "p1                       1824 non-null object\n",
      "p1_conf                  1824 non-null float64\n",
      "p1_dog                   1824 non-null bool\n",
      "p2                       1824 non-null object\n",
      "p2_conf                  1824 non-null float64\n",
      "p2_dog                   1824 non-null bool\n",
      "p3                       1824 non-null object\n",
      "p3_conf                  1824 non-null float64\n",
      "p3_dog                   1824 non-null bool\n",
      "dtypes: bool(3), datetime64[ns](1), float64(6), int64(7), object(9)\n",
      "memory usage: 333.2+ KB\n"
     ]
    }
   ],
   "source": [
    "tweet_data.info()"
   ]
  },
  {
   "cell_type": "code",
   "execution_count": 203,
   "metadata": {},
   "outputs": [
    {
     "data": {
      "image/png": "[encoded data removed]",
      "text/plain": [
       "<matplotlib.figure.Figure at 0x7f8687836f98>"
      ]
     },
     "metadata": {},
     "output_type": "display_data"
    }
   ],
   "source": [
    "plt.plot_date(tweet_data['timestamp'],tweet_data['followers_count'], alpha = 0.05)\n",
    "plt.xlabel('date')\n",
    "plt.show()"
   ]
  },
  {
   "cell_type": "code",
   "execution_count": 204,
   "metadata": {},
   "outputs": [],
   "source": [
    "import datetime\n",
    "import numpy as np\n",
    "import matplotlib.pyplot as plt\n",
    "import matplotlib.dates as mdates\n",
    "import matplotlib.cbook as cbook"
   ]
  },
  {
   "cell_type": "code",
   "execution_count": 205,
   "metadata": {},
   "outputs": [],
   "source": [
    "years = mdates.YearLocator()   # every year\n",
    "months = mdates.MonthLocator()  # every month\n",
    "yearsFmt = mdates.DateFormatter('%Y')"
   ]
  },
  {
   "cell_type": "code",
   "execution_count": 206,
   "metadata": {},
   "outputs": [
    {
     "data": {
      "text/plain": [
       "Text(0,0.5,'number of followers')"
      ]
     },
     "execution_count": 206,
     "metadata": {},
     "output_type": "execute_result"
    },
    {
     "data": {
      "image/png": "[encoded data removed]",
      "text/plain": [
       "<matplotlib.figure.Figure at 0x7f86877620f0>"
      ]
     },
     "metadata": {},
     "output_type": "display_data"
    }
   ],
   "source": [
    "date = tweet_data['timestamp']\n",
    "fig, ax = plt.subplots()\n",
    "ax.plot_date(date,tweet_data['followers_count'], linestyle ='None', alpha = 0.1, marker = 'o')\n",
    "\n",
    "# format the ticks\n",
    "ax.xaxis.set_major_locator(years)\n",
    "ax.xaxis.set_major_formatter(yearsFmt)\n",
    "ax.xaxis.set_minor_locator(months)\n",
    "\n",
    "datemin = datetime.date(date.min().year, 1, 1)\n",
    "datemax = datetime.date(date.max().year + 1, 1, 1)\n",
    "ax.set_xlim(datemin, datemax)\n",
    "\n",
    "\n",
    "# format the coords message box\n",
    "ax.format_xdata = mdates.DateFormatter('%Y-%m-%d')\n",
    "ax.grid(True)\n",
    "\n",
    "# rotates and right aligns the x labels, and moves the bottom of the\n",
    "# axes up to make room for them\n",
    "fig.autofmt_xdate()\n",
    "\n",
    "plt.title ('follower count of @WeRateDogs over time')\n",
    "plt.xlabel('tweet date')\n",
    "plt.ylabel('number of followers')\n"
   ]
  },
  {
   "cell_type": "code",
   "execution_count": 207,
   "metadata": {},
   "outputs": [],
   "source": [
    "#save plot to computer\n",
    "fig.savefig('we_rate_dogs_followers_over_time.png', bbox_inches='tight')\n",
    "plt.close(fig)"
   ]
  },
  {
   "cell_type": "markdown",
   "metadata": {},
   "source": [
    "it appears that the we rate dogs twitter account steadily lost followers over time."
   ]
  },
  {
   "cell_type": "code",
   "execution_count": 208,
   "metadata": {},
   "outputs": [
    {
     "data": {
      "text/plain": [
       "Text(0,0.5,'number of likes')"
      ]
     },
     "execution_count": 208,
     "metadata": {},
     "output_type": "execute_result"
    },
    {
     "data": {
      "image/png": "[encoded data removed]",
      "text/plain": [
       "<matplotlib.figure.Figure at 0x7f8687776c50>"
      ]
     },
     "metadata": {},
     "output_type": "display_data"
    }
   ],
   "source": [
    "date = tweet_data['timestamp']\n",
    "fig, ax = plt.subplots()\n",
    "ax.plot(date,tweet_data['favorite_count'], linestyle ='None', alpha = 0.05, marker = 'o')\n",
    "\n",
    "# format the ticks\n",
    "ax.xaxis.set_major_locator(years)\n",
    "ax.xaxis.set_major_formatter(yearsFmt)\n",
    "ax.xaxis.set_minor_locator(months)\n",
    "\n",
    "datemin = datetime.date(date.min().year, 1, 1)\n",
    "datemax = datetime.date(date.max().year + 1, 1, 1)\n",
    "ax.set_xlim(datemin, datemax)\n",
    "ax.set_ylim(0,40000)\n",
    "\n",
    "# format the coords message box\n",
    "ax.format_xdata = mdates.DateFormatter('%Y-%m-%d')\n",
    "ax.grid(True)\n",
    "\n",
    "# rotates and right aligns the x labels, and moves the bottom of the\n",
    "# axes up to make room for them\n",
    "fig.autofmt_xdate()\n",
    "\n",
    "plt.title ('like count of @WeRateDogs over time')\n",
    "plt.xlabel('tweet date')\n",
    "plt.ylabel('number of likes')\n"
   ]
  },
  {
   "cell_type": "code",
   "execution_count": 209,
   "metadata": {},
   "outputs": [],
   "source": [
    "fig.savefig('num_likes_over_time.png', bbox_inches = 'tight')\n",
    "plt.close(fig)"
   ]
  },
  {
   "cell_type": "code",
   "execution_count": 210,
   "metadata": {},
   "outputs": [
    {
     "data": {
      "text/plain": [
       "Text(0,0.5,'number of retweets')"
      ]
     },
     "execution_count": 210,
     "metadata": {},
     "output_type": "execute_result"
    },
    {
     "data": {
      "image/png": "[encoded data removed]",
      "text/plain": [
       "<matplotlib.figure.Figure at 0x7f8687982e80>"
      ]
     },
     "metadata": {},
     "output_type": "display_data"
    }
   ],
   "source": [
    "date = tweet_data['timestamp']\n",
    "fig, ax = plt.subplots()\n",
    "ax.plot(date,tweet_data['retweet_count'], linestyle ='None', alpha = 0.05, marker = 'o')\n",
    "\n",
    "# format the ticks\n",
    "ax.xaxis.set_major_locator(years)\n",
    "ax.xaxis.set_major_formatter(yearsFmt)\n",
    "ax.xaxis.set_minor_locator(months)\n",
    "\n",
    "datemin = datetime.date(date.min().year, 1, 1)\n",
    "datemax = datetime.date(date.max().year + 1, 1, 1)\n",
    "ax.set_xlim(datemin, datemax)\n",
    "ax.set_ylim(0, 10000)\n",
    "\n",
    "# format the coords message box\n",
    "ax.format_xdata = mdates.DateFormatter('%Y-%m-%d')\n",
    "ax.grid(True)\n",
    "\n",
    "# rotates and right aligns the x labels, and moves the bottom of the\n",
    "# axes up to make room for them\n",
    "fig.autofmt_xdate()\n",
    "\n",
    "plt.title ('retweet count of @WeRateDogs over time')\n",
    "plt.xlabel('tweet date')\n",
    "plt.ylabel('number of retweets')\n"
   ]
  },
  {
   "cell_type": "code",
   "execution_count": 211,
   "metadata": {},
   "outputs": [],
   "source": [
    "fig.savefig('num_retweets_over_time.png', bbox_inches = 'tight')\n",
    "plt.close(fig)"
   ]
  },
  {
   "cell_type": "markdown",
   "metadata": {},
   "source": [
    "likes and retweets seem to increase over time even though the number of followers to the account decreased over time."
   ]
  },
  {
   "cell_type": "code",
   "execution_count": 213,
   "metadata": {},
   "outputs": [
    {
     "data": {
      "text/plain": [
       "(0.91582719592045891, 0.0)"
      ]
     },
     "execution_count": 213,
     "metadata": {},
     "output_type": "execute_result"
    }
   ],
   "source": [
    "from scipy.stats.stats import pearsonr\n",
    "\n",
    "r = pearsonr(tweet_data['favorite_count'], tweet_data['retweet_count'])\n",
    "r"
   ]
  },
  {
   "cell_type": "code",
   "execution_count": 214,
   "metadata": {},
   "outputs": [
    {
     "data": {
      "image/png": "[encoded data removed]",
      "text/plain": [
       "<matplotlib.figure.Figure at 0x7f867f697240>"
      ]
     },
     "metadata": {},
     "output_type": "display_data"
    }
   ],
   "source": [
    "fig= plt.figure()\n",
    "plt.scatter(tweet_data['favorite_count'], tweet_data['retweet_count'], alpha = 0.25)\n",
    "\n",
    "\n",
    "plt.xlabel('number of likes')\n",
    "plt.ylabel('number of retweets')\n",
    "plt.show()"
   ]
  },
  {
   "cell_type": "code",
   "execution_count": 215,
   "metadata": {},
   "outputs": [],
   "source": [
    "fig.savefig('likes_v_retweets.png')\n",
    "plt.close(fig)"
   ]
  },
  {
   "cell_type": "markdown",
   "metadata": {},
   "source": [
    "the number of likes and the number of retweets is highly correlated (duh).  the more a tweet is liked, the more likely it will be retweeted."
   ]
  },
  {
   "cell_type": "code",
   "execution_count": 216,
   "metadata": {},
   "outputs": [],
   "source": [
    "tweet_data['ratio_of_likes_to_retweets'] = tweet_data['retweet_count']/tweet_data['favorite_count']"
   ]
  },
  {
   "cell_type": "code",
   "execution_count": 217,
   "metadata": {},
   "outputs": [
    {
     "data": {
      "text/plain": [
       "count    1824.000000\n",
       "mean        0.318874\n",
       "std         0.098062\n",
       "min         0.086438\n",
       "25%         0.249057\n",
       "50%         0.304818\n",
       "75%         0.379562\n",
       "max         0.910813\n",
       "Name: ratio_of_likes_to_retweets, dtype: float64"
      ]
     },
     "execution_count": 217,
     "metadata": {},
     "output_type": "execute_result"
    }
   ],
   "source": [
    "tweet_data['ratio_of_likes_to_retweets'].describe()"
   ]
  },
  {
   "cell_type": "code",
   "execution_count": 218,
   "metadata": {},
   "outputs": [
    {
     "data": {
      "image/png": "[encoded data removed]",
      "text/plain": [
       "<matplotlib.figure.Figure at 0x7f868bedb080>"
      ]
     },
     "metadata": {},
     "output_type": "display_data"
    }
   ],
   "source": [
    "_=plt.hist(tweet_data['ratio_of_likes_to_retweets'])"
   ]
  },
  {
   "cell_type": "markdown",
   "metadata": {},
   "source": [
    "slightly skewed so use median (0.305) as average.  On average 30% of favorites turn into retweets."
   ]
  },
  {
   "cell_type": "code",
   "execution_count": 219,
   "metadata": {},
   "outputs": [],
   "source": [
    "tweet_data['foll_to_fav'] = tweet_data['favorite_count']/tweet_data['followers_count']"
   ]
  },
  {
   "cell_type": "code",
   "execution_count": 220,
   "metadata": {},
   "outputs": [
    {
     "data": {
      "text/plain": [
       "count    1824.000000\n",
       "mean        0.001620\n",
       "std         0.002264\n",
       "min         0.000014\n",
       "25%         0.000370\n",
       "50%         0.000767\n",
       "75%         0.002022\n",
       "max         0.025296\n",
       "Name: foll_to_fav, dtype: float64"
      ]
     },
     "execution_count": 220,
     "metadata": {},
     "output_type": "execute_result"
    }
   ],
   "source": [
    "tweet_data['foll_to_fav'].describe()"
   ]
  },
  {
   "cell_type": "code",
   "execution_count": 221,
   "metadata": {},
   "outputs": [
    {
     "data": {
      "image/png": "[encoded data removed]",
      "text/plain": [
       "<matplotlib.figure.Figure at 0x7f867f61d828>"
      ]
     },
     "metadata": {},
     "output_type": "display_data"
    }
   ],
   "source": [
    "_= plt.hist(tweet_data['foll_to_fav'], bins = 50)"
   ]
  },
  {
   "cell_type": "markdown",
   "metadata": {},
   "source": [
    "Very skewed.  Median it is.  On average only 0.08% of followers like a tweet"
   ]
  },
  {
   "cell_type": "code",
   "execution_count": 222,
   "metadata": {},
   "outputs": [
    {
     "data": {
      "text/plain": [
       "pupper          186\n",
       "doggo            60\n",
       "puppo            23\n",
       "floofer           7\n",
       "doggo,pupper      6\n",
       "Name: stage, dtype: int64"
      ]
     },
     "execution_count": 222,
     "metadata": {},
     "output_type": "execute_result"
    }
   ],
   "source": [
    "# investigate dog stages\n",
    "tweet_data['stage'].value_counts()"
   ]
  },
  {
   "cell_type": "code",
   "execution_count": 223,
   "metadata": {},
   "outputs": [
    {
     "data": {
      "text/plain": [
       "{'doggo': Int64Index([  9,  37,  79,  87,  96, 133, 150, 178, 183, 218, 229, 238, 243,\n",
       "             244, 245, 250, 259, 260, 267, 277, 278, 280, 282, 305, 307, 309,\n",
       "             320, 321, 347, 351, 356, 358, 415, 427, 433, 488, 506, 509, 546,\n",
       "             547, 591, 622, 637, 649, 654, 659, 674, 675, 677, 701, 711, 740,\n",
       "             748, 781, 803, 816, 836, 849, 869, 894],\n",
       "            dtype='int64'),\n",
       " 'doggo,pupper': Int64Index([382, 403, 409, 630, 766, 812], dtype='int64'),\n",
       " 'floofer': Int64Index([40, 413, 541, 708, 792, 809, 1225], dtype='int64'),\n",
       " 'pupper': Int64Index([  28,   43,   49,   67,   74,   78,   86,  106,  149,  165,\n",
       "             ...\n",
       "             1517, 1520, 1521, 1525, 1530, 1533, 1540, 1545, 1550, 1552],\n",
       "            dtype='int64', length=186),\n",
       " 'puppo': Int64Index([ 12,  14,  60,  76, 103, 131, 144, 286, 288, 298, 315, 396, 404,\n",
       "             449, 463, 481, 515, 657, 676, 687, 744, 754, 784],\n",
       "            dtype='int64')}"
      ]
     },
     "execution_count": 223,
     "metadata": {},
     "output_type": "execute_result"
    }
   ],
   "source": [
    "groups = tweet_data.groupby(tweet_data.stage)\n",
    "groups.groups"
   ]
  },
  {
   "cell_type": "code",
   "execution_count": 224,
   "metadata": {},
   "outputs": [],
   "source": [
    "pupper = pd.concat([groups.get_group('pupper'), groups.get_group('doggo,pupper')])\n",
    "doggo = pd.concat([groups.get_group('doggo'), groups.get_group('doggo,pupper')])\n",
    "floofer = pd.concat([groups.get_group('floofer')])\n",
    "puppo = pd.concat([groups.get_group('puppo')])"
   ]
  },
  {
   "cell_type": "code",
   "execution_count": 225,
   "metadata": {},
   "outputs": [
    {
     "name": "stdout",
     "output_type": "stream",
     "text": [
      "192 66 7 23\n"
     ]
    }
   ],
   "source": [
    "print( len(pupper), len(doggo), len(floofer), len(puppo))"
   ]
  },
  {
   "cell_type": "code",
   "execution_count": 226,
   "metadata": {},
   "outputs": [
    {
     "data": {
      "text/html": [
       "<div>\n",
       "<style>\n",
       "    .dataframe thead tr:only-child th {\n",
       "        text-align: right;\n",
       "    }\n",
       "\n",
       "    .dataframe thead th {\n",
       "        text-align: left;\n",
       "    }\n",
       "\n",
       "    .dataframe tbody tr th {\n",
       "        vertical-align: top;\n",
       "    }\n",
       "</style>\n",
       "<table border=\"1\" class=\"dataframe\">\n",
       "  <thead>\n",
       "    <tr style=\"text-align: right;\">\n",
       "      <th></th>\n",
       "      <th>favorite_count</th>\n",
       "      <th>retweet_count</th>\n",
       "    </tr>\n",
       "  </thead>\n",
       "  <tbody>\n",
       "    <tr>\n",
       "      <th>count</th>\n",
       "      <td>192.000000</td>\n",
       "      <td>192.000000</td>\n",
       "    </tr>\n",
       "    <tr>\n",
       "      <th>mean</th>\n",
       "      <td>7549.546875</td>\n",
       "      <td>2411.630208</td>\n",
       "    </tr>\n",
       "    <tr>\n",
       "      <th>std</th>\n",
       "      <td>11897.289625</td>\n",
       "      <td>3790.071261</td>\n",
       "    </tr>\n",
       "    <tr>\n",
       "      <th>min</th>\n",
       "      <td>677.000000</td>\n",
       "      <td>100.000000</td>\n",
       "    </tr>\n",
       "    <tr>\n",
       "      <th>25%</th>\n",
       "      <td>2422.250000</td>\n",
       "      <td>683.750000</td>\n",
       "    </tr>\n",
       "    <tr>\n",
       "      <th>50%</th>\n",
       "      <td>3283.000000</td>\n",
       "      <td>1218.500000</td>\n",
       "    </tr>\n",
       "    <tr>\n",
       "      <th>75%</th>\n",
       "      <td>8025.250000</td>\n",
       "      <td>2496.500000</td>\n",
       "    </tr>\n",
       "    <tr>\n",
       "      <th>max</th>\n",
       "      <td>124739.000000</td>\n",
       "      <td>36866.000000</td>\n",
       "    </tr>\n",
       "  </tbody>\n",
       "</table>\n",
       "</div>"
      ],
      "text/plain": [
       "       favorite_count  retweet_count\n",
       "count      192.000000     192.000000\n",
       "mean      7549.546875    2411.630208\n",
       "std      11897.289625    3790.071261\n",
       "min        677.000000     100.000000\n",
       "25%       2422.250000     683.750000\n",
       "50%       3283.000000    1218.500000\n",
       "75%       8025.250000    2496.500000\n",
       "max     124739.000000   36866.000000"
      ]
     },
     "execution_count": 226,
     "metadata": {},
     "output_type": "execute_result"
    }
   ],
   "source": [
    "pupper[['favorite_count','retweet_count']].describe()"
   ]
  },
  {
   "cell_type": "code",
   "execution_count": 227,
   "metadata": {},
   "outputs": [
    {
     "data": {
      "image/png": "[encoded data removed]",
      "text/plain": [
       "<matplotlib.figure.Figure at 0x7f867f5d8470>"
      ]
     },
     "metadata": {},
     "output_type": "display_data"
    }
   ],
   "source": [
    "import numpy as np\n",
    "import matplotlib.pyplot as plt\n",
    "\n",
    "plt.subplot(2, 1, 1)\n",
    "_=plt.hist(pupper['favorite_count'], bins = 100)\n",
    "plt.title('pupper tweets')\n",
    "plt.xlabel('number of likes')\n",
    "\n",
    "plt.subplot(2, 1, 2)\n",
    "_ = plt.hist(pupper['retweet_count'], bins = 100)\n",
    "plt.xlabel('number of retweets')\n",
    "\n",
    "plt.show()"
   ]
  },
  {
   "cell_type": "code",
   "execution_count": 228,
   "metadata": {},
   "outputs": [
    {
     "data": {
      "text/html": [
       "<div>\n",
       "<style>\n",
       "    .dataframe thead tr:only-child th {\n",
       "        text-align: right;\n",
       "    }\n",
       "\n",
       "    .dataframe thead th {\n",
       "        text-align: left;\n",
       "    }\n",
       "\n",
       "    .dataframe tbody tr th {\n",
       "        vertical-align: top;\n",
       "    }\n",
       "</style>\n",
       "<table border=\"1\" class=\"dataframe\">\n",
       "  <thead>\n",
       "    <tr style=\"text-align: right;\">\n",
       "      <th></th>\n",
       "      <th>favorite_count</th>\n",
       "      <th>retweet_count</th>\n",
       "    </tr>\n",
       "  </thead>\n",
       "  <tbody>\n",
       "    <tr>\n",
       "      <th>count</th>\n",
       "      <td>66.000000</td>\n",
       "      <td>66.000000</td>\n",
       "    </tr>\n",
       "    <tr>\n",
       "      <th>mean</th>\n",
       "      <td>18946.030303</td>\n",
       "      <td>6785.454545</td>\n",
       "    </tr>\n",
       "    <tr>\n",
       "      <th>std</th>\n",
       "      <td>21666.914868</td>\n",
       "      <td>12427.404985</td>\n",
       "    </tr>\n",
       "    <tr>\n",
       "      <th>min</th>\n",
       "      <td>2554.000000</td>\n",
       "      <td>710.000000</td>\n",
       "    </tr>\n",
       "    <tr>\n",
       "      <th>25%</th>\n",
       "      <td>8149.500000</td>\n",
       "      <td>2016.250000</td>\n",
       "    </tr>\n",
       "    <tr>\n",
       "      <th>50%</th>\n",
       "      <td>11784.500000</td>\n",
       "      <td>2943.000000</td>\n",
       "    </tr>\n",
       "    <tr>\n",
       "      <th>75%</th>\n",
       "      <td>19854.250000</td>\n",
       "      <td>5098.750000</td>\n",
       "    </tr>\n",
       "    <tr>\n",
       "      <th>max</th>\n",
       "      <td>129297.000000</td>\n",
       "      <td>78209.000000</td>\n",
       "    </tr>\n",
       "  </tbody>\n",
       "</table>\n",
       "</div>"
      ],
      "text/plain": [
       "       favorite_count  retweet_count\n",
       "count       66.000000      66.000000\n",
       "mean     18946.030303    6785.454545\n",
       "std      21666.914868   12427.404985\n",
       "min       2554.000000     710.000000\n",
       "25%       8149.500000    2016.250000\n",
       "50%      11784.500000    2943.000000\n",
       "75%      19854.250000    5098.750000\n",
       "max     129297.000000   78209.000000"
      ]
     },
     "execution_count": 228,
     "metadata": {},
     "output_type": "execute_result"
    }
   ],
   "source": [
    "doggo[['favorite_count','retweet_count']].describe()"
   ]
  },
  {
   "cell_type": "code",
   "execution_count": 229,
   "metadata": {},
   "outputs": [
    {
     "data": {
      "image/png": "[encoded data removed]",
      "text/plain": [
       "<matplotlib.figure.Figure at 0x7f868774c710>"
      ]
     },
     "metadata": {},
     "output_type": "display_data"
    }
   ],
   "source": [
    "plt.subplot(2, 1, 1)\n",
    "plt.hist(doggo['favorite_count'], bins = 100)\n",
    "plt.title('doggo tweets')\n",
    "plt.xlabel('number of likes')\n",
    "\n",
    "plt.subplot(2, 1, 2)\n",
    "plt.hist(doggo['retweet_count'], bins = 100)\n",
    "plt.xlabel('number of retweets')\n",
    "\n",
    "plt.show()"
   ]
  },
  {
   "cell_type": "code",
   "execution_count": 230,
   "metadata": {},
   "outputs": [
    {
     "data": {
      "text/html": [
       "<div>\n",
       "<style>\n",
       "    .dataframe thead tr:only-child th {\n",
       "        text-align: right;\n",
       "    }\n",
       "\n",
       "    .dataframe thead th {\n",
       "        text-align: left;\n",
       "    }\n",
       "\n",
       "    .dataframe tbody tr th {\n",
       "        vertical-align: top;\n",
       "    }\n",
       "</style>\n",
       "<table border=\"1\" class=\"dataframe\">\n",
       "  <thead>\n",
       "    <tr style=\"text-align: right;\">\n",
       "      <th></th>\n",
       "      <th>favorite_count</th>\n",
       "      <th>retweet_count</th>\n",
       "    </tr>\n",
       "  </thead>\n",
       "  <tbody>\n",
       "    <tr>\n",
       "      <th>count</th>\n",
       "      <td>23.000000</td>\n",
       "      <td>23.000000</td>\n",
       "    </tr>\n",
       "    <tr>\n",
       "      <th>mean</th>\n",
       "      <td>23480.913043</td>\n",
       "      <td>7083.565217</td>\n",
       "    </tr>\n",
       "    <tr>\n",
       "      <th>std</th>\n",
       "      <td>30298.203427</td>\n",
       "      <td>10670.475481</td>\n",
       "    </tr>\n",
       "    <tr>\n",
       "      <th>min</th>\n",
       "      <td>3233.000000</td>\n",
       "      <td>701.000000</td>\n",
       "    </tr>\n",
       "    <tr>\n",
       "      <th>25%</th>\n",
       "      <td>6974.500000</td>\n",
       "      <td>1694.000000</td>\n",
       "    </tr>\n",
       "    <tr>\n",
       "      <th>50%</th>\n",
       "      <td>15219.000000</td>\n",
       "      <td>3157.000000</td>\n",
       "    </tr>\n",
       "    <tr>\n",
       "      <th>75%</th>\n",
       "      <td>21686.000000</td>\n",
       "      <td>7388.000000</td>\n",
       "    </tr>\n",
       "    <tr>\n",
       "      <th>max</th>\n",
       "      <td>144159.000000</td>\n",
       "      <td>49733.000000</td>\n",
       "    </tr>\n",
       "  </tbody>\n",
       "</table>\n",
       "</div>"
      ],
      "text/plain": [
       "       favorite_count  retweet_count\n",
       "count       23.000000      23.000000\n",
       "mean     23480.913043    7083.565217\n",
       "std      30298.203427   10670.475481\n",
       "min       3233.000000     701.000000\n",
       "25%       6974.500000    1694.000000\n",
       "50%      15219.000000    3157.000000\n",
       "75%      21686.000000    7388.000000\n",
       "max     144159.000000   49733.000000"
      ]
     },
     "execution_count": 230,
     "metadata": {},
     "output_type": "execute_result"
    }
   ],
   "source": [
    "puppo[['favorite_count','retweet_count']].describe()"
   ]
  },
  {
   "cell_type": "code",
   "execution_count": 231,
   "metadata": {},
   "outputs": [
    {
     "data": {
      "image/png": "[encoded data removed]",
      "text/plain": [
       "<matplotlib.figure.Figure at 0x7f867f4b8278>"
      ]
     },
     "metadata": {},
     "output_type": "display_data"
    }
   ],
   "source": [
    "plt.subplot(2, 1, 1)\n",
    "plt.hist(puppo['favorite_count'], bins = 50)\n",
    "plt.title('puppo tweets')\n",
    "plt.xlabel('number of likes')\n",
    "\n",
    "plt.subplot(2, 1, 2)\n",
    "plt.hist(puppo['retweet_count'], bins = 50)\n",
    "plt.xlabel('number of retweets')\n",
    "\n",
    "plt.show()"
   ]
  },
  {
   "cell_type": "code",
   "execution_count": 232,
   "metadata": {},
   "outputs": [
    {
     "data": {
      "text/plain": [
       "11138.0"
      ]
     },
     "execution_count": 232,
     "metadata": {},
     "output_type": "execute_result"
    }
   ],
   "source": [
    "floofer['favorite_count'].median()"
   ]
  },
  {
   "cell_type": "code",
   "execution_count": 233,
   "metadata": {},
   "outputs": [
    {
     "data": {
      "text/html": [
       "<div>\n",
       "<style>\n",
       "    .dataframe thead tr:only-child th {\n",
       "        text-align: right;\n",
       "    }\n",
       "\n",
       "    .dataframe thead th {\n",
       "        text-align: left;\n",
       "    }\n",
       "\n",
       "    .dataframe tbody tr th {\n",
       "        vertical-align: top;\n",
       "    }\n",
       "</style>\n",
       "<table border=\"1\" class=\"dataframe\">\n",
       "  <thead>\n",
       "    <tr style=\"text-align: right;\">\n",
       "      <th></th>\n",
       "      <th>favorite_count</th>\n",
       "      <th>retweet_count</th>\n",
       "    </tr>\n",
       "  </thead>\n",
       "  <tbody>\n",
       "    <tr>\n",
       "      <th>count</th>\n",
       "      <td>7.000000</td>\n",
       "      <td>7.000000</td>\n",
       "    </tr>\n",
       "    <tr>\n",
       "      <th>mean</th>\n",
       "      <td>13035.857143</td>\n",
       "      <td>4876.000000</td>\n",
       "    </tr>\n",
       "    <tr>\n",
       "      <th>std</th>\n",
       "      <td>11126.010148</td>\n",
       "      <td>6042.734177</td>\n",
       "    </tr>\n",
       "    <tr>\n",
       "      <th>min</th>\n",
       "      <td>2230.000000</td>\n",
       "      <td>490.000000</td>\n",
       "    </tr>\n",
       "    <tr>\n",
       "      <th>25%</th>\n",
       "      <td>4966.500000</td>\n",
       "      <td>1795.500000</td>\n",
       "    </tr>\n",
       "    <tr>\n",
       "      <th>50%</th>\n",
       "      <td>11138.000000</td>\n",
       "      <td>3191.000000</td>\n",
       "    </tr>\n",
       "    <tr>\n",
       "      <th>75%</th>\n",
       "      <td>17513.500000</td>\n",
       "      <td>4361.000000</td>\n",
       "    </tr>\n",
       "    <tr>\n",
       "      <th>max</th>\n",
       "      <td>32923.000000</td>\n",
       "      <td>18138.000000</td>\n",
       "    </tr>\n",
       "  </tbody>\n",
       "</table>\n",
       "</div>"
      ],
      "text/plain": [
       "       favorite_count  retweet_count\n",
       "count        7.000000       7.000000\n",
       "mean     13035.857143    4876.000000\n",
       "std      11126.010148    6042.734177\n",
       "min       2230.000000     490.000000\n",
       "25%       4966.500000    1795.500000\n",
       "50%      11138.000000    3191.000000\n",
       "75%      17513.500000    4361.000000\n",
       "max      32923.000000   18138.000000"
      ]
     },
     "execution_count": 233,
     "metadata": {},
     "output_type": "execute_result"
    }
   ],
   "source": [
    "floofer[['favorite_count','retweet_count']].describe()"
   ]
  },
  {
   "cell_type": "code",
   "execution_count": 235,
   "metadata": {},
   "outputs": [
    {
     "data": {
      "image/png": "[encoded data removed]",
      "text/plain": [
       "<matplotlib.figure.Figure at 0x7f867f078eb8>"
      ]
     },
     "metadata": {},
     "output_type": "display_data"
    }
   ],
   "source": [
    "plt.subplot(2, 1, 1)\n",
    "plt.hist(floofer['favorite_count'])\n",
    "plt.title('floofer tweets')\n",
    "plt.xlabel('number of likes')\n",
    "\n",
    "plt.subplot(2, 1, 2)\n",
    "plt.hist(floofer['retweet_count'])\n",
    "plt.xlabel('number of retweets')\n",
    "\n",
    "plt.show()"
   ]
  },
  {
   "cell_type": "markdown",
   "metadata": {},
   "source": [
    "all the plots are super skewed so the median is the best average"
   ]
  },
  {
   "cell_type": "code",
   "execution_count": 236,
   "metadata": {},
   "outputs": [],
   "source": [
    "stage_counts = pd.DataFrame(columns = ['average_likes','average_retweets'], index = ['pupper', 'doggo', 'floofer', 'puppo'])"
   ]
  },
  {
   "cell_type": "code",
   "execution_count": 237,
   "metadata": {},
   "outputs": [],
   "source": [
    "stage_counts['average_likes']=[pupper['favorite_count'].median(), \n",
    "                              doggo['favorite_count'].median(),\n",
    "                              floofer['favorite_count'].median(),\n",
    "                              puppo['favorite_count'].median()]\n",
    "stage_counts['average_retweets'] = [pupper['retweet_count'].median(),\n",
    "                                   doggo['retweet_count'].median(),\n",
    "                                   floofer['retweet_count'].median(),\n",
    "                                   puppo['retweet_count'].median()]"
   ]
  },
  {
   "cell_type": "code",
   "execution_count": 238,
   "metadata": {},
   "outputs": [],
   "source": [
    "stage_counts['num_tweets']=[len(pupper), len(doggo), len(floofer), len(puppo)]"
   ]
  },
  {
   "cell_type": "code",
   "execution_count": 239,
   "metadata": {},
   "outputs": [
    {
     "data": {
      "text/html": [
       "<div>\n",
       "<style>\n",
       "    .dataframe thead tr:only-child th {\n",
       "        text-align: right;\n",
       "    }\n",
       "\n",
       "    .dataframe thead th {\n",
       "        text-align: left;\n",
       "    }\n",
       "\n",
       "    .dataframe tbody tr th {\n",
       "        vertical-align: top;\n",
       "    }\n",
       "</style>\n",
       "<table border=\"1\" class=\"dataframe\">\n",
       "  <thead>\n",
       "    <tr style=\"text-align: right;\">\n",
       "      <th></th>\n",
       "      <th>average_likes</th>\n",
       "      <th>average_retweets</th>\n",
       "      <th>num_tweets</th>\n",
       "    </tr>\n",
       "  </thead>\n",
       "  <tbody>\n",
       "    <tr>\n",
       "      <th>pupper</th>\n",
       "      <td>3283.0</td>\n",
       "      <td>1218.5</td>\n",
       "      <td>192</td>\n",
       "    </tr>\n",
       "    <tr>\n",
       "      <th>doggo</th>\n",
       "      <td>11784.5</td>\n",
       "      <td>2943.0</td>\n",
       "      <td>66</td>\n",
       "    </tr>\n",
       "    <tr>\n",
       "      <th>floofer</th>\n",
       "      <td>11138.0</td>\n",
       "      <td>3191.0</td>\n",
       "      <td>7</td>\n",
       "    </tr>\n",
       "    <tr>\n",
       "      <th>puppo</th>\n",
       "      <td>15219.0</td>\n",
       "      <td>3157.0</td>\n",
       "      <td>23</td>\n",
       "    </tr>\n",
       "  </tbody>\n",
       "</table>\n",
       "</div>"
      ],
      "text/plain": [
       "         average_likes  average_retweets  num_tweets\n",
       "pupper          3283.0            1218.5         192\n",
       "doggo          11784.5            2943.0          66\n",
       "floofer        11138.0            3191.0           7\n",
       "puppo          15219.0            3157.0          23"
      ]
     },
     "execution_count": 239,
     "metadata": {},
     "output_type": "execute_result"
    }
   ],
   "source": [
    "stage_counts"
   ]
  },
  {
   "cell_type": "markdown",
   "metadata": {},
   "source": [
    "- puppers have the most tweets\n",
    "- puppos have the most likes\n",
    "- floofers get the most retweets"
   ]
  },
  {
   "cell_type": "code",
   "execution_count": 240,
   "metadata": {},
   "outputs": [
    {
     "data": {
      "text/plain": [
       "909"
      ]
     },
     "execution_count": 240,
     "metadata": {},
     "output_type": "execute_result"
    }
   ],
   "source": [
    "name_rate = tweet_data.groupby(tweet_data.name, axis=0).mean()\n",
    "len(name_rate)"
   ]
  },
  {
   "cell_type": "code",
   "execution_count": 241,
   "metadata": {},
   "outputs": [],
   "source": [
    "names = tweet_data['name']\n",
    "\n",
    "name_count = {}\n",
    "\n",
    "for i in range(len(names)):\n",
    "    if names[i] not in name_count:\n",
    "        name_count[names[i]]= 1\n",
    "    else:\n",
    "        name_count[names[i]] += 1"
   ]
  },
  {
   "cell_type": "code",
   "execution_count": 242,
   "metadata": {},
   "outputs": [
    {
     "data": {
      "text/html": [
       "<div>\n",
       "<style>\n",
       "    .dataframe thead tr:only-child th {\n",
       "        text-align: right;\n",
       "    }\n",
       "\n",
       "    .dataframe thead th {\n",
       "        text-align: left;\n",
       "    }\n",
       "\n",
       "    .dataframe tbody tr th {\n",
       "        vertical-align: top;\n",
       "    }\n",
       "</style>\n",
       "<table border=\"1\" class=\"dataframe\">\n",
       "  <thead>\n",
       "    <tr style=\"text-align: right;\">\n",
       "      <th></th>\n",
       "      <th>name</th>\n",
       "      <th>count</th>\n",
       "    </tr>\n",
       "  </thead>\n",
       "  <tbody>\n",
       "    <tr>\n",
       "      <th>0</th>\n",
       "      <td>Phineas</td>\n",
       "      <td>2</td>\n",
       "    </tr>\n",
       "    <tr>\n",
       "      <th>1</th>\n",
       "      <td>Tilly</td>\n",
       "      <td>1</td>\n",
       "    </tr>\n",
       "    <tr>\n",
       "      <th>2</th>\n",
       "      <td>Archie</td>\n",
       "      <td>4</td>\n",
       "    </tr>\n",
       "    <tr>\n",
       "      <th>3</th>\n",
       "      <td>Darla</td>\n",
       "      <td>1</td>\n",
       "    </tr>\n",
       "    <tr>\n",
       "      <th>4</th>\n",
       "      <td>Franklin</td>\n",
       "      <td>2</td>\n",
       "    </tr>\n",
       "  </tbody>\n",
       "</table>\n",
       "</div>"
      ],
      "text/plain": [
       "       name  count\n",
       "0   Phineas      2\n",
       "1     Tilly      1\n",
       "2    Archie      4\n",
       "3     Darla      1\n",
       "4  Franklin      2"
      ]
     },
     "execution_count": 242,
     "metadata": {},
     "output_type": "execute_result"
    }
   ],
   "source": [
    "name_counts = pd.DataFrame(list(name_count.items()),columns = ['name', 'count'])\n",
    "name_counts.head()"
   ]
  },
  {
   "cell_type": "code",
   "execution_count": 243,
   "metadata": {},
   "outputs": [
    {
     "data": {
      "text/html": [
       "<div>\n",
       "<style>\n",
       "    .dataframe thead tr:only-child th {\n",
       "        text-align: right;\n",
       "    }\n",
       "\n",
       "    .dataframe thead th {\n",
       "        text-align: left;\n",
       "    }\n",
       "\n",
       "    .dataframe tbody tr th {\n",
       "        vertical-align: top;\n",
       "    }\n",
       "</style>\n",
       "<table border=\"1\" class=\"dataframe\">\n",
       "  <thead>\n",
       "    <tr style=\"text-align: right;\">\n",
       "      <th></th>\n",
       "      <th>name</th>\n",
       "      <th>count</th>\n",
       "    </tr>\n",
       "  </thead>\n",
       "  <tbody>\n",
       "    <tr>\n",
       "      <th>5</th>\n",
       "      <td>NaN</td>\n",
       "      <td>498</td>\n",
       "    </tr>\n",
       "    <tr>\n",
       "      <th>78</th>\n",
       "      <td>Cooper</td>\n",
       "      <td>10</td>\n",
       "    </tr>\n",
       "    <tr>\n",
       "      <th>109</th>\n",
       "      <td>Charlie</td>\n",
       "      <td>12</td>\n",
       "    </tr>\n",
       "    <tr>\n",
       "      <th>158</th>\n",
       "      <td>Lucy</td>\n",
       "      <td>10</td>\n",
       "    </tr>\n",
       "  </tbody>\n",
       "</table>\n",
       "</div>"
      ],
      "text/plain": [
       "        name  count\n",
       "5        NaN    498\n",
       "78    Cooper     10\n",
       "109  Charlie     12\n",
       "158     Lucy     10"
      ]
     },
     "execution_count": 243,
     "metadata": {},
     "output_type": "execute_result"
    }
   ],
   "source": [
    "popular_names = name_counts.loc[name_counts['count']>=10]\n",
    "popular_names"
   ]
  },
  {
   "cell_type": "code",
   "execution_count": 244,
   "metadata": {},
   "outputs": [],
   "source": [
    "popular_names = ['Cooper', 'Charlie','Lucy']"
   ]
  },
  {
   "cell_type": "code",
   "execution_count": 245,
   "metadata": {},
   "outputs": [
    {
     "data": {
      "text/html": [
       "<div>\n",
       "<style>\n",
       "    .dataframe thead tr:only-child th {\n",
       "        text-align: right;\n",
       "    }\n",
       "\n",
       "    .dataframe thead th {\n",
       "        text-align: left;\n",
       "    }\n",
       "\n",
       "    .dataframe tbody tr th {\n",
       "        vertical-align: top;\n",
       "    }\n",
       "</style>\n",
       "<table border=\"1\" class=\"dataframe\">\n",
       "  <thead>\n",
       "    <tr style=\"text-align: right;\">\n",
       "      <th></th>\n",
       "      <th>Unnamed: 0</th>\n",
       "      <th>tweet_id</th>\n",
       "      <th>source</th>\n",
       "      <th>text</th>\n",
       "      <th>rating_numerator</th>\n",
       "      <th>rating_denominator</th>\n",
       "      <th>name</th>\n",
       "      <th>stage</th>\n",
       "      <th>expanded_url</th>\n",
       "      <th>favorite_count</th>\n",
       "      <th>...</th>\n",
       "      <th>p1_conf</th>\n",
       "      <th>p1_dog</th>\n",
       "      <th>p2</th>\n",
       "      <th>p2_conf</th>\n",
       "      <th>p2_dog</th>\n",
       "      <th>p3</th>\n",
       "      <th>p3_conf</th>\n",
       "      <th>p3_dog</th>\n",
       "      <th>ratio_of_likes_to_retweets</th>\n",
       "      <th>foll_to_fav</th>\n",
       "    </tr>\n",
       "  </thead>\n",
       "  <tbody>\n",
       "    <tr>\n",
       "      <th>687</th>\n",
       "      <td>687</td>\n",
       "      <td>751132876104687617</td>\n",
       "      <td>&lt;a href=\"http://twitter.com/download/iphone\" r...</td>\n",
       "      <td>This is Cooper. He's just so damn happy. 10/10...</td>\n",
       "      <td>10.0</td>\n",
       "      <td>10</td>\n",
       "      <td>Cooper</td>\n",
       "      <td>puppo</td>\n",
       "      <td>https://twitter.com/dog_rates/status/751132876...</td>\n",
       "      <td>5545</td>\n",
       "      <td>...</td>\n",
       "      <td>0.92939</td>\n",
       "      <td>True</td>\n",
       "      <td>Chesapeake_Bay_retriever</td>\n",
       "      <td>0.038254</td>\n",
       "      <td>True</td>\n",
       "      <td>golden_retriever</td>\n",
       "      <td>0.00761</td>\n",
       "      <td>True</td>\n",
       "      <td>0.262759</td>\n",
       "      <td>0.000973</td>\n",
       "    </tr>\n",
       "  </tbody>\n",
       "</table>\n",
       "<p>1 rows × 28 columns</p>\n",
       "</div>"
      ],
      "text/plain": [
       "     Unnamed: 0            tweet_id  \\\n",
       "687         687  751132876104687617   \n",
       "\n",
       "                                                source  \\\n",
       "687  <a href=\"http://twitter.com/download/iphone\" r...   \n",
       "\n",
       "                                                  text  rating_numerator  \\\n",
       "687  This is Cooper. He's just so damn happy. 10/10...              10.0   \n",
       "\n",
       "     rating_denominator    name  stage  \\\n",
       "687                  10  Cooper  puppo   \n",
       "\n",
       "                                          expanded_url  favorite_count  \\\n",
       "687  https://twitter.com/dog_rates/status/751132876...            5545   \n",
       "\n",
       "        ...       p1_conf  p1_dog                        p2   p2_conf p2_dog  \\\n",
       "687     ...       0.92939    True  Chesapeake_Bay_retriever  0.038254   True   \n",
       "\n",
       "                   p3  p3_conf p3_dog  ratio_of_likes_to_retweets  foll_to_fav  \n",
       "687  golden_retriever  0.00761   True                    0.262759     0.000973  \n",
       "\n",
       "[1 rows x 28 columns]"
      ]
     },
     "execution_count": 245,
     "metadata": {},
     "output_type": "execute_result"
    }
   ],
   "source": [
    "groups = tweet_data.groupby(tweet_data.name)\n",
    "\n",
    "pop_name_data = pd.concat([groups.get_group('Cooper'), groups.get_group('Charlie'), groups.get_group('Lucy')])\n",
    "pop_name_data.sample()"
   ]
  },
  {
   "cell_type": "code",
   "execution_count": 246,
   "metadata": {},
   "outputs": [
    {
     "name": "stdout",
     "output_type": "stream",
     "text": [
      "<class 'pandas.core.frame.DataFrame'>\n",
      "Index: 3 entries, Charlie to Lucy\n",
      "Data columns (total 26 columns):\n",
      "Unnamed: 0                    3 non-null int64\n",
      "tweet_id                      3 non-null int64\n",
      "source                        3 non-null object\n",
      "text                          3 non-null object\n",
      "rating_numerator              3 non-null float64\n",
      "rating_denominator            3 non-null int64\n",
      "expanded_url                  3 non-null object\n",
      "favorite_count                3 non-null int64\n",
      "followers_count               3 non-null int64\n",
      "in_reply_to_status_id         1 non-null float64\n",
      "in_reply_to_user_id           1 non-null float64\n",
      "retweet_count                 3 non-null int64\n",
      "timestamp                     3 non-null datetime64[ns]\n",
      "jpg_url                       3 non-null object\n",
      "img_num                       3 non-null int64\n",
      "p1                            3 non-null object\n",
      "p1_conf                       3 non-null float64\n",
      "p1_dog                        3 non-null bool\n",
      "p2                            3 non-null object\n",
      "p2_conf                       3 non-null float64\n",
      "p2_dog                        3 non-null bool\n",
      "p3                            3 non-null object\n",
      "p3_conf                       3 non-null float64\n",
      "p3_dog                        3 non-null bool\n",
      "ratio_of_likes_to_retweets    3 non-null float64\n",
      "foll_to_fav                   3 non-null float64\n",
      "dtypes: bool(3), datetime64[ns](1), float64(8), int64(7), object(7)\n",
      "memory usage: 585.0+ bytes\n"
     ]
    }
   ],
   "source": [
    "pop_name_max = pop_name_data.groupby(pop_name_data.name).max()\n",
    "pop_name_max.info()"
   ]
  },
  {
   "cell_type": "code",
   "execution_count": 247,
   "metadata": {},
   "outputs": [
    {
     "data": {
      "text/plain": [
       "22955.000000000004"
      ]
     },
     "execution_count": 247,
     "metadata": {},
     "output_type": "execute_result"
    }
   ],
   "source": [
    "import numpy as np\n",
    "\n",
    "top_likes = np.percentile(tweet_data['favorite_count'], 90)\n",
    "top_likes"
   ]
  },
  {
   "cell_type": "code",
   "execution_count": 248,
   "metadata": {},
   "outputs": [],
   "source": [
    "top_likes = tweet_data.loc[tweet_data['favorite_count']>=np.percentile(tweet_data['favorite_count'],99)]"
   ]
  },
  {
   "cell_type": "code",
   "execution_count": 249,
   "metadata": {},
   "outputs": [
    {
     "data": {
      "text/plain": [
       "19"
      ]
     },
     "execution_count": 249,
     "metadata": {},
     "output_type": "execute_result"
    }
   ],
   "source": [
    "len(top_likes)"
   ]
  },
  {
   "cell_type": "code",
   "execution_count": 250,
   "metadata": {},
   "outputs": [
    {
     "data": {
      "text/plain": [
       "Bo         1\n",
       "Canela     1\n",
       "Lilly      1\n",
       "Walter     1\n",
       "Stephan    1\n",
       "Kenneth    1\n",
       "Earl       1\n",
       "Zoey       1\n",
       "Duddles    1\n",
       "Jamesy     1\n",
       "Aja        1\n",
       "Name: name, dtype: int64"
      ]
     },
     "execution_count": 250,
     "metadata": {},
     "output_type": "execute_result"
    }
   ],
   "source": [
    "top_likes['name'].value_counts()"
   ]
  },
  {
   "cell_type": "code",
   "execution_count": 251,
   "metadata": {},
   "outputs": [
    {
     "data": {
      "text/plain": [
       "doggo     3\n",
       "puppo     1\n",
       "pupper    1\n",
       "Name: stage, dtype: int64"
      ]
     },
     "execution_count": 251,
     "metadata": {},
     "output_type": "execute_result"
    }
   ],
   "source": [
    "top_likes['stage'].value_counts()"
   ]
  },
  {
   "cell_type": "code",
   "execution_count": 252,
   "metadata": {},
   "outputs": [
    {
     "data": {
      "text/plain": [
       "Labrador_retriever          2\n",
       "Pomeranian                  1\n",
       "Chihuahua                   1\n",
       "laptop                      1\n",
       "Angora                      1\n",
       "bubble                      1\n",
       "French_bulldog              1\n",
       "Eskimo_dog                  1\n",
       "Lakeland_terrier            1\n",
       "English_springer            1\n",
       "chow                        1\n",
       "Arabian_camel               1\n",
       "Italian_greyhound           1\n",
       "swing                       1\n",
       "golden_retriever            1\n",
       "Pembroke                    1\n",
       "standard_poodle             1\n",
       "Chesapeake_Bay_retriever    1\n",
       "Name: p1, dtype: int64"
      ]
     },
     "execution_count": 252,
     "metadata": {},
     "output_type": "execute_result"
    }
   ],
   "source": [
    "top_likes['p1'].value_counts()"
   ]
  },
  {
   "cell_type": "code",
   "execution_count": 253,
   "metadata": {},
   "outputs": [],
   "source": [
    "low_likes = tweet_data.loc[tweet_data['favorite_count']<=np.percentile(tweet_data['favorite_count'],1)]"
   ]
  },
  {
   "cell_type": "code",
   "execution_count": 254,
   "metadata": {},
   "outputs": [
    {
     "data": {
      "text/plain": [
       "19"
      ]
     },
     "execution_count": 254,
     "metadata": {},
     "output_type": "execute_result"
    }
   ],
   "source": [
    "len(low_likes)"
   ]
  },
  {
   "cell_type": "code",
   "execution_count": 255,
   "metadata": {},
   "outputs": [
    {
     "data": {
      "text/plain": [
       "Walter    1\n",
       "Scout     1\n",
       "Name: name, dtype: int64"
      ]
     },
     "execution_count": 255,
     "metadata": {},
     "output_type": "execute_result"
    }
   ],
   "source": [
    "low_likes['name'].value_counts()"
   ]
  },
  {
   "cell_type": "code",
   "execution_count": 256,
   "metadata": {},
   "outputs": [
    {
     "data": {
      "text/plain": [
       "Series([], Name: stage, dtype: int64)"
      ]
     },
     "execution_count": 256,
     "metadata": {},
     "output_type": "execute_result"
    }
   ],
   "source": [
    "low_likes['stage'].value_counts()"
   ]
  },
  {
   "cell_type": "code",
   "execution_count": 257,
   "metadata": {},
   "outputs": [
    {
     "data": {
      "text/plain": [
       "Chihuahua                   2\n",
       "Pembroke                    1\n",
       "German_shepherd             1\n",
       "English_setter              1\n",
       "redbone                     1\n",
       "Lhasa                       1\n",
       "Gordon_setter               1\n",
       "curly-coated_retriever      1\n",
       "bloodhound                  1\n",
       "desktop_computer            1\n",
       "black-and-tan_coonhound     1\n",
       "miniature_poodle            1\n",
       "Maltese_dog                 1\n",
       "pug                         1\n",
       "miniature_pinscher          1\n",
       "Bernese_mountain_dog        1\n",
       "toy_terrier                 1\n",
       "Chesapeake_Bay_retriever    1\n",
       "Name: p1, dtype: int64"
      ]
     },
     "execution_count": 257,
     "metadata": {},
     "output_type": "execute_result"
    }
   ],
   "source": [
    "low_likes['p1'].value_counts()"
   ]
  },
  {
   "cell_type": "code",
   "execution_count": 258,
   "metadata": {},
   "outputs": [
    {
     "data": {
      "text/plain": [
       "golden_retriever               138\n",
       "Labrador_retriever              95\n",
       "Pembroke                        88\n",
       "Chihuahua                       79\n",
       "pug                             54\n",
       "chow                            41\n",
       "Samoyed                         40\n",
       "Pomeranian                      38\n",
       "toy_poodle                      38\n",
       "malamute                        29\n",
       "cocker_spaniel                  27\n",
       "French_bulldog                  26\n",
       "miniature_pinscher              22\n",
       "Chesapeake_Bay_retriever        22\n",
       "German_shepherd                 20\n",
       "Siberian_husky                  20\n",
       "Staffordshire_bullterrier       19\n",
       "Eskimo_dog                      18\n",
       "Maltese_dog                     18\n",
       "Shetland_sheepdog               18\n",
       "seat_belt                       18\n",
       "beagle                          17\n",
       "Shih-Tzu                        17\n",
       "teddy                           17\n",
       "Cardigan                        17\n",
       "Rottweiler                      17\n",
       "Lakeland_terrier                16\n",
       "Italian_greyhound               16\n",
       "kuvasz                          16\n",
       "West_Highland_white_terrier     14\n",
       "                              ... \n",
       "pillow                           1\n",
       "tricycle                         1\n",
       "teapot                           1\n",
       "long-horned_beetle               1\n",
       "bow                              1\n",
       "axolotl                          1\n",
       "park_bench                       1\n",
       "coral_reef                       1\n",
       "agama                            1\n",
       "common_iguana                    1\n",
       "goose                            1\n",
       "crash_helmet                     1\n",
       "cup                              1\n",
       "restaurant                       1\n",
       "comic_book                       1\n",
       "wool                             1\n",
       "china_cabinet                    1\n",
       "rapeseed                         1\n",
       "orange                           1\n",
       "snowmobile                       1\n",
       "swab                             1\n",
       "convertible                      1\n",
       "banana                           1\n",
       "cash_machine                     1\n",
       "bib                              1\n",
       "hippopotamus                     1\n",
       "wallaby                          1\n",
       "washer                           1\n",
       "boathouse                        1\n",
       "ram                              1\n",
       "Name: p1, Length: 300, dtype: int64"
      ]
     },
     "execution_count": 258,
     "metadata": {},
     "output_type": "execute_result"
    }
   ],
   "source": [
    "tweet_data['p1'].value_counts()"
   ]
  },
  {
   "cell_type": "code",
   "execution_count": 259,
   "metadata": {},
   "outputs": [],
   "source": [
    "top_likes.to_csv('top_likes.csv')\n",
    "low_likes.to_csv('low_likes.csv')"
   ]
  },
  {
   "cell_type": "code",
   "execution_count": 260,
   "metadata": {},
   "outputs": [],
   "source": [
    "top = tweet_data['favorite_count'].max()"
   ]
  },
  {
   "cell_type": "code",
   "execution_count": 261,
   "metadata": {},
   "outputs": [
    {
     "data": {
      "text/plain": [
       "80"
      ]
     },
     "execution_count": 261,
     "metadata": {},
     "output_type": "execute_result"
    }
   ],
   "source": [
    "tweet_data['favorite_count'].min()"
   ]
  },
  {
   "cell_type": "code",
   "execution_count": 262,
   "metadata": {},
   "outputs": [],
   "source": [
    "top_retweets = tweet_data.loc[tweet_data['retweet_count']>=np.percentile(tweet_data['retweet_count'],99)]"
   ]
  },
  {
   "cell_type": "code",
   "execution_count": 263,
   "metadata": {},
   "outputs": [
    {
     "data": {
      "text/plain": [
       "doggo     5\n",
       "puppo     1\n",
       "pupper    1\n",
       "Name: stage, dtype: int64"
      ]
     },
     "execution_count": 263,
     "metadata": {},
     "output_type": "execute_result"
    }
   ],
   "source": [
    "top_retweets['stage'].value_counts()"
   ]
  },
  {
   "cell_type": "code",
   "execution_count": 264,
   "metadata": {},
   "outputs": [
    {
     "data": {
      "text/plain": [
       "Stephan    1\n",
       "Sunny      1\n",
       "Duddles    1\n",
       "Hurley     1\n",
       "Bo         1\n",
       "Zoey       1\n",
       "Buddy      1\n",
       "Jamesy     1\n",
       "Kenneth    1\n",
       "Name: name, dtype: int64"
      ]
     },
     "execution_count": 264,
     "metadata": {},
     "output_type": "execute_result"
    }
   ],
   "source": [
    "top_retweets['name'].value_counts()"
   ]
  },
  {
   "cell_type": "code",
   "execution_count": 265,
   "metadata": {
    "scrolled": true
   },
   "outputs": [
    {
     "data": {
      "text/plain": [
       "Labrador_retriever    2\n",
       "golden_retriever      2\n",
       "prison                1\n",
       "toy_poodle            1\n",
       "French_bulldog        1\n",
       "bubble                1\n",
       "gondola               1\n",
       "cocker_spaniel        1\n",
       "Lakeland_terrier      1\n",
       "Angora                1\n",
       "English_springer      1\n",
       "standard_poodle       1\n",
       "swing                 1\n",
       "Arabian_camel         1\n",
       "Eskimo_dog            1\n",
       "chow                  1\n",
       "Chihuahua             1\n",
       "Name: p1, dtype: int64"
      ]
     },
     "execution_count": 265,
     "metadata": {},
     "output_type": "execute_result"
    }
   ],
   "source": [
    "top_retweets['p1'].value_counts()"
   ]
  },
  {
   "cell_type": "code",
   "execution_count": 267,
   "metadata": {},
   "outputs": [],
   "source": [
    "low_retweets = tweet_data.loc[tweet_data['retweet_count']<=np.percentile(tweet_data['retweet_count'],1)]"
   ]
  },
  {
   "cell_type": "code",
   "execution_count": 268,
   "metadata": {},
   "outputs": [
    {
     "data": {
      "text/plain": [
       "19"
      ]
     },
     "execution_count": 268,
     "metadata": {},
     "output_type": "execute_result"
    }
   ],
   "source": [
    "len(low_retweets)"
   ]
  },
  {
   "cell_type": "code",
   "execution_count": 269,
   "metadata": {},
   "outputs": [
    {
     "data": {
      "text/plain": [
       "Series([], Name: stage, dtype: int64)"
      ]
     },
     "execution_count": 269,
     "metadata": {},
     "output_type": "execute_result"
    }
   ],
   "source": [
    "low_retweets['stage'].value_counts()"
   ]
  },
  {
   "cell_type": "code",
   "execution_count": 270,
   "metadata": {},
   "outputs": [
    {
     "data": {
      "text/plain": [
       "Kallie        1\n",
       "Daryl         1\n",
       "Christoper    1\n",
       "Scout         1\n",
       "Keet          1\n",
       "Bloo          1\n",
       "Walter        1\n",
       "Name: name, dtype: int64"
      ]
     },
     "execution_count": 270,
     "metadata": {},
     "output_type": "execute_result"
    }
   ],
   "source": [
    "low_retweets['name'].value_counts()"
   ]
  },
  {
   "cell_type": "code",
   "execution_count": 271,
   "metadata": {
    "scrolled": true
   },
   "outputs": [
    {
     "data": {
      "text/plain": [
       "Chesapeake_Bay_retriever    2\n",
       "German_shepherd             2\n",
       "desktop_computer            1\n",
       "English_setter              1\n",
       "miniature_pinscher          1\n",
       "vizsla                      1\n",
       "curly-coated_retriever      1\n",
       "Chihuahua                   1\n",
       "crash_helmet                1\n",
       "Dandie_Dinmont              1\n",
       "web_site                    1\n",
       "redbone                     1\n",
       "pug                         1\n",
       "golden_retriever            1\n",
       "jigsaw_puzzle               1\n",
       "toy_terrier                 1\n",
       "black-and-tan_coonhound     1\n",
       "Name: p1, dtype: int64"
      ]
     },
     "execution_count": 271,
     "metadata": {},
     "output_type": "execute_result"
    }
   ],
   "source": [
    "low_retweets['p1'].value_counts()"
   ]
  },
  {
   "cell_type": "code",
   "execution_count": 275,
   "metadata": {},
   "outputs": [
    {
     "data": {
      "text/plain": [
       "(-0.53990276818508576, 1.5889639842083755e-138)"
      ]
     },
     "execution_count": 275,
     "metadata": {},
     "output_type": "execute_result"
    }
   ],
   "source": [
    "from scipy.stats.stats import pearsonr\n",
    "\n",
    "r = pearsonr(tweet_data['followers_count'], tweet_data['favorite_count'])\n",
    "r"
   ]
  },
  {
   "cell_type": "code",
   "execution_count": 273,
   "metadata": {},
   "outputs": [
    {
     "data": {
      "image/png": "[encoded data removed]",
      "text/plain": [
       "<matplotlib.figure.Figure at 0x7f867ee810f0>"
      ]
     },
     "metadata": {},
     "output_type": "display_data"
    }
   ],
   "source": [
    "fig= plt.figure()\n",
    "plt.scatter(tweet_data['followers_count'], tweet_data['favorite_count'], alpha = 0.25)\n",
    "\n",
    "\n",
    "plt.xlabel('number of followers')\n",
    "plt.ylabel('number of likes')\n",
    "plt.show()"
   ]
  },
  {
   "cell_type": "code",
   "execution_count": 65,
   "metadata": {},
   "outputs": [],
   "source": [
    "fig.savefig('likes_v_followers.png')"
   ]
  },
  {
   "cell_type": "markdown",
   "metadata": {},
   "source": [
    "There is moderate negative correlation between followers and likes"
   ]
  }
 ],
 "metadata": {
  "kernelspec": {
   "display_name": "Python 3",
   "language": "python",
   "name": "python3"
  },
  "language_info": {
   "codemirror_mode": {
    "name": "ipython",
    "version": 3
   },
   "file_extension": ".py",
   "mimetype": "text/x-python",
   "name": "python",
   "nbconvert_exporter": "python",
   "pygments_lexer": "ipython3",
   "version": "3.6.3"
  }
 },
 "nbformat": 4,
 "nbformat_minor": 2
}
